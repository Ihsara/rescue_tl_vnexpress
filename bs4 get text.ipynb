{
 "cells": [
  {
   "cell_type": "code",
   "execution_count": 9,
   "metadata": {},
   "outputs": [],
   "source": [
    "from bs4 import BeautifulSoup as bs \n",
    "import urllib \n",
    "import pandas as pd\n",
    "\n",
    "\n",
    "query_str = 'https://vnexpress.net/category/day/page/{}.html?cateid=1001002&fromdate=1529964000&todate=1531517760&allcate=1001002|1001002|'\n",
    "#query_str = \"https://vnexpress.net/chien-dich-giai-cuu/tag-810752-1.html\""
   ]
  },
  {
   "cell_type": "markdown",
   "metadata": {},
   "source": [
    "# Get some articles from 'World news' category from 26/6 to 14/7"
   ]
  },
  {
   "cell_type": "markdown",
   "metadata": {},
   "source": [
    "#### Return a bs object after extracting the articles from the webpage"
   ]
  },
  {
   "cell_type": "code",
   "execution_count": 10,
   "metadata": {},
   "outputs": [],
   "source": [
    "def get_articles(query):\n",
    "    return bs(urllib.request.urlopen(query), 'html.parser').find(\"section\", attrs={\"class\":\"sidebar_1\"}).find_all(\"article\",attrs={\"class\":\"list_news\"})"
   ]
  },
  {
   "cell_type": "markdown",
   "metadata": {},
   "source": [
    "#### Turn to a data object for processing"
   ]
  },
  {
   "cell_type": "code",
   "execution_count": 11,
   "metadata": {},
   "outputs": [],
   "source": [
    "def distribute_articles(articles, return_type='df'):      \n",
    "    article_dict = {'title': [],\n",
    "             'link': [],\n",
    "               'description': [],\n",
    "               'id' : []}\n",
    "    \n",
    "    for article in articles: \n",
    "        #article_dict['title'].append(article.a.get('title')) # if this does not work, use the one below\n",
    "        article_dict['title'].append(article.img.get('alt'))\n",
    "        article_dict['link'].append(article.a.get('href'))\n",
    "        article_dict['description'].append(article.h4.get_text())\n",
    "        article_dict['id'].append(article.a.get('href').split('-')[-1][:-5])\n",
    "    if return_type == 'df':  \n",
    "        return pd.DataFrame(data=article_dict)\n",
    "    \n",
    "    elif return_type == 'dict':\n",
    "        return article_dict "
   ]
  },
  {
   "cell_type": "markdown",
   "metadata": {},
   "source": [
    "#### This is where the real actions begin\n",
    "\n",
    "result will be the df containing basic info about the articles headlines in vnexpress from 26/6 to 12/7"
   ]
  },
  {
   "cell_type": "code",
   "execution_count": 12,
   "metadata": {},
   "outputs": [],
   "source": [
    "df_list = [] \n",
    "\n",
    "for page in range(1, 21): \n",
    "    page_url = query_str.format(str(page))\n",
    "    articles = get_articles(page_url)\n",
    "    df_list.append( distribute_articles(articles))\n",
    "    \n",
    "result = pd.concat(df_list).reset_index(drop=True)"
   ]
  },
  {
   "cell_type": "markdown",
   "metadata": {},
   "source": [
    "# Filter news with specified keywords"
   ]
  },
  {
   "cell_type": "code",
   "execution_count": 14,
   "metadata": {},
   "outputs": [],
   "source": [
    "kws = ['Thái Lan', 'đội bóng', 'Đội bóng', 'hang', 'mắc kẹt', 'thiếu niên']\n",
    "temp = []\n",
    "kw_filtered = [] \n",
    "\n",
    "for kw in kws: \n",
    "    for title in result.title: \n",
    "        if kw in title: \n",
    "            temp.append(title)\n",
    "    \n",
    "    kw_filtered.append(pd.concat([result[result.title == tmp] for tmp in temp])) \n",
    "    temp =[ ]#pd.DataFrame(columns = ['title', 'link','description','id']) \n",
    "\n",
    "filtered_result = pd.concat(kw_filtered).drop_duplicates().reset_index(drop = True)\n"
   ]
  },
  {
   "cell_type": "code",
   "execution_count": 16,
   "metadata": {},
   "outputs": [
    {
     "data": {
      "text/plain": [
       "'https://vnexpress.net/tin-tuc/the-gioi/phan-tich/cuoc-chien-9-ngay-voi-doi-khat-trong-hang-cua-cac-thieu-nien-thai-lan-3777228.html'"
      ]
     },
     "execution_count": 16,
     "metadata": {},
     "output_type": "execute_result"
    }
   ],
   "source": [
    "filtered_result.link[1]"
   ]
  },
  {
   "cell_type": "markdown",
   "metadata": {},
   "source": [
    "## Retrieving data from articles and store them in excel \n",
    "\n",
    "Data will be retrived and store in excel with this run\n",
    "\n",
    "### Testing on one article"
   ]
  },
  {
   "cell_type": "code",
   "execution_count": 22,
   "metadata": {},
   "outputs": [],
   "source": [
    "def get_article(query):\n",
    "    return bs(urllib.request.urlopen(query), 'html.parser').find(\"section\", attrs={\"class\":\"sidebar_1\"})"
   ]
  },
  {
   "cell_type": "code",
   "execution_count": 23,
   "metadata": {},
   "outputs": [],
   "source": [
    "test1 = get_article(filtered_result.link[1])"
   ]
  },
  {
   "cell_type": "code",
   "execution_count": 29,
   "metadata": {},
   "outputs": [
    {
     "data": {
      "text/plain": [
       "'https://vnexpress.net/tin-tuc/the-gioi/phan-tich/cuoc-chien-9-ngay-voi-doi-khat-trong-hang-cua-cac-thieu-nien-thai-lan-3777228.html'"
      ]
     },
     "execution_count": 29,
     "metadata": {},
     "output_type": "execute_result"
    }
   ],
   "source": [
    "filtered_result.link[1]"
   ]
  },
  {
   "cell_type": "markdown",
   "metadata": {},
   "source": [
    "#### How to get the published date: "
   ]
  },
  {
   "cell_type": "code",
   "execution_count": 27,
   "metadata": {},
   "outputs": [
    {
     "data": {
      "text/plain": [
       "['Thứ', 'sáu,', '13/7/2018,', '12:58', '(GMT+7)']"
      ]
     },
     "execution_count": 27,
     "metadata": {},
     "output_type": "execute_result"
    }
   ],
   "source": [
    "test1.span.get_text().split()"
   ]
  },
  {
   "cell_type": "markdown",
   "metadata": {},
   "source": [
    "#### How to get the title of this article:"
   ]
  },
  {
   "cell_type": "code",
   "execution_count": 36,
   "metadata": {},
   "outputs": [
    {
     "data": {
      "text/plain": [
       "'Cuộc chiến 9 ngày với đói khát trong hang của các thiếu niên Thái Lan'"
      ]
     },
     "execution_count": 36,
     "metadata": {},
     "output_type": "execute_result"
    }
   ],
   "source": [
    "filtered_result.title[1]"
   ]
  },
  {
   "cell_type": "markdown",
   "metadata": {},
   "source": [
    "#### How to get the short overview of this article:"
   ]
  },
  {
   "cell_type": "code",
   "execution_count": 37,
   "metadata": {},
   "outputs": [
    {
     "data": {
      "text/plain": [
       "'Nước chảy ra từ thạch nhũ trong hang và phương pháp thiền định đã giúp đội bóng Lợn Hoang sống sót trong 9 ngày đầu tiên mắc kẹt.'"
      ]
     },
     "execution_count": 37,
     "metadata": {},
     "output_type": "execute_result"
    }
   ],
   "source": [
    "test1.h2.get_text()"
   ]
  },
  {
   "cell_type": "markdown",
   "metadata": {},
   "source": [
    "#### Core of the article\n",
    "Note that at the end of it is the name of the author"
   ]
  },
  {
   "cell_type": "code",
   "execution_count": 53,
   "metadata": {},
   "outputs": [
    {
     "name": "stdout",
     "output_type": "stream",
     "text": [
      "\n",
      "\t12 thiếu niên và huấn luyện viên đội bóng Lợn Hoang hôm 10/7 đã được giải cứu thành công khỏi hang Tham Luang ở tỉnh Chiang Rai, miền bắc Thái Lan sau 18 ngày mắc kẹt, theo BBC.\n",
      "\n",
      "\tTrước khi được hai thợ lặn người Anh phát hiện đêm 2/7, các cậu bé và huấn luyện viên Ekkapol Chantawong đã làm mọi cách có thể để sống sót trong hang sâu tối tăm, ngập nước suốt 9 ngày, trong đó Ekkapol đóng vai trò rất quan trọng.\n",
      "\n",
      "\tTruyền thông Thái Lan ban đầu cho rằng đội Lợn Hoang vào hang Tham Luang để tổ chức sinh nhật lần thứ 17 cho Peerapat Sompiangjai, biệt danh Night, nên đã mua đồ ăn nhẹ mang vào. Những gói bánh này được xem là nguồn thực phẩm duy nhất giúp đội bóng cầm cự trong 9 ngày đầu tiên.\n",
      "\n",
      "\tTuy nhiên, Ikan Wiboonroongruang, 33 tuổi, mẹ của Chanintr, thành viên nhỏ tuổi nhất trong đội, kể trong cuộc gặp sau cửa kính cách ly ở bệnh viện, con trai nói với cô rằng nhóm chỉ định vào hang chơi một giờ và không mang theo đồ ăn.\n",
      "\n",
      "\t\"Sau ba đêm đầu tiên không có thức ăn, con trai tôi đói lả và khóc. Nó chỉ biết sống nhờ vào nguồn nước chảy ra từ thạch nhũ\", Ikan nói. \"Ban đêm rất lạnh và tối đen, lũ trẻ phải nằm rúc vào nhau để sưởi ấm. Huấn luyện viên bảo chúng phải thiền định để giảm cơn đói và bảo tồn năng lượng\", cô cho biết thêm.\n",
      "\n",
      "\tEkkapol cầm đèn pin tìm nguồn nước tại nơi nhóm đang trú ẩn. Nước chảy ra từ thạch nhũ trong hang là nguồn sống duy nhất của cả đội.\n",
      "\n",
      "\tChuẩn Đô đốc Arpakorn Yuukongkaew, người đứng đầu lực lượng đặc nhiệm Seal của Hải quân Thái Lan, cho biết sau khi được tìm thấy, nhóm được cung cấp \"thức ăn dễ tiêu hóa, giàu vitamin và khoáng chất dưới sự giám sát của bác sĩ\". \n",
      "\n",
      "\tĐáng chú ý, các bác sĩ điều trị cho nhóm được giải cứu nói rằng họ đều có sức khỏe tốt sau khi trải qua 9 ngày nhịn đói. \"Bọn trẻ đều khỏe mạnh và không bị căng thẳng. Trung bình mỗi cậu bé bị sút 2 kg\", Thongchai Lertwilairattanapong, thanh tra sở y tế Thái Lan cho biết. \n",
      "\n",
      "\tHạ thân nhiệt có thể là nguy cơ lớn đe dọa tính mạng khi con người ở dưới lòng đất, đặc biệt trong những hang động bị ngập nước. Trong hang Tham Luang, nhiệt độ thường được giữ ổn định, không xuống quá thấp để có thể gây nguy hiểm đến lũ trẻ.\n",
      "\n",
      "\tTuy nhiên, đội bóng thiếu niên vẫn thực hiện biện pháp đề phòng nguy cơ mất nhiệt. Đô đốc Arpakorn Yuukongkaew nói với BBC rằng theo ông hiểu, huấn luyện viên và các thiếu niên đã dùng đá khoét một lỗ sâu hơn 5 mét vào hang động để \"tạo ra một đường hầm giúp họ giữ ấm\". Sau khi tìm thấy nhóm, lực lượng cứu hộ đã mang chăn giữ nhiệt vào để giúp họ ổn định nhiệt độ cơ thể.\n",
      "\n",
      "\tThời gian đầu, không khí không phải là mối lo ngại khi con người bị mắc kẹt trong hang. \"Hầu hết mọi người đều thở một cách bình thường trong hang bởi không khí có thể lưu chuyển tới nhiều ngóc ngách\", Anmar Mirza, điều phối viên của Ủy ban Cứu nạn Hang động quốc gia Mỹ, cho biết.\n",
      "\n",
      "\tTuy nhiên, thời gian trôi đi, tại nơi đội bóng trú ẩn, mức oxy giảm còn 15%, trong khi mức oxy cho phép con người hô hấp bình thường là 21%. Cựu đặc nhiệm hải quân Thái Lan Saman Gunan đã thiệt mạng trong khi hỗ trợ mang bình dưỡng khí vào cho nhóm.\n",
      "\n",
      "\tMối quan tâm lớn nhất sau chiến dịch giải cứu là sức khỏe tinh thần của nhóm thiếu niên và huấn luyện viên. Họ đã trải qua những ngày sống trong hang tối đen, không có bất kỳ nhận thức nào về thời gian hay nỗ lực tìm kiếm bên ngoài. Trong hoàn cảnh đó, Ekkapol đã giúp các cậu bé vượt qua nỗi sợ hãi, lo âu bằng kinh nghiệm thiền định của mình.\n",
      "\n",
      "\tĐô đốc Yuukongkaew cho biết Ekkapol đã bình tĩnh hướng dẫn lũ trẻ cách thiền định để vượt qua cơn đói, bảo tồn năng lượng và đảm bảo họ sử dụng \"càng ít không khí càng tốt\".\n",
      "\n",
      "\tNgoài ra, đội bóng còn có một số lợi thế là tuổi trẻ và tinh thần đoàn kết của nhóm. \"Thanh thiếu niên thích giao tiếp với người xung quanh, việc có bạn bè và huấn luyện viên ở bên khiến các em cảm thấy yên tâm hơn\", David Spiegel, giáo sư Đại học Stanford, cho biết. Đội bóng nhí là một nhóm thân thiết đã nhiều lần phiêu lưu cùng nhau như tắm thác, đạp xe trên đường núi, đi bè trên sông và khám phá hang động.\n",
      "\n",
      "\tĐội bóng được giải cứu đang được điều trị tại bệnh viện Chiang Rai. Các đánh giá thể chất và tinh thần của họ đều có kết quả tích cực. Chính quyền, gia đình và trường học đều đang cố gắng tạo điều kiện tốt nhất để \"những chú Lợn Hoang\" sớm trở lại cuộc sống bình thường.\n",
      "\n",
      "Huyền Lê\n"
     ]
    }
   ],
   "source": [
    "for text in test1.find_all('p', attrs={'class':'Normal'}):\n",
    "    print(text.get_text())"
   ]
  },
  {
   "cell_type": "markdown",
   "metadata": {},
   "source": [
    "#### Author of this article can also be retrieved by query for 'strong' tag "
   ]
  },
  {
   "cell_type": "code",
   "execution_count": 55,
   "metadata": {},
   "outputs": [
    {
     "data": {
      "text/plain": [
       "'Huyền Lê'"
      ]
     },
     "execution_count": 55,
     "metadata": {},
     "output_type": "execute_result"
    }
   ],
   "source": [
    "test1.strong.get_text()"
   ]
  },
  {
   "cell_type": "markdown",
   "metadata": {},
   "source": [
    "#### Getting multi-media links in the article \n",
    "\n",
    "Save up for future usage\n",
    "\n",
    "##### Video"
   ]
  },
  {
   "cell_type": "code",
   "execution_count": 81,
   "metadata": {},
   "outputs": [
    {
     "data": {
      "text/plain": [
       "[<video active-mode=\"360\" ads=\"https://g.eclick.vn/video.xml?id=3457&amp;url=https://vnexpress.net/tin-tuc/the-gioi/phan-tich/cuoc-chien-9-ngay-voi-doi-khat-trong-hang-cua-cac-thieu-nien-thai-lan-3777228.html\" adsconfig=\"\" controls=\"\" data-240=\"https://v.vnecdn.net/vnexpress/video/web/mp4/240p/2018/07/11/cac-cau-thu-nhi-thai-lan-vay-tay-chao-tren-guong-benh-1531316902.mp4\" data-360=\"https://v.vnecdn.net/vnexpress/video/web/mp4/2018/07/11/cac-cau-thu-nhi-thai-lan-vay-tay-chao-tren-guong-benh-1531316902.mp4\" data-480=\"\" data-720=\"\" data-ex=\"st=0&amp;bs=0&amp;pt=0\" data-src=\"https://v.vnecdn.net/vnexpress/video/web/mp4/2018/07/11/cac-cau-thu-nhi-thai-lan-vay-tay-chao-tren-guong-benh-1531316902.mp4\" id=\"media-video-211027\" max-mode=\"360\" playsinline=\"\" preload=\"auto\" src=\"https://d.vnecdn.net/vnexpress/video/video/web/mp4/,240p,,/2018/07/11/cac-cau-thu-nhi-thai-lan-vay-tay-chao-tren-guong-benh-1531316902/vne/master.m3u8\" style=\"width: 100%; height: 100%;\" type=\"application/x-mpegURL\" webkit-playsinline=\"\"></video>,\n",
       " <video active-mode=\"360\" ads=\"https://g.eclick.vn/video.xml?id=3457&amp;url=https://vnexpress.net/tin-tuc/the-gioi/phan-tich/cuoc-chien-9-ngay-voi-doi-khat-trong-hang-cua-cac-thieu-nien-thai-lan-3777228.html\" adsconfig=\"\" controls=\"\" data-240=\"https://v.vnecdn.net/vnexpress/video/web/mp4/240p/2018/07/12/doi-bong-nhi-thai-khong-tu-lan-ma-nam-tren-cang-trong-qua-tr-1531352483.mp4\" data-360=\"https://v.vnecdn.net/vnexpress/video/web/mp4/2018/07/12/doi-bong-nhi-thai-khong-tu-lan-ma-nam-tren-cang-trong-qua-tr-1531352483.mp4\" data-480=\"\" data-720=\"\" data-ex=\"st=0&amp;bs=0&amp;pt=0\" data-src=\"https://v.vnecdn.net/vnexpress/video/web/mp4/2018/07/12/doi-bong-nhi-thai-khong-tu-lan-ma-nam-tren-cang-trong-qua-tr-1531352483.mp4\" id=\"media-video-211045\" max-mode=\"360\" playsinline=\"\" preload=\"auto\" src=\"https://d.vnecdn.net/vnexpress/video/video/web/mp4/,240p,,/2018/07/12/doi-bong-nhi-thai-khong-tu-lan-ma-nam-tren-cang-trong-qua-tr-1531352483/vne/master.m3u8\" style=\"width: 100%; height: 100%;\" type=\"application/x-mpegURL\" webkit-playsinline=\"\"></video>]"
      ]
     },
     "execution_count": 81,
     "metadata": {},
     "output_type": "execute_result"
    }
   ],
   "source": [
    "test1.find_all('video')"
   ]
  },
  {
   "cell_type": "code",
   "execution_count": 77,
   "metadata": {},
   "outputs": [
    {
     "data": {
      "text/plain": [
       "{'id': 'media-video-211027',\n",
       " 'preload': 'auto',\n",
       " 'playsinline': '',\n",
       " 'webkit-playsinline': '',\n",
       " 'data-src': 'https://v.vnecdn.net/vnexpress/video/web/mp4/2018/07/11/cac-cau-thu-nhi-thai-lan-vay-tay-chao-tren-guong-benh-1531316902.mp4',\n",
       " 'src': 'https://d.vnecdn.net/vnexpress/video/video/web/mp4/,240p,,/2018/07/11/cac-cau-thu-nhi-thai-lan-vay-tay-chao-tren-guong-benh-1531316902/vne/master.m3u8',\n",
       " 'type': 'application/x-mpegURL',\n",
       " 'controls': '',\n",
       " 'style': 'width: 100%; height: 100%;',\n",
       " 'data-240': 'https://v.vnecdn.net/vnexpress/video/web/mp4/240p/2018/07/11/cac-cau-thu-nhi-thai-lan-vay-tay-chao-tren-guong-benh-1531316902.mp4',\n",
       " 'data-360': 'https://v.vnecdn.net/vnexpress/video/web/mp4/2018/07/11/cac-cau-thu-nhi-thai-lan-vay-tay-chao-tren-guong-benh-1531316902.mp4',\n",
       " 'data-480': '',\n",
       " 'data-720': '',\n",
       " 'max-mode': '360',\n",
       " 'active-mode': '360',\n",
       " 'ads': 'https://g.eclick.vn/video.xml?id=3457&url=https://vnexpress.net/tin-tuc/the-gioi/phan-tich/cuoc-chien-9-ngay-voi-doi-khat-trong-hang-cua-cac-thieu-nien-thai-lan-3777228.html',\n",
       " 'adsconfig': '',\n",
       " 'data-ex': 'st=0&bs=0&pt=0'}"
      ]
     },
     "execution_count": 77,
     "metadata": {},
     "output_type": "execute_result"
    }
   ],
   "source": [
    "test1.video.attrs"
   ]
  },
  {
   "cell_type": "markdown",
   "metadata": {},
   "source": [
    "##### Main src to take for video"
   ]
  },
  {
   "cell_type": "code",
   "execution_count": 78,
   "metadata": {},
   "outputs": [
    {
     "data": {
      "text/plain": [
       "'https://v.vnecdn.net/vnexpress/video/web/mp4/2018/07/11/cac-cau-thu-nhi-thai-lan-vay-tay-chao-tren-guong-benh-1531316902.mp4'"
      ]
     },
     "execution_count": 78,
     "metadata": {},
     "output_type": "execute_result"
    }
   ],
   "source": [
    "test1.video['data-src']"
   ]
  },
  {
   "cell_type": "markdown",
   "metadata": {},
   "source": [
    "##### Images"
   ]
  },
  {
   "cell_type": "code",
   "execution_count": 80,
   "metadata": {},
   "outputs": [
    {
     "data": {
      "text/plain": [
       "[<img alt=\"Đội bóng Lợn Hoang trong một chuyến dã ngoại trước khi gặp nạn trong hang Tham Luang. Ảnh: Twitter.\" data-natural-width=\"500\" src=\"https://vcdn-vnexpress.vnecdn.net/2018/07/13/anh-1-3184-1531458767.jpg\"/>,\n",
       " <img alt=\"Các thiếu niên trú ngụ trên một mỏm đá trong hang khi được thợ lặn Anh phát hiện đêm 2/7. Ảnh: Hải quân Thái Lan.\" data-natural-width=\"500\" src=\"https://vcdn-vnexpress.vnecdn.net/2018/07/13/anh-2-9044-1531458767.jpg\"/>,\n",
       " <img alt=\"Các cầu thủ nhí Thái Lan vẫy tay chào trên gường bệnh \" src=\"https://iv.vnecdn.net/vnexpress/images/web/2018/07/11/cac-cau-thu-nhi-thai-lan-vay-tay-chao-tren-guong-benh-1531316902_500x300.jpg\"/>,\n",
       " <img alt=\"Đội bóng nhí Thái không tự lặn mà nằm trên cáng trong quá trình giải cứu\" src=\"https://iv.vnecdn.net/vnexpress/images/web/2018/07/12/doi-bong-nhi-thai-khong-tu-lan-ma-nam-tren-cang-trong-qua-tr-1531352483_500x300.jpg\"/>]"
      ]
     },
     "execution_count": 80,
     "metadata": {},
     "output_type": "execute_result"
    }
   ],
   "source": [
    "test1.find_all('img')"
   ]
  },
  {
   "cell_type": "code",
   "execution_count": 83,
   "metadata": {},
   "outputs": [
    {
     "name": "stdout",
     "output_type": "stream",
     "text": [
      "Image name: Đội bóng Lợn Hoang trong một chuyến dã ngoại trước khi gặp nạn trong hang Tham Luang. Ảnh: Twitter., src: https://vcdn-vnexpress.vnecdn.net/2018/07/13/anh-1-3184-1531458767.jpg\n",
      "Image name: Các thiếu niên trú ngụ trên một mỏm đá trong hang khi được thợ lặn Anh phát hiện đêm 2/7. Ảnh: Hải quân Thái Lan., src: https://vcdn-vnexpress.vnecdn.net/2018/07/13/anh-2-9044-1531458767.jpg\n",
      "Image name: Các cầu thủ nhí Thái Lan vẫy tay chào trên gường bệnh , src: https://iv.vnecdn.net/vnexpress/images/web/2018/07/11/cac-cau-thu-nhi-thai-lan-vay-tay-chao-tren-guong-benh-1531316902_500x300.jpg\n",
      "Image name: Đội bóng nhí Thái không tự lặn mà nằm trên cáng trong quá trình giải cứu, src: https://iv.vnecdn.net/vnexpress/images/web/2018/07/12/doi-bong-nhi-thai-khong-tu-lan-ma-nam-tren-cang-trong-qua-tr-1531352483_500x300.jpg\n"
     ]
    }
   ],
   "source": [
    "for image in test1.find_all('img'): \n",
    "    print(\"Image name: {}, src: {}\".format(image['alt'], image['src']))"
   ]
  },
  {
   "cell_type": "code",
   "execution_count": null,
   "metadata": {},
   "outputs": [],
   "source": []
  }
 ],
 "metadata": {
  "kernelspec": {
   "display_name": "Python 3",
   "language": "python",
   "name": "python3"
  },
  "language_info": {
   "codemirror_mode": {
    "name": "ipython",
    "version": 3
   },
   "file_extension": ".py",
   "mimetype": "text/x-python",
   "name": "python",
   "nbconvert_exporter": "python",
   "pygments_lexer": "ipython3",
   "version": "3.6.5"
  }
 },
 "nbformat": 4,
 "nbformat_minor": 2
}
