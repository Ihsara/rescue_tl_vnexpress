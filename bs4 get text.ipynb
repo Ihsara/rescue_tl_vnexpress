{
 "cells": [
  {
   "cell_type": "code",
   "execution_count": 1,
   "metadata": {},
   "outputs": [],
   "source": [
    "from bs4 import BeautifulSoup as bs \n",
    "import urllib \n",
    "import pandas as pd\n",
    "\n",
    "\n",
    "query_str = 'https://vnexpress.net/category/day/page/{}.html?cateid=1001002&fromdate=1529964000&todate=1531517760&allcate=1001002|1001002|'\n",
    "#query_str = \"https://vnexpress.net/chien-dich-giai-cuu/tag-810752-1.html\""
   ]
  },
  {
   "cell_type": "markdown",
   "metadata": {},
   "source": [
    "# Get some articles from 'World news' category from 26/6 to 14/7"
   ]
  },
  {
   "cell_type": "markdown",
   "metadata": {},
   "source": [
    "#### Return a bs object after extracting the articles from the webpage"
   ]
  },
  {
   "cell_type": "code",
   "execution_count": 2,
   "metadata": {},
   "outputs": [],
   "source": [
    "def get_articles(query):\n",
    "    return bs(urllib.request.urlopen(query), 'html.parser').find(\"section\", attrs={\"class\":\"sidebar_1\"}).find_all(\"article\",attrs={\"class\":\"list_news\"})"
   ]
  },
  {
   "cell_type": "markdown",
   "metadata": {},
   "source": [
    "#### Turn to a data object for processing"
   ]
  },
  {
   "cell_type": "code",
   "execution_count": 3,
   "metadata": {},
   "outputs": [],
   "source": [
    "def distribute_articles(articles, return_type='df'):      \n",
    "    article_dict = {'title': [],\n",
    "             'link': [],\n",
    "               'description': [],\n",
    "               'id' : []}\n",
    "    \n",
    "    for article in articles: \n",
    "        #article_dict['title'].append(article.a.get('title')) # if this does not work, use the one below\n",
    "        article_dict['title'].append(article.img.get('alt'))\n",
    "        article_dict['link'].append(article.a.get('href'))\n",
    "        article_dict['description'].append(article.h4.get_text())\n",
    "        article_dict['id'].append(article.a.get('href').split('-')[-1][:-5])\n",
    "    if return_type == 'df':  \n",
    "        return pd.DataFrame(data=article_dict)\n",
    "    \n",
    "    elif return_type == 'dict':\n",
    "        return article_dict "
   ]
  },
  {
   "cell_type": "markdown",
   "metadata": {},
   "source": [
    "#### This is where the real actions begin\n",
    "\n",
    "result will be the df containing basic info about the articles headlines in vnexpress from 26/6 to 12/7"
   ]
  },
  {
   "cell_type": "code",
   "execution_count": 4,
   "metadata": {},
   "outputs": [],
   "source": [
    "df_list = [] \n",
    "\n",
    "for page in range(1, 21): \n",
    "    page_url = query_str.format(str(page))\n",
    "    articles = get_articles(page_url)\n",
    "    df_list.append( distribute_articles(articles))\n",
    "    \n",
    "result = pd.concat(df_list).reset_index(drop=True)"
   ]
  },
  {
   "cell_type": "markdown",
   "metadata": {},
   "source": [
    "# Filter news with specified keywords"
   ]
  },
  {
   "cell_type": "code",
   "execution_count": 5,
   "metadata": {},
   "outputs": [],
   "source": [
    "kws = ['Thái Lan', 'đội bóng', 'Đội bóng', 'hang', 'mắc kẹt', 'thiếu niên']\n",
    "temp = []\n",
    "kw_filtered = [] \n",
    "\n",
    "for kw in kws: \n",
    "    for title in result.title: \n",
    "        if kw in title: \n",
    "            temp.append(title)\n",
    "    \n",
    "    kw_filtered.append(pd.concat([result[result.title == tmp] for tmp in temp])) \n",
    "    temp =[ ]#pd.DataFrame(columns = ['title', 'link','description','id']) \n",
    "\n",
    "filtered_result = pd.concat(kw_filtered).drop_duplicates().reset_index(drop = True)\n"
   ]
  },
  {
   "cell_type": "code",
   "execution_count": 6,
   "metadata": {},
   "outputs": [
    {
     "data": {
      "text/plain": [
       "'https://vnexpress.net/tin-tuc/the-gioi/phan-tich/cuoc-chien-9-ngay-voi-doi-khat-trong-hang-cua-cac-thieu-nien-thai-lan-3777228.html'"
      ]
     },
     "execution_count": 6,
     "metadata": {},
     "output_type": "execute_result"
    }
   ],
   "source": [
    "filtered_result.link[1]"
   ]
  },
  {
   "cell_type": "code",
   "execution_count": 21,
   "metadata": {},
   "outputs": [
    {
     "name": "stdout",
     "output_type": "stream",
     "text": [
      "0    Những thợ lặn thành anh em sau chiến dịch giải...\n",
      "Name: title, dtype: object\n",
      "1    Cuộc chiến 9 ngày với đói khát trong hang của ...\n",
      "Name: title, dtype: object\n",
      "2    Giải đáp những câu hỏi trong cuộc giải cứu đội...\n",
      "Name: title, dtype: object\n",
      "3    Hành trình đưa tin giải cứu đội bóng nhí Thái ...\n",
      "Name: title, dtype: object\n",
      "4    Thiếu niên Thái Lan nói không mang theo đồ ăn ...\n",
      "Name: title, dtype: object\n",
      "5    Thợ lặn Anh phát hiện đội bóng nhí Thái Lan kh...\n",
      "Name: title, dtype: object\n",
      "6    Thái Lan cân nhắc cấp quốc tịch cho 4 thành vi...\n",
      "Name: title, dtype: object\n",
      "7    Bác sĩ Australia giải cứu thiếu niên Thái Lan ...\n",
      "Name: title, dtype: object\n",
      "8    Cuộc đoàn tụ gia đình qua cửa kính của cậu bé ...\n",
      "Name: title, dtype: object\n",
      "9    Lý do các thiếu niên Thái Lan phải nằm cáng kh...\n",
      "Name: title, dtype: object\n",
      "10    Trung Quốc giận dữ vì bình luận của Phó thủ tư...\n",
      "Name: title, dtype: object\n",
      "11    Các thiếu niên Thái Lan lần đầu xuất hiện sau ...\n",
      "Name: title, dtype: object\n",
      "12    Đội bóng Lợn Hoang xin cấp quốc tịch Thái Lan ...\n",
      "Name: title, dtype: object\n",
      "13    Đội bóng nhí Thái Lan được theo dõi tâm lý tro...\n",
      "Name: title, dtype: object\n",
      "14    Ngày giải cứu cuối cùng đội bóng nhí Thái Lan\n",
      "Name: title, dtype: object\n",
      "15    Toàn cảnh chiến dịch giải cứu các thiếu niên T...\n",
      "Name: title, dtype: object\n",
      "16    18 ngày thực hiện 'nhiệm vụ bất khả thi' giải ...\n",
      "Name: title, dtype: object\n",
      "17    Tình cảm huấn luyện viên dành cho đội bóng nhí...\n",
      "Name: title, dtype: object\n",
      "18    Những thợ lặn góp sức cho chiến dịch giải cứu ...\n",
      "Name: title, dtype: object\n",
      "19    Đặc nhiệm SEAL Thái Lan suýt kẹt lại hang vì m...\n",
      "Name: title, dtype: object\n",
      "20    Cuộc sống nghèo khó, không quốc tịch của cậu b...\n",
      "Name: title, dtype: object\n",
      "21    Manchester United mời đội bóng nhí Thái Lan sa...\n",
      "Name: title, dtype: object\n",
      "22    Lãnh đạo thế giới chúc mừng Thái Lan giải cứu ...\n",
      "Name: title, dtype: object\n",
      "23    Việt Nam chúc mừng Thái Lan giải cứu thành côn...\n",
      "Name: title, dtype: object\n",
      "24    Thợ lặn tham gia giải cứu: Đội bóng nhí Thái L...\n",
      "Name: title, dtype: object\n",
      "25    Công ty Mỹ giúp vẽ bản đồ hang các thiếu niên ...\n",
      "Name: title, dtype: object\n",
      "26    Toàn bộ đội bóng nhí Thái Lan đã được cứu\n",
      "Name: title, dtype: object\n",
      "27    Đội bóng nhí Thái Lan dễ bất tỉnh khi được cứu...\n",
      "Name: title, dtype: object\n",
      "28    Mỹ điều 43 nhân viên quân sự tham gia cứu thiế...\n",
      "Name: title, dtype: object\n",
      "29    Cách thợ lặn đưa các thiếu niên Thái Lan qua k...\n",
      "Name: title, dtype: object\n",
      "30    Thái Lan triển khai chiến dịch cuối giải cứu đ...\n",
      "Name: title, dtype: object\n",
      "31    Những thợ lặn 'liều cả tính mạng' cứu các thiế...\n",
      "Name: title, dtype: object\n",
      "32    Người chơi xổ số Thái Lan tìm vận may từ các t...\n",
      "Name: title, dtype: object\n",
      "33    Lý do 8 thiếu niên Thái Lan bị cách ly sau khi...\n",
      "Name: title, dtype: object\n",
      "34    Diễn biến 15 ngày giải cứu các thiếu niên Thái...\n",
      "Name: title, dtype: object\n",
      "35    Ngày giải cứu thứ hai đội bóng nhí Thái Lan\n",
      "Name: title, dtype: object\n",
      "36    Elon Musk vào hang Tham Luang khi mang tàu ngầ...\n",
      "Name: title, dtype: object\n",
      "37    Huấn luyện viên Thái Lan có thể ra khỏi hang s...\n",
      "Name: title, dtype: object\n",
      "38    Thế giới ngày 10/7: 5 người còn kẹt trong hang...\n",
      "Name: title, dtype: object\n",
      "39    4 bé trai kẹt trong hang Thái Lan đeo mặt nạ l...\n",
      "Name: title, dtype: object\n",
      "40    4 thiếu niên đầu tiên được cứu khỏi hang Thái ...\n",
      "Name: title, dtype: object\n",
      "41    Sức mạnh tình người trong cuộc giải cứu các th...\n",
      "Name: title, dtype: object\n",
      "42    8 bé được cứu khỏi hang Thái Lan, ngày cứu hộ ...\n",
      "Name: title, dtype: object\n",
      "43    Thái Lan đổ lỗi vụ chìm tàu du lịch cho chủ to...\n",
      "Name: title, dtype: object\n",
      "44    Ngách hang tử thần thợ lặn phải vượt qua để cứ...\n",
      "Name: title, dtype: object\n",
      "45    Nhóm thiếu niên Thái Lan thứ hai đã vượt qua n...\n",
      "Name: title, dtype: object\n",
      "46    Cựu binh Mỹ nói việc giải cứu thiếu niên Thái ...\n",
      "Name: title, dtype: object\n",
      "47    15 ngày giải cứu đội bóng nhí Thái Lan khỏi mê...\n",
      "Name: title, dtype: object\n",
      "48    Những nguy hiểm rình rập thiếu niên Thái Lan c...\n",
      "Name: title, dtype: object\n",
      "49    Hành trình gian nan thoát khỏi hang của đội bó...\n",
      "Name: title, dtype: object\n",
      "50    Trường Thái Lan cầu nguyện cho các cậu bé mắc ...\n",
      "Name: title, dtype: object\n",
      "51    Bác sĩ tham gia quyết định phương án giải cứu ...\n",
      "Name: title, dtype: object\n",
      "52    Thợ lặn chật vật luồn lách trong hang thiếu ni...\n",
      "Name: title, dtype: object\n",
      "53    Thái Lan họp bàn kế hoạch mới giải cứu 9 người...\n",
      "Name: title, dtype: object\n",
      "54    Nhóm thiếu niên Thái Lan được giải cứu khỏi ha...\n",
      "Name: title, dtype: object\n",
      "55    Báo Thái Lan đưa tin huấn luyện viên đã được c...\n",
      "Name: title, dtype: object\n",
      "56    Elon Musk điều tàu ngầm mini đến Thái Lan để g...\n",
      "Name: title, dtype: object\n",
      "57    4 em nhỏ Thái Lan thoát khỏi hang sẽ được kiểm...\n",
      "Name: title, dtype: object\n",
      "58    4 thiếu niên Thái Lan mắc kẹt đã rời khỏi hang...\n",
      "Name: title, dtype: object\n",
      "59    Huấn luyện viên Thái Lan sẽ thuộc nhóm rời han...\n",
      "Name: title, dtype: object\n",
      "60    Cuộc giải cứu đội bóng nhí Thái Lan sẽ kéo dài...\n",
      "Name: title, dtype: object\n",
      "61    Huấn luyện viên Thái Lan bị kẹt trong hang từn...\n",
      "Name: title, dtype: object\n",
      "62    Thái Lan sơ tán hiện trường, bắt đầu giải cứu ...\n",
      "Name: title, dtype: object\n",
      "63    Mưa lớn tại khu vực đội bóng nhí Thái Lan mắc kẹt\n",
      "Name: title, dtype: object\n",
      "64    Mức oxy thấp có thể ảnh hưởng đội bóng nhí Thá...\n",
      "Name: title, dtype: object\n",
      "65    Nhà xác bệnh viện Thái Lan quá tải sau vụ chìm...\n",
      "Name: title, dtype: object\n",
      "66    Bố mẹ cầu thủ nhí Thái Lan mắc kẹt không trách...\n",
      "Name: title, dtype: object\n",
      "67    Thái Lan có thể bắt đầu giải cứu đội bóng nhí ...\n",
      "Name: title, dtype: object\n",
      "68    41 người chết trong vụ chìm tàu ở Thái Lan, 15...\n",
      "Name: title, dtype: object\n",
      "69    Sao bóng đá thế giới cổ vũ tinh thần các cầu t...\n",
      "Name: title, dtype: object\n",
      "70    Thái Lan đang có điều kiện thuận lợi nhất để g...\n",
      "Name: title, dtype: object\n",
      "71    Đội bóng nhí Thái Lan gửi thư ra ngoài trấn an...\n",
      "Name: title, dtype: object\n",
      "72    Thợ săn tổ yến tìm kiếm lối thoát khác cho đội...\n",
      "Name: title, dtype: object\n",
      "73    Thế giới ngày 7/7: Đội bóng nhí Thái Lan chưa ...\n",
      "Name: title, dtype: object\n",
      "74    Từng gương mặt của đội bóng nhí Thái Lan mắc k...\n",
      "Name: title, dtype: object\n",
      "75    Thợ lặn nói đánh thuốc mê là cách dễ nhất cứu ...\n",
      "Name: title, dtype: object\n",
      "76    Thái Lan đưa thi hài đặc nhiệm tử nạn trong ha...\n",
      "Name: title, dtype: object\n",
      "77    Nhiệt huyết của cựu đặc nhiệm tử nạn khi cứu đ...\n",
      "Name: title, dtype: object\n",
      "78    Cậu bé giỏi tiếng Anh của đội bóng nhí Thái La...\n",
      "Name: title, dtype: object\n",
      "79    40 người thiệt mạng trong vụ chìm tàu ở Thái Lan\n",
      "Name: title, dtype: object\n",
      "80    Phát hiện đường hầm có thể dẫn tới nơi đội bón...\n",
      "Name: title, dtype: object\n",
      "81    Kinh nghiệm thiền của huấn luyện viên giúp đội...\n",
      "Name: title, dtype: object\n",
      "82    Hàng chục khách Trung Quốc có thể mắc kẹt tron...\n",
      "Name: title, dtype: object\n",
      "83    Đội bóng nhí Thái Lan mắc kẹt hỏi kết quả Worl...\n",
      "Name: title, dtype: object\n",
      "84    Thế giới ngày 6/7: Đội bóng nhí Thái Lan chưa ...\n",
      "Name: title, dtype: object\n",
      "85    Máy bay Thái Lan rơi xuống biên giới giáp Myan...\n",
      "Name: title, dtype: object\n",
      "86    Có thể tồn tại lối thoát bí mật cho đội bóng n...\n",
      "Name: title, dtype: object\n",
      "87    Thách thức của ba phương án giải cứu đội bóng ...\n",
      "Name: title, dtype: object\n",
      "88    Thái Lan tìm đường ngắn hơn tới nơi đội bóng n...\n",
      "Name: title, dtype: object\n",
      "89    Đường thoát khỏi hang của đội bóng nhí Thái Lan\n",
      "Name: title, dtype: object\n",
      "90    Cấu trúc phức tạp của hang động đội bóng nhí T...\n",
      "Name: title, dtype: object\n",
      "91    Hành trình tìm kiếm đội bóng nhí Thái Lan kẹt ...\n",
      "Name: title, dtype: object\n",
      "92    Ba phương án giải cứu đội bóng nhí Thái Lan kh...\n",
      "Name: title, dtype: object\n",
      "93    Đội bóng nhí Thái Lan có thể lặn ra ngoài như ...\n",
      "Name: title, dtype: object\n",
      "94    Cuộc giải cứu đội bóng nhí Thái Lan trong mưa ...\n",
      "Name: title, dtype: object\n",
      "95    Những nguy hiểm khi đưa đội bóng nhí Thái Lan ...\n",
      "Name: title, dtype: object\n",
      "96    Thái Lan cử 31 người nhái cứu hộ đội bóng nhí ...\n",
      "Name: title, dtype: object\n",
      "97    Thái Lan bắt giữ 9.400 người cá độ bóng đá mùa...\n",
      "Name: title, dtype: object\n",
      "98    Thái Lan chặn hai con suối trút nước vào hang ...\n",
      "Name: title, dtype: object\n",
      "99    Lý do đội bóng nhí Thái Lan sống sót suốt 9 ng...\n",
      "Name: title, dtype: object\n",
      "100    Quốc vương Thái Lan hối thúc giải cứu đội bóng...\n",
      "Name: title, dtype: object\n",
      "101    Hang Thái Lan có thể trở thành điểm đến hút kh...\n",
      "Name: title, dtype: object\n",
      "102    Hành trình tới nơi đội bóng nhí Thái Lan mắc k...\n",
      "Name: title, dtype: object\n",
      "103    Đội bóng nhí Thái Lan bắt đầu học lặn\n",
      "Name: title, dtype: object\n",
      "104    Nỗi ám ảnh cầu thủ nhí Thái Lan có thể gặp khi...\n",
      "Name: title, dtype: object\n",
      "105    Huấn luyện viên đội bóng nhí Thái Lan mắc kẹt ...\n",
      "Name: title, dtype: object\n",
      "106    Lý do khiến đội bóng nhí Thái Lan vào hang sâ...\n",
      "Name: title, dtype: object\n",
      "107    Gia đình cầu thủ nhí Thái Lan mắc kẹt trong ha...\n",
      "Name: title, dtype: object\n",
      "108    Những thợ lặn làm nên phép màu trong cuộc tìm ...\n",
      "Name: title, dtype: object\n",
      "109    Bác sĩ quân y Thái Lan tình nguyện ở lại hang ...\n",
      "Name: title, dtype: object\n",
      "110    Mất bao lâu để đưa đội bóng nhí Thái Lan ra kh...\n",
      "Name: title, dtype: object\n",
      "111    Không khí 'như gia đình' tại nơi giải cứu đội ...\n",
      "Name: title, dtype: object\n",
      "112    Đội bóng nhí Thái Lan uống nước từ thạch nhũ đ...\n",
      "Name: title, dtype: object\n",
      "113    Đội bóng nhí Thái Lan cười lạc quan khi chờ đư...\n",
      "Name: title, dtype: object\n",
      "114    Hiểm họa đe dọa tính mạng đội bóng nhí Thái La...\n",
      "Name: title, dtype: object\n",
      "115    Thế giới ngày 4/7: Thái Lan đẩy nhanh giải cứu...\n",
      "Name: title, dtype: object\n",
      "116    Huyền thoại về hang đá nơi đội bóng nhí Thái L...\n",
      "Name: title, dtype: object\n",
      "117    Đội bóng nhí Thái Lan có thể phải điều trị tâm...\n",
      "Name: title, dtype: object\n",
      "118    9 ngày khoét hang, vượt lũ cứu đội bóng nhí Th...\n",
      "Name: title, dtype: object\n",
      "119    Đội đặc nhiệm SEAL Thái Lan trong chiến dịch t...\n",
      "Name: title, dtype: object\n",
      "120    Thợ lặn Anh đầu tiên tìm thấy đội bóng nhí Thá...\n",
      "Name: title, dtype: object\n",
      "121    Đội bóng nhí Thái Lan sẽ được học lặn để thoát...\n",
      "Name: title, dtype: object\n",
      "122    Thế giới ngày 3/7: Khoảnh khắc tìm thấy đội bó...\n",
      "Name: title, dtype: object\n",
      "123    Đội bóng Thái Lan mất tích 9 ngày trong hang c...\n",
      "Name: title, dtype: object\n",
      "124    Đặc nhiệm Thái Lan mở đường vào khoang ngầm nơ...\n",
      "Name: title, dtype: object\n",
      "125    Thợ lặn sắp tiếp cận nơi nghi có đội bóng Thái...\n",
      "Name: title, dtype: object\n",
      "126    Nước rút, cứu hộ Thái Lan tăng tốc tìm kiếm độ...\n",
      "Name: title, dtype: object\n",
      "127    Nhân viên cứu hộ bị ngất khi tìm kiếm đội bóng...\n",
      "Name: title, dtype: object\n",
      "128    Lý do đội cứu hộ chưa thể tìm thấy đội bóng mắ...\n",
      "Name: title, dtype: object\n",
      "129    Thái Lan khoan núi, thả đồ cứu sinh vào hang n...\n",
      "Name: title, dtype: object\n",
      "130    Quân đội Mỹ tham gia tìm kiếm đội bóng Thái La...\n",
      "Name: title, dtype: object\n",
      "131    Diễn biến cuộc tìm kiếm đội bóng kẹt trong han...\n",
      "Name: title, dtype: object\n",
      "132    Thái Lan tìm kiếm đội bóng mất tích trong hang...\n",
      "Name: title, dtype: object\n",
      "133    Thợ lặn giải cứu đội bóng nhí Thái từng mất dấ...\n",
      "Name: title, dtype: object\n",
      "134    Thợ lặn Anh kể lại khoảnh khắc phát hiện đội b...\n",
      "Name: title, dtype: object\n",
      "135    Thông điệp đặc nhiệm SEAL Thái gửi tới đội bón...\n",
      "Name: title, dtype: object\n",
      "136    Hải quân Thái tiết lộ hành trình dò hang tối g...\n",
      "Name: title, dtype: object\n",
      "137    Khoảnh khắc các thợ lặn cuối cùng rời hang sau...\n",
      "Name: title, dtype: object\n",
      "138    Hang Tham Luang sẽ trở thành bảo tàng về hoạt ...\n",
      "Name: title, dtype: object\n",
      "139    Bác sĩ Australia mất cha khi vừa kết thúc chiế...\n",
      "Name: title, dtype: object\n",
      "140    Thợ lặn thiệt mạng khi giải cứu đội bóng nhí đ...\n",
      "Name: title, dtype: object\n",
      "141    Elon Musk nghi ngờ chuyên môn của chỉ huy chiế...\n",
      "Name: title, dtype: object\n",
      "142    Người Thái hân hoan vì chiến dịch giải cứu đội...\n",
      "Name: title, dtype: object\n",
      "143    Tàu ngầm mini của Elon Musk không được dùng để...\n",
      "Name: title, dtype: object\n",
      "144    Người Thái hiến kế giải cứu đội bóng nhí mắc kẹt\n",
      "Name: title, dtype: object\n",
      "145    Những câu hỏi lớn sau 14 ngày đội bóng nhí Thá...\n",
      "Name: title, dtype: object\n",
      "146    Huấn luyện viên đội bóng nhí Thái gửi lời xin ...\n",
      "Name: title, dtype: object\n",
      "147    Cậu bé 9 tuổi gốc Thái viết thư xin thủ tướng ...\n",
      "Name: title, dtype: object\n",
      "148    Tình nguyện viên bất cẩn bơm nước ngược vào ha...\n",
      "Name: title, dtype: object\n",
      "149    Đam mê phiêu lưu của đội bóng đá nhí Thái kẹt ...\n",
      "Name: title, dtype: object\n",
      "150    Người Thái tranh cãi về huấn luyện viên đội bó...\n",
      "Name: title, dtype: object\n",
      "151    Người Thái vỡ òa khi chứng kiến phép màu với đ...\n",
      "Name: title, dtype: object\n",
      "152    Những thách thức khi cứu đội bóng nhí Thái ra ...\n",
      "Name: title, dtype: object\n",
      "153    Những điều đội bóng Thái có thể làm để sống só...\n",
      "Name: title, dtype: object\n",
      "154    Một tuần gian nan tìm kiếm đội bóng Thái mắc k...\n",
      "Name: title, dtype: object\n",
      "155    Lực lượng cứu hộ luyện tập sơ tán đội bóng Thá...\n",
      "Name: title, dtype: object\n",
      "156    Người Thái cầu phép màu với đội bóng mắc kẹt t...\n",
      "Name: title, dtype: object\n",
      "157    Đội bóng Lợn Hoang luyện tập trở lại sau khi 1...\n",
      "Name: title, dtype: object\n",
      "158    Thế giới ngày 12/7: Đội bóng nhí Thái không tự...\n",
      "Name: title, dtype: object\n",
      "159    Đội bóng nhí Thái mong giáo viên không giao nh...\n",
      "Name: title, dtype: object\n",
      "160    Hai cậu bé được giải cứu khỏi hang Thái...\n",
      "Name: title, dtype: object\n",
      "161    Thái Lan cầu 'thần mưa' phù hộ cho cuộc ...\n",
      "Name: title, dtype: object\n",
      "162    Thợ lặn giải cứu thiếu niên mắc kẹt trong hang...\n",
      "Name: title, dtype: object\n",
      "163    Em út của đội bóng nhí Thái Lan ước đươ...\n",
      "Name: title, dtype: object\n",
      "164    Danh tính cậu bé Thái đầu tiên được đưa khỏi hang\n",
      "Name: title, dtype: object\n",
      "165    Không gian nhỏ hẹp và ngập nước bên trong hang...\n",
      "Name: title, dtype: object\n",
      "166    Lượng oxy trong hang Tham Luang sắp cạn kiệt\n",
      "Name: title, dtype: object\n",
      "167    Cựu đặc nhiệm Thái Lan thiệt mạng khi cư...\n",
      "Name: title, dtype: object\n",
      "168    Nhà sư Thái Lan được tin là hiện thân củ...\n",
      "Name: title, dtype: object\n",
      "169    Đội bóng nhí Thái Lan sẽ ở phòng cách ...\n",
      "Name: title, dtype: object\n",
      "170    Cô gái Brazil kể về 5 năm sống trong hang ...\n",
      "Name: title, dtype: object\n",
      "171    Thái Lan sẽ không bất chấp nguy hiểm để ...\n",
      "Name: title, dtype: object\n",
      "172    Thái Lan nối điện thoại vào hang để đội...\n",
      "Name: title, dtype: object\n",
      "173    Đặc nhiệm Thái chia sẻ về nỗi sợ khi giải cứu ...\n",
      "Name: title, dtype: object\n",
      "174    Những chiến dịch nghẹt thở giải cứu nạn nhân m...\n",
      "Name: title, dtype: object\n",
      "175    Bác sĩ cấm các thiếu niên được giải cứu đến Ng...\n",
      "Name: title, dtype: object\n"
     ]
    }
   ],
   "source": [
    "for link in filtered_result.link: \n",
    "    print(filtered_result.title[filtered_result.link == link])"
   ]
  },
  {
   "cell_type": "code",
   "execution_count": 33,
   "metadata": {},
   "outputs": [
    {
     "data": {
      "text/plain": [
       "'Bác sĩ cấm các thiếu niên được giải cứu đến Nga xem World Cup'"
      ]
     },
     "execution_count": 33,
     "metadata": {},
     "output_type": "execute_result"
    }
   ],
   "source": [
    "filtered_result.loc[filtered_result.link == link].title.values[0]"
   ]
  },
  {
   "cell_type": "code",
   "execution_count": 35,
   "metadata": {},
   "outputs": [
    {
     "data": {
      "text/plain": [
       "3775815"
      ]
     },
     "execution_count": 35,
     "metadata": {},
     "output_type": "execute_result"
    }
   ],
   "source": [
    "int(filtered_result.id[filtered_result.link == link].values[0])"
   ]
  },
  {
   "cell_type": "markdown",
   "metadata": {},
   "source": [
    "## Retrieving data from articles and store them in excel \n",
    "\n",
    "Data will be retrived and store in excel with this run\n",
    "\n",
    "### Testing on one article"
   ]
  },
  {
   "cell_type": "code",
   "execution_count": 9,
   "metadata": {},
   "outputs": [],
   "source": [
    "def get_article(query):\n",
    "    return bs(urllib.request.urlopen(query), 'html.parser').find(\"section\", attrs={\"class\":\"sidebar_1\"})"
   ]
  },
  {
   "cell_type": "code",
   "execution_count": 10,
   "metadata": {},
   "outputs": [],
   "source": [
    "test1 = get_article(filtered_result.link[1])"
   ]
  },
  {
   "cell_type": "code",
   "execution_count": 11,
   "metadata": {},
   "outputs": [
    {
     "data": {
      "text/plain": [
       "'https://vnexpress.net/tin-tuc/the-gioi/phan-tich/cuoc-chien-9-ngay-voi-doi-khat-trong-hang-cua-cac-thieu-nien-thai-lan-3777228.html'"
      ]
     },
     "execution_count": 11,
     "metadata": {},
     "output_type": "execute_result"
    }
   ],
   "source": [
    "filtered_result.link[1]"
   ]
  },
  {
   "cell_type": "code",
   "execution_count": 37,
   "metadata": {},
   "outputs": [
    {
     "data": {
      "text/plain": [
       "'3777286'"
      ]
     },
     "execution_count": 37,
     "metadata": {},
     "output_type": "execute_result"
    }
   ],
   "source": [
    "filtered_result.id[filtered_result.link == filtered_result.link[4]].values[0]"
   ]
  },
  {
   "cell_type": "markdown",
   "metadata": {},
   "source": [
    "#### How to get the published date: "
   ]
  },
  {
   "cell_type": "code",
   "execution_count": 12,
   "metadata": {},
   "outputs": [
    {
     "data": {
      "text/plain": [
       "['Thứ', 'sáu,', '13/7/2018,', '12:58', '(GMT+7)']"
      ]
     },
     "execution_count": 12,
     "metadata": {},
     "output_type": "execute_result"
    }
   ],
   "source": [
    "test1.span.get_text().split()"
   ]
  },
  {
   "cell_type": "markdown",
   "metadata": {},
   "source": [
    "#### How to get the title of this article:"
   ]
  },
  {
   "cell_type": "code",
   "execution_count": 13,
   "metadata": {},
   "outputs": [
    {
     "data": {
      "text/plain": [
       "'Giải đáp những câu hỏi trong cuộc giải cứu đội bóng nhí Thái Lan'"
      ]
     },
     "execution_count": 13,
     "metadata": {},
     "output_type": "execute_result"
    }
   ],
   "source": [
    "filtered_result.title[2]"
   ]
  },
  {
   "cell_type": "markdown",
   "metadata": {},
   "source": [
    "#### How to get the short overview of this article:"
   ]
  },
  {
   "cell_type": "code",
   "execution_count": 14,
   "metadata": {},
   "outputs": [
    {
     "data": {
      "text/plain": [
       "'Nước chảy ra từ thạch nhũ trong hang và phương pháp thiền định đã giúp đội bóng Lợn Hoang sống sót trong 9 ngày đầu tiên mắc kẹt.'"
      ]
     },
     "execution_count": 14,
     "metadata": {},
     "output_type": "execute_result"
    }
   ],
   "source": [
    "test1.h2.get_text()"
   ]
  },
  {
   "cell_type": "markdown",
   "metadata": {},
   "source": [
    "#### Core of the article\n",
    "Note that at the end of it is the name of the author"
   ]
  },
  {
   "cell_type": "code",
   "execution_count": 15,
   "metadata": {},
   "outputs": [],
   "source": [
    "article_text = ''\n",
    "for text in test1.find_all('p', attrs={'class':'Normal'}):\n",
    "    article_text+= text.get_text()"
   ]
  },
  {
   "cell_type": "code",
   "execution_count": 16,
   "metadata": {},
   "outputs": [
    {
     "data": {
      "text/plain": [
       "'12 thiếu niên và huấn luyện viên đội bóng Lợn Hoang hôm 10/7 đã được giải cứu thành công khỏi hang Tham Luang ở tỉnh Chiang Rai, miền bắc Thái Lan sau 18 ngày mắc kẹt, theo BBC.Trước khi được hai thợ lặn người Anh phát hiện đêm 2/7, các cậu bé và huấn luyện viên Ekkapol Chantawong đã làm mọi cách có thể để sống sót trong hang sâu tối tăm, ngập nước suốt 9 ngày, trong đó Ekkapol đóng vai trò rất quan trọng.Truyền thông Thái Lan ban đầu cho rằng đội Lợn Hoang vào hang Tham Luang để tổ chức sinh nhật lần thứ 17 cho Peerapat Sompiangjai, biệt danh Night, nên đã mua đồ ăn nhẹ mang vào. Những gói bánh này được xem là nguồn thực phẩm duy nhất giúp đội bóng cầm cự trong 9 ngày đầu tiên.Tuy nhiên, Ikan Wiboonroongruang, 33 tuổi, mẹ của Chanintr, thành viên nhỏ tuổi nhất trong đội, kể trong cuộc gặp sau cửa kính cách ly ở bệnh viện, con trai nói với cô rằng nhóm chỉ định vào hang chơi một giờ và không mang theo đồ ăn.\"Sau ba đêm đầu tiên không có thức ăn, con trai tôi đói lả và khóc. Nó chỉ biết sống nhờ vào nguồn nước chảy ra từ thạch nhũ\", Ikan nói. \"Ban đêm rất lạnh và tối đen, lũ trẻ phải nằm rúc vào nhau để sưởi ấm. Huấn luyện viên bảo chúng phải thiền định để giảm cơn đói và bảo tồn năng lượng\", cô cho biết thêm.Ekkapol cầm đèn pin tìm nguồn nước tại nơi nhóm đang trú ẩn. Nước chảy ra từ thạch nhũ trong hang là nguồn sống duy nhất của cả đội.Chuẩn Đô đốc Arpakorn Yuukongkaew, người đứng đầu lực lượng đặc nhiệm Seal của Hải quân Thái Lan, cho biết sau khi được tìm thấy, nhóm được cung cấp \"thức ăn dễ tiêu hóa, giàu vitamin và khoáng chất dưới sự giám sát của bác sĩ\". Đáng chú ý, các bác sĩ điều trị cho nhóm được giải cứu nói rằng họ đều có sức khỏe tốt sau khi trải qua 9 ngày nhịn đói. \"Bọn trẻ đều khỏe mạnh và không bị căng thẳng. Trung bình mỗi cậu bé bị sút 2 kg\", Thongchai Lertwilairattanapong, thanh tra sở y tế Thái Lan cho biết. Hạ thân nhiệt có thể là nguy cơ lớn đe dọa tính mạng khi con người ở dưới lòng đất, đặc biệt trong những hang động bị ngập nước. Trong hang Tham Luang, nhiệt độ thường được giữ ổn định, không xuống quá thấp để có thể gây nguy hiểm đến lũ trẻ.Tuy nhiên, đội bóng thiếu niên vẫn thực hiện biện pháp đề phòng nguy cơ mất nhiệt. Đô đốc Arpakorn Yuukongkaew nói với BBC rằng theo ông hiểu, huấn luyện viên và các thiếu niên đã dùng đá khoét một lỗ sâu hơn 5 mét vào hang động để \"tạo ra một đường hầm giúp họ giữ ấm\". Sau khi tìm thấy nhóm, lực lượng cứu hộ đã mang chăn giữ nhiệt vào để giúp họ ổn định nhiệt độ cơ thể.Thời gian đầu, không khí không phải là mối lo ngại khi con người bị mắc kẹt trong hang. \"Hầu hết mọi người đều thở một cách bình thường trong hang bởi không khí có thể lưu chuyển tới nhiều ngóc ngách\", Anmar Mirza, điều phối viên của Ủy ban Cứu nạn Hang động quốc gia Mỹ, cho biết.Tuy nhiên, thời gian trôi đi, tại nơi đội bóng trú ẩn, mức oxy giảm còn 15%, trong khi mức oxy cho phép con người hô hấp bình thường là 21%. Cựu đặc nhiệm hải quân Thái Lan Saman Gunan đã thiệt mạng trong khi hỗ trợ mang bình dưỡng khí vào cho nhóm.Mối quan tâm lớn nhất sau chiến dịch giải cứu là sức khỏe tinh thần của nhóm thiếu niên và huấn luyện viên. Họ đã trải qua những ngày sống trong hang tối đen, không có bất kỳ nhận thức nào về thời gian hay nỗ lực tìm kiếm bên ngoài. Trong hoàn cảnh đó, Ekkapol đã giúp các cậu bé vượt qua nỗi sợ hãi, lo âu bằng kinh nghiệm thiền định của mình.Đô đốc Yuukongkaew cho biết Ekkapol đã bình tĩnh hướng dẫn lũ trẻ cách thiền định để vượt qua cơn đói, bảo tồn năng lượng và đảm bảo họ sử dụng \"càng ít không khí càng tốt\".Ngoài ra, đội bóng còn có một số lợi thế là tuổi trẻ và tinh thần đoàn kết của nhóm. \"Thanh thiếu niên thích giao tiếp với người xung quanh, việc có bạn bè và huấn luyện viên ở bên khiến các em cảm thấy yên tâm hơn\", David Spiegel, giáo sư Đại học Stanford, cho biết. Đội bóng nhí là một nhóm thân thiết đã nhiều lần phiêu lưu cùng nhau như tắm thác, đạp xe trên đường núi, đi bè trên sông và khám phá hang động.Đội bóng được giải cứu đang được điều trị tại bệnh viện Chiang Rai. Các đánh giá thể chất và tinh thần của họ đều có kết quả tích cực. Chính quyền, gia đình và trường học đều đang cố gắng tạo điều kiện tốt nhất để \"những chú Lợn Hoang\" sớm trở lại cuộc sống bình thường.Huyền Lê'"
      ]
     },
     "execution_count": 16,
     "metadata": {},
     "output_type": "execute_result"
    }
   ],
   "source": [
    "article_text.replace('\\t', '').replace(u'\\xa0', u' ').replace('\\n','')"
   ]
  },
  {
   "cell_type": "markdown",
   "metadata": {},
   "source": [
    "#### Author of this article can also be retrieved by query for 'strong' tag "
   ]
  },
  {
   "cell_type": "code",
   "execution_count": 17,
   "metadata": {},
   "outputs": [
    {
     "data": {
      "text/plain": [
       "'Huyền Lê'"
      ]
     },
     "execution_count": 17,
     "metadata": {},
     "output_type": "execute_result"
    }
   ],
   "source": [
    "test1.strong.get_text()"
   ]
  },
  {
   "cell_type": "markdown",
   "metadata": {},
   "source": [
    "#### Getting multi-media links in the article \n",
    "\n",
    "Save up for future usage\n",
    "\n",
    "##### Video"
   ]
  },
  {
   "cell_type": "code",
   "execution_count": 81,
   "metadata": {},
   "outputs": [
    {
     "data": {
      "text/plain": [
       "[<video active-mode=\"360\" ads=\"https://g.eclick.vn/video.xml?id=3457&amp;url=https://vnexpress.net/tin-tuc/the-gioi/phan-tich/cuoc-chien-9-ngay-voi-doi-khat-trong-hang-cua-cac-thieu-nien-thai-lan-3777228.html\" adsconfig=\"\" controls=\"\" data-240=\"https://v.vnecdn.net/vnexpress/video/web/mp4/240p/2018/07/11/cac-cau-thu-nhi-thai-lan-vay-tay-chao-tren-guong-benh-1531316902.mp4\" data-360=\"https://v.vnecdn.net/vnexpress/video/web/mp4/2018/07/11/cac-cau-thu-nhi-thai-lan-vay-tay-chao-tren-guong-benh-1531316902.mp4\" data-480=\"\" data-720=\"\" data-ex=\"st=0&amp;bs=0&amp;pt=0\" data-src=\"https://v.vnecdn.net/vnexpress/video/web/mp4/2018/07/11/cac-cau-thu-nhi-thai-lan-vay-tay-chao-tren-guong-benh-1531316902.mp4\" id=\"media-video-211027\" max-mode=\"360\" playsinline=\"\" preload=\"auto\" src=\"https://d.vnecdn.net/vnexpress/video/video/web/mp4/,240p,,/2018/07/11/cac-cau-thu-nhi-thai-lan-vay-tay-chao-tren-guong-benh-1531316902/vne/master.m3u8\" style=\"width: 100%; height: 100%;\" type=\"application/x-mpegURL\" webkit-playsinline=\"\"></video>,\n",
       " <video active-mode=\"360\" ads=\"https://g.eclick.vn/video.xml?id=3457&amp;url=https://vnexpress.net/tin-tuc/the-gioi/phan-tich/cuoc-chien-9-ngay-voi-doi-khat-trong-hang-cua-cac-thieu-nien-thai-lan-3777228.html\" adsconfig=\"\" controls=\"\" data-240=\"https://v.vnecdn.net/vnexpress/video/web/mp4/240p/2018/07/12/doi-bong-nhi-thai-khong-tu-lan-ma-nam-tren-cang-trong-qua-tr-1531352483.mp4\" data-360=\"https://v.vnecdn.net/vnexpress/video/web/mp4/2018/07/12/doi-bong-nhi-thai-khong-tu-lan-ma-nam-tren-cang-trong-qua-tr-1531352483.mp4\" data-480=\"\" data-720=\"\" data-ex=\"st=0&amp;bs=0&amp;pt=0\" data-src=\"https://v.vnecdn.net/vnexpress/video/web/mp4/2018/07/12/doi-bong-nhi-thai-khong-tu-lan-ma-nam-tren-cang-trong-qua-tr-1531352483.mp4\" id=\"media-video-211045\" max-mode=\"360\" playsinline=\"\" preload=\"auto\" src=\"https://d.vnecdn.net/vnexpress/video/video/web/mp4/,240p,,/2018/07/12/doi-bong-nhi-thai-khong-tu-lan-ma-nam-tren-cang-trong-qua-tr-1531352483/vne/master.m3u8\" style=\"width: 100%; height: 100%;\" type=\"application/x-mpegURL\" webkit-playsinline=\"\"></video>]"
      ]
     },
     "execution_count": 81,
     "metadata": {},
     "output_type": "execute_result"
    }
   ],
   "source": [
    "test1.find_all('video')"
   ]
  },
  {
   "cell_type": "code",
   "execution_count": 77,
   "metadata": {},
   "outputs": [
    {
     "data": {
      "text/plain": [
       "{'id': 'media-video-211027',\n",
       " 'preload': 'auto',\n",
       " 'playsinline': '',\n",
       " 'webkit-playsinline': '',\n",
       " 'data-src': 'https://v.vnecdn.net/vnexpress/video/web/mp4/2018/07/11/cac-cau-thu-nhi-thai-lan-vay-tay-chao-tren-guong-benh-1531316902.mp4',\n",
       " 'src': 'https://d.vnecdn.net/vnexpress/video/video/web/mp4/,240p,,/2018/07/11/cac-cau-thu-nhi-thai-lan-vay-tay-chao-tren-guong-benh-1531316902/vne/master.m3u8',\n",
       " 'type': 'application/x-mpegURL',\n",
       " 'controls': '',\n",
       " 'style': 'width: 100%; height: 100%;',\n",
       " 'data-240': 'https://v.vnecdn.net/vnexpress/video/web/mp4/240p/2018/07/11/cac-cau-thu-nhi-thai-lan-vay-tay-chao-tren-guong-benh-1531316902.mp4',\n",
       " 'data-360': 'https://v.vnecdn.net/vnexpress/video/web/mp4/2018/07/11/cac-cau-thu-nhi-thai-lan-vay-tay-chao-tren-guong-benh-1531316902.mp4',\n",
       " 'data-480': '',\n",
       " 'data-720': '',\n",
       " 'max-mode': '360',\n",
       " 'active-mode': '360',\n",
       " 'ads': 'https://g.eclick.vn/video.xml?id=3457&url=https://vnexpress.net/tin-tuc/the-gioi/phan-tich/cuoc-chien-9-ngay-voi-doi-khat-trong-hang-cua-cac-thieu-nien-thai-lan-3777228.html',\n",
       " 'adsconfig': '',\n",
       " 'data-ex': 'st=0&bs=0&pt=0'}"
      ]
     },
     "execution_count": 77,
     "metadata": {},
     "output_type": "execute_result"
    }
   ],
   "source": [
    "test1.video.attrs"
   ]
  },
  {
   "cell_type": "markdown",
   "metadata": {},
   "source": [
    "##### Main src to take for video"
   ]
  },
  {
   "cell_type": "code",
   "execution_count": 78,
   "metadata": {},
   "outputs": [
    {
     "data": {
      "text/plain": [
       "'https://v.vnecdn.net/vnexpress/video/web/mp4/2018/07/11/cac-cau-thu-nhi-thai-lan-vay-tay-chao-tren-guong-benh-1531316902.mp4'"
      ]
     },
     "execution_count": 78,
     "metadata": {},
     "output_type": "execute_result"
    }
   ],
   "source": [
    "test1.video['data-src']"
   ]
  },
  {
   "cell_type": "markdown",
   "metadata": {},
   "source": [
    "##### Images"
   ]
  },
  {
   "cell_type": "code",
   "execution_count": 80,
   "metadata": {},
   "outputs": [
    {
     "data": {
      "text/plain": [
       "[<img alt=\"Đội bóng Lợn Hoang trong một chuyến dã ngoại trước khi gặp nạn trong hang Tham Luang. Ảnh: Twitter.\" data-natural-width=\"500\" src=\"https://vcdn-vnexpress.vnecdn.net/2018/07/13/anh-1-3184-1531458767.jpg\"/>,\n",
       " <img alt=\"Các thiếu niên trú ngụ trên một mỏm đá trong hang khi được thợ lặn Anh phát hiện đêm 2/7. Ảnh: Hải quân Thái Lan.\" data-natural-width=\"500\" src=\"https://vcdn-vnexpress.vnecdn.net/2018/07/13/anh-2-9044-1531458767.jpg\"/>,\n",
       " <img alt=\"Các cầu thủ nhí Thái Lan vẫy tay chào trên gường bệnh \" src=\"https://iv.vnecdn.net/vnexpress/images/web/2018/07/11/cac-cau-thu-nhi-thai-lan-vay-tay-chao-tren-guong-benh-1531316902_500x300.jpg\"/>,\n",
       " <img alt=\"Đội bóng nhí Thái không tự lặn mà nằm trên cáng trong quá trình giải cứu\" src=\"https://iv.vnecdn.net/vnexpress/images/web/2018/07/12/doi-bong-nhi-thai-khong-tu-lan-ma-nam-tren-cang-trong-qua-tr-1531352483_500x300.jpg\"/>]"
      ]
     },
     "execution_count": 80,
     "metadata": {},
     "output_type": "execute_result"
    }
   ],
   "source": [
    "test1.find_all('img')"
   ]
  },
  {
   "cell_type": "code",
   "execution_count": 83,
   "metadata": {},
   "outputs": [
    {
     "name": "stdout",
     "output_type": "stream",
     "text": [
      "Image name: Đội bóng Lợn Hoang trong một chuyến dã ngoại trước khi gặp nạn trong hang Tham Luang. Ảnh: Twitter., src: https://vcdn-vnexpress.vnecdn.net/2018/07/13/anh-1-3184-1531458767.jpg\n",
      "Image name: Các thiếu niên trú ngụ trên một mỏm đá trong hang khi được thợ lặn Anh phát hiện đêm 2/7. Ảnh: Hải quân Thái Lan., src: https://vcdn-vnexpress.vnecdn.net/2018/07/13/anh-2-9044-1531458767.jpg\n",
      "Image name: Các cầu thủ nhí Thái Lan vẫy tay chào trên gường bệnh , src: https://iv.vnecdn.net/vnexpress/images/web/2018/07/11/cac-cau-thu-nhi-thai-lan-vay-tay-chao-tren-guong-benh-1531316902_500x300.jpg\n",
      "Image name: Đội bóng nhí Thái không tự lặn mà nằm trên cáng trong quá trình giải cứu, src: https://iv.vnecdn.net/vnexpress/images/web/2018/07/12/doi-bong-nhi-thai-khong-tu-lan-ma-nam-tren-cang-trong-qua-tr-1531352483_500x300.jpg\n"
     ]
    }
   ],
   "source": [
    "for image in test1.find_all('img'): \n",
    "    print(\"Image name: {}, src: {}\".format(image['alt'], image['src']))"
   ]
  },
  {
   "cell_type": "markdown",
   "metadata": {},
   "source": [
    "### Write these in an Excel file\n",
    "\n",
    "#### Generate the list of the respective attributes: \n",
    "- Author \n",
    "- DateTime String \n",
    "- Text\n",
    "- Short synopsis \n",
    "- Images-alt \n",
    "- Images-link \n",
    "- Video_link"
   ]
  },
  {
   "cell_type": "code",
   "execution_count": 55,
   "metadata": {},
   "outputs": [],
   "source": [
    "def get_article(query):\n",
    "    return bs(urllib.request.urlopen(query), 'html.parser').find(\"section\", attrs={\"class\":\"sidebar_1\"})\n",
    "\n",
    "class Article(object)  : \n",
    "    def __init__(self, article_soup):\n",
    "        self.article = article_soup\n",
    "        self.author = self.get_author()\n",
    "        self.datetime = self.get_datetime() \n",
    "        self.text = self.get_text()\n",
    "        self.synopsis = self.get_synopsis()\n",
    "        self.imgs = self.get_imgs() #This is a tuple of (alt, src)\n",
    "        self.videos = self.get_videos()\n",
    "    \n",
    "    def get_author(self): \n",
    "        try: \n",
    "            return self.article.strong.get_text()\n",
    "        except AttributeError: return None\n",
    "\n",
    "    def get_datetime(self): \n",
    "        try: \n",
    "            return self.article.span.get_text() \n",
    "        except AttributeError: return None\n",
    "\n",
    "    def get_text(self):     \n",
    "        try : \n",
    "            article_text = ''\n",
    "            for text in self.article.find_all('p', attrs={'class':'Normal'}):\n",
    "                article_text+= text.get_text()    \n",
    "            return article_text.replace('\\t', '').replace(u'\\xa0', u' ').replace('\\n','')        \n",
    "        except AttributeError: return None\n",
    "\n",
    "    def get_synopsis(self): \n",
    "        try: \n",
    "            return self.article.h2.get_text()\n",
    "        except AttributeError: return None \n",
    "    \n",
    "    def get_imgs(self):\n",
    "        try: \n",
    "            return {'alt': [img['alt'] for img in self.article.find_all('img')], 'src': [img['src'] for img in self.article.find_all('img')]}\n",
    "        except AttributeError: return {'alt': None, 'src': None}\n",
    "        except KeyError: return {'alt': None, 'src': None}\n",
    "    \n",
    "    def get_videos(self): \n",
    "        try: \n",
    "            return [video['data-src'] for video in self.article.find_all('video')]\n",
    "        except AttributeError: return None\n",
    "        except KeyError: return None\n",
    "    \n",
    "\n",
    "class Articles(object): \n",
    "    def __init__(self, articles_list, output_msg = False):\n",
    "        self.articles_list = articles_list\n",
    "        self.show_output_msg = output_msg\n",
    "        \n",
    "        self.titles = []\n",
    "        self.links = []\n",
    "        self.ids = []\n",
    "        self.authors = []\n",
    "        self.datetime = []\n",
    "        self.text = []\n",
    "        self.synopses = []\n",
    "        self.img_alts = []\n",
    "        self.img_links = []\n",
    "        #current_article\n",
    "        self.video_links = []\n",
    "        \n",
    "    def generate_articles_content(self): \n",
    "        \n",
    "        for link in self.articles_list.link: \n",
    "            current_article = Article(get_article(link))            \n",
    "            \n",
    "            self.titles.append(self.articles_list.title[self.articles_list.link == link].values[0])\n",
    "            self.links.append(link)\n",
    "            self.ids.append(self.articles_list.id[self.articles_list.link == link].values[0])\n",
    "            self.authors.append(current_article.author)\n",
    "            self.datetime.append(current_article.datetime)\n",
    "            self.text.append(current_article.text)\n",
    "            self.synopses.append(current_article.synopsis)\n",
    "            self.img_alts.append(current_article.imgs['alt'])\n",
    "            self.img_links.append(current_article.imgs['src'])\n",
    "            self.video_links.append(current_article.videos)\n",
    "            \n",
    "            if self.show_output_msg:\n",
    "                self.output_msg_update_article_info(current_article, self.titles[-1], self.links[-1],self.ids[-1])\n",
    "            \n",
    "        return len(self.titles) == len(self.links) == len(self.ids) == len(self.authors) == len(self.datetime) == len(self.text) == len(self.synopses) == len(self.img_alts) == len(self.img_links) == len(self.video_links)\n",
    "            \n",
    "            \n",
    "    def generate_articles_content_dict(self):\n",
    "        \n",
    "        if self.generate_articles_content(): \n",
    "        \n",
    "            return {'title': self.titles, #From filtered_result object\n",
    "                     'link':self.links, #in Articles object \n",
    "                     'id': self.ids, #from filtered_result object\n",
    "                     'author': self.authors, #attr of Article Object \n",
    "                     'datetime': self.datetime,\n",
    "                     'text': self.text,\n",
    "                     'synopsis': self.synopses,\n",
    "                     'img_alt': self.img_alts,\n",
    "                     'img_link': self.img_links,\n",
    "                     #'video_alt': self.video_alts,\n",
    "                     'video_link': self.video_links}\n",
    "        \n",
    "        else: return {}\n",
    "        \n",
    "    def output_msg_update_article_info(self, this_article, this_title, this_link, this_id):\n",
    "        print(\"==================================================={}===========================================================\".format(this_id))\n",
    "        print(\"Title: {}\".format(this_title))\n",
    "        print(\"Author: {}\".format(this_article.author))\n",
    "        print(\"Link: {}\\n\".format(this_link))\n",
    "    "
   ]
  },
  {
   "cell_type": "markdown",
   "metadata": {},
   "source": [
    "#### Create a DataFrame for storing articles\n",
    "\n",
    "Each article has the following attributes: \n",
    "- Title (from list of link dataframe)\n",
    "- Link (from list of link dataframe)\n",
    "- ID (from list of link dataframe)\n",
    "- Author \n",
    "- DateTime String \n",
    "- Text\n",
    "- Short synopsis \n",
    "- Images-alt \n",
    "- Images-link \n",
    "- Video_link\n",
    "\n",
    "##### Rewrite everything again with this addition: "
   ]
  },
  {
   "cell_type": "code",
   "execution_count": 2,
   "metadata": {},
   "outputs": [],
   "source": [
    "from bs4 import BeautifulSoup as bs \n",
    "import urllib \n",
    "import pandas as pd\n",
    "\n",
    "\n",
    "query_str = 'https://vnexpress.net/category/day/page/{}.html?cateid=1001002&fromdate=1529964000&todate=1531517760&allcate=1001002|1001002|'\n",
    "#query_str = \"https://vnexpress.net/chien-dich-giai-cuu/tag-810752-1.html\"\n",
    "\n",
    "def get_articles(query):\n",
    "    return bs(urllib.request.urlopen(query), 'html.parser').find(\"section\", attrs={\"class\":\"sidebar_1\"}).find_all(\"article\",attrs={\"class\":\"list_news\"})\n",
    "\n",
    "def distribute_articles(articles, return_type='df'):      \n",
    "    article_dict = {'title': [],\n",
    "             'link': [],\n",
    "               'description': [],\n",
    "               'id' : []}\n",
    "    \n",
    "    for article in articles: \n",
    "        #article_dict['title'].append(article.a.get('title')) # if this does not work, use the one below\n",
    "        article_dict['title'].append(article.img.get('alt'))\n",
    "        article_dict['link'].append(article.a.get('href'))\n",
    "        article_dict['description'].append(article.h4.get_text())\n",
    "        article_dict['id'].append(article.a.get('href').split('-')[-1][:-5])\n",
    "    if return_type == 'df':  \n",
    "        return pd.DataFrame(data=article_dict)\n",
    "    \n",
    "    elif return_type == 'dict':\n",
    "        return article_dict \n",
    "    \n",
    "df_list = [] \n",
    "\n",
    "for page in range(1, 23): \n",
    "    page_url = query_str.format(str(page))\n",
    "    articles = get_articles(page_url)\n",
    "    df_list.append( distribute_articles(articles))\n",
    "    \n",
    "result = pd.concat(df_list).reset_index(drop=True)\n",
    "\n",
    "kws = ['Thái Lan', 'đội bóng', 'Đội bóng', 'hang', 'mắc kẹt', 'thiếu niên']\n",
    "temp = []\n",
    "kw_filtered = [] \n",
    "\n",
    "for kw in kws: \n",
    "    for title in result.title: \n",
    "        if kw in title:  \n",
    "            temp.append(title)\n",
    "    \n",
    "    kw_filtered.append(pd.concat([result[result.title == tmp] for tmp in temp])) \n",
    "    temp =[ ]#pd.DataFrame(columns = ['title', 'link','description','id']) \n",
    "\n",
    "filtered_result = pd.concat(kw_filtered).drop_duplicates().reset_index(drop = True)"
   ]
  },
  {
   "cell_type": "code",
   "execution_count": 62,
   "metadata": {},
   "outputs": [
    {
     "name": "stdout",
     "output_type": "stream",
     "text": [
      "===================================================3777298===========================================================\n",
      "Title: Những thợ lặn thành anh em sau chiến dịch giải cứu các thiếu niên Thái Lan\n",
      "Author: Ánh Ngọc\n",
      "Link: https://vnexpress.net/tin-tuc/the-gioi/tu-lieu/nhung-tho-lan-thanh-anh-em-sau-chien-dich-giai-cuu-cac-thieu-nien-thai-lan-3777298.html\n",
      "\n",
      "===================================================3777228===========================================================\n",
      "Title: Cuộc chiến 9 ngày với đói khát trong hang của các thiếu niên Thái Lan\n",
      "Author: Huyền Lê\n",
      "Link: https://vnexpress.net/tin-tuc/the-gioi/phan-tich/cuoc-chien-9-ngay-voi-doi-khat-trong-hang-cua-cac-thieu-nien-thai-lan-3777228.html\n",
      "\n",
      "===================================================3777195===========================================================\n",
      "Title: Giải đáp những câu hỏi trong cuộc giải cứu đội bóng nhí Thái Lan\n",
      "Author: Tại sao các thiếu niên đi quá sâu vào hang?\n",
      "Link: https://vnexpress.net/tin-tuc/the-gioi/phan-tich/giai-dap-nhung-cau-hoi-trong-cuoc-giai-cuu-doi-bong-nhi-thai-lan-3777195.html\n",
      "\n",
      "===================================================3777154===========================================================\n",
      "Title: Hành trình đưa tin giải cứu đội bóng nhí Thái Lan của nữ phóng viên Australia\n",
      "Author: Vũ Hoàng\n",
      "Link: https://vnexpress.net/tin-tuc/the-gioi/tu-lieu/hanh-trinh-dua-tin-giai-cuu-doi-bong-nhi-thai-lan-cua-nu-phong-vien-australia-3777154.html\n",
      "\n",
      "===================================================3777286===========================================================\n",
      "Title: Thiếu niên Thái Lan nói không mang theo đồ ăn khi mắc kẹt trong hang\n",
      "Author: Huyền Lê\n",
      "Link: https://vnexpress.net/tin-tuc/the-gioi/thieu-nien-thai-lan-noi-khong-mang-theo-do-an-khi-mac-ket-trong-hang-3777286.html\n",
      "\n",
      "===================================================3777109===========================================================\n",
      "Title: Thợ lặn Anh phát hiện đội bóng nhí Thái Lan không nhận là 'người hùng'\n",
      "Author: Huyền Lê\n",
      "Link: https://vnexpress.net/tin-tuc/the-gioi/tho-lan-anh-phat-hien-doi-bong-nhi-thai-lan-khong-nhan-la-nguoi-hung-3777109.html\n",
      "\n",
      "===================================================3777064===========================================================\n",
      "Title: Thái Lan cân nhắc cấp quốc tịch cho 4 thành viên đội bóng nhí mắc kẹt\n",
      "Author: Huyền Lê\n",
      "Link: https://vnexpress.net/tin-tuc/the-gioi/thai-lan-can-nhac-cap-quoc-tich-cho-4-thanh-vien-doi-bong-nhi-mac-ket-3777064.html\n",
      "\n",
      "===================================================3776895===========================================================\n",
      "Title: Bác sĩ Australia giải cứu thiếu niên Thái Lan có thể là 'người hùng của năm'\n",
      "Author: Ánh Ngọc\n",
      "Link: https://vnexpress.net/tin-tuc/the-gioi/cuoc-song-do-day/bac-si-australia-giai-cuu-thieu-nien-thai-lan-co-the-la-nguoi-hung-cua-nam-3776895.html\n",
      "\n",
      "===================================================3776713===========================================================\n",
      "Title: Cuộc đoàn tụ gia đình qua cửa kính của cậu bé Thái Lan sau 17 ngày trong hang\n",
      "Author: Anh Ngọc\n",
      "Link: https://vnexpress.net/tin-tuc/the-gioi/cuoc-song-do-day/cuoc-doan-tu-gia-dinh-qua-cua-kinh-cua-cau-be-thai-lan-sau-17-ngay-trong-hang-3776713.html\n",
      "\n",
      "===================================================3776602===========================================================\n",
      "Title: Lý do các thiếu niên Thái Lan phải nằm cáng khi được cứu khỏi hang\n",
      "Author: Thành Nguyễn\n",
      "Link: https://vnexpress.net/tin-tuc/the-gioi/tu-lieu/ly-do-cac-thieu-nien-thai-lan-phai-nam-cang-khi-duoc-cuu-khoi-hang-3776602.html\n",
      "\n",
      "===================================================3776581===========================================================\n",
      "Title: Trung Quốc giận dữ vì bình luận của Phó thủ tướng Thái Lan trong vụ chìm tàu\n",
      "Author: Huyền Lê\n",
      "Link: https://vnexpress.net/tin-tuc/the-gioi/trung-quoc-gian-du-vi-binh-luan-cua-pho-thu-tuong-thai-lan-trong-vu-chim-tau-3776581.html\n",
      "\n",
      "===================================================3776497===========================================================\n",
      "Title: Các thiếu niên Thái Lan lần đầu xuất hiện sau khi được giải cứu\n",
      "Author: Khánh Lynh\n",
      "Link: https://vnexpress.net/tin-tuc/the-gioi/cac-thieu-nien-thai-lan-lan-dau-xuat-hien-sau-khi-duoc-giai-cuu-3776497.html\n",
      "\n",
      "===================================================3776498===========================================================\n",
      "Title: Đội bóng Lợn Hoang xin cấp quốc tịch Thái Lan cho huấn luyện viên\n",
      "Author: Khánh Lynh\n",
      "Link: https://vnexpress.net/tin-tuc/the-gioi/doi-bong-lon-hoang-xin-cap-quoc-tich-thai-lan-cho-huan-luyen-vien-3776498.html\n",
      "\n",
      "===================================================3776432===========================================================\n",
      "Title: Đội bóng nhí Thái Lan được theo dõi tâm lý trong 6 tháng\n",
      "Author: Huyền Lê\n",
      "Link: https://vnexpress.net/tin-tuc/the-gioi/doi-bong-nhi-thai-lan-duoc-theo-doi-tam-ly-trong-6-thang-3776432.html\n",
      "\n",
      "===================================================3776420===========================================================\n",
      "Title: Ngày giải cứu cuối cùng đội bóng nhí Thái Lan\n",
      "Author: Ý kiến bạn đọc\n",
      "Link: https://vnexpress.net/photo/the-gioi/ngay-giai-cuu-cuoi-cung-doi-bong-nhi-thai-lan-3776420.html\n",
      "\n",
      "===================================================3776310===========================================================\n",
      "Title: Toàn cảnh chiến dịch giải cứu các thiếu niên Thái Lan mắc kẹt\n",
      "Author: Ý kiến bạn đọc\n",
      "Link: https://vnexpress.net/infographics/the-gioi/toan-canh-chien-dich-giai-cuu-cac-thieu-nien-thai-lan-mac-ket-3776310.html\n",
      "\n",
      "===================================================3776032===========================================================\n",
      "Title: 18 ngày thực hiện 'nhiệm vụ bất khả thi' giải cứu các thiếu niên Thái Lan\n",
      "Author: Thành Nguyễn\n",
      "Link: https://vnexpress.net/tin-tuc/the-gioi/phan-tich/18-ngay-thuc-hien-nhiem-vu-bat-kha-thi-giai-cuu-cac-thieu-nien-thai-lan-3776032.html\n",
      "\n",
      "===================================================3776038===========================================================\n",
      "Title: Tình cảm huấn luyện viên dành cho đội bóng nhí Thái Lan\n",
      "Author: Phương Vũ\n",
      "Link: https://vnexpress.net/tin-tuc/the-gioi/phan-tich/tinh-cam-huan-luyen-vien-danh-cho-doi-bong-nhi-thai-lan-3776038.html\n",
      "\n",
      "===================================================3776015===========================================================\n",
      "Title: Những thợ lặn góp sức cho chiến dịch giải cứu đội bóng nhí Thái Lan\n",
      "Author: Vũ Hoàng\n",
      "Link: https://vnexpress.net/tin-tuc/the-gioi/tu-lieu/nhung-tho-lan-gop-suc-cho-chien-dich-giai-cuu-doi-bong-nhi-thai-lan-3776015.html\n",
      "\n",
      "===================================================3776170===========================================================\n",
      "Title: Đặc nhiệm SEAL Thái Lan suýt kẹt lại hang vì máy bơm hỏng\n",
      "Author: Nguyễn Hoàng\n",
      "Link: https://vnexpress.net/tin-tuc/the-gioi/quan-su/dac-nhiem-seal-thai-lan-suyt-ket-lai-hang-vi-may-bom-hong-3776170.html\n",
      "\n",
      "===================================================3776023===========================================================\n",
      "Title: Cuộc sống nghèo khó, không quốc tịch của cậu bé được giải cứu khỏi hang Thái Lan\n",
      "Author: Huyền Lê\n",
      "Link: https://vnexpress.net/tin-tuc/the-gioi/tu-lieu/cuoc-song-ngheo-kho-khong-quoc-tich-cua-cau-be-duoc-giai-cuu-khoi-hang-thai-lan-3776023.html\n",
      "\n",
      "===================================================3776045===========================================================\n",
      "Title: Manchester United mời đội bóng nhí Thái Lan sang Anh\n",
      "Author: Anh Ngọc\n",
      "Link: https://vnexpress.net/tin-tuc/the-gioi/manchester-united-moi-doi-bong-nhi-thai-lan-sang-anh-3776045.html\n",
      "\n",
      "===================================================3776018===========================================================\n",
      "Title: Lãnh đạo thế giới chúc mừng Thái Lan giải cứu thành công đội bóng nhí\n",
      "Author: Huyền Lê\n",
      "Link: https://vnexpress.net/tin-tuc/the-gioi/lanh-dao-the-gioi-chuc-mung-thai-lan-giai-cuu-thanh-cong-doi-bong-nhi-3776018.html\n",
      "\n",
      "===================================================3775953===========================================================\n",
      "Title: Việt Nam chúc mừng Thái Lan giải cứu thành công đội bóng nhí\n",
      "Author: Vũ Hoàng\n",
      "Link: https://vnexpress.net/tin-tuc/the-gioi/viet-nam-chuc-mung-thai-lan-giai-cuu-thanh-cong-doi-bong-nhi-3775953.html\n",
      "\n"
     ]
    },
    {
     "name": "stdout",
     "output_type": "stream",
     "text": [
      "===================================================3775821===========================================================\n",
      "Title: Thợ lặn tham gia giải cứu: Đội bóng nhí Thái Lan thật tuyệt vời\n",
      "Author: Huyền Lê\n",
      "Link: https://vnexpress.net/photo/the-gioi/tho-lan-tham-gia-giai-cuu-doi-bong-nhi-thai-lan-that-tuyet-voi-3775821.html\n",
      "\n",
      "===================================================3775836===========================================================\n",
      "Title: Công ty Mỹ giúp vẽ bản đồ hang các thiếu niên Thái Lan mắc kẹt\n",
      "Author: Vũ Hoàng\n",
      "Link: https://vnexpress.net/photo/the-gioi/cong-ty-my-giup-ve-ban-do-hang-cac-thieu-nien-thai-lan-mac-ket-3775836.html\n",
      "\n",
      "===================================================3775817===========================================================\n",
      "Title: Toàn bộ đội bóng nhí Thái Lan đã được cứu\n",
      "Author: None\n",
      "Link: https://vnexpress.net/tong-thuat/the-gioi/toan-bo-doi-bong-nhi-thai-lan-da-duoc-cuu-3775817.html\n",
      "\n",
      "===================================================3775414===========================================================\n",
      "Title: Đội bóng nhí Thái Lan dễ bất tỉnh khi được cứu thoát khỏi hang\n",
      "Author: Phương Vũ\n",
      "Link: https://vnexpress.net/tin-tuc/the-gioi/phan-tich/doi-bong-nhi-thai-lan-de-bat-tinh-khi-duoc-cuu-thoat-khoi-hang-3775414.html\n",
      "\n",
      "===================================================3775615===========================================================\n",
      "Title: Mỹ điều 43 nhân viên quân sự tham gia cứu thiếu niên Thái Lan mắc kẹt\n",
      "Author: Nguyễn Hoàng\n",
      "Link: https://vnexpress.net/tin-tuc/the-gioi/quan-su/my-dieu-43-nhan-vien-quan-su-tham-gia-cuu-thieu-nien-thai-lan-mac-ket-3775615.html\n",
      "\n",
      "===================================================3775590===========================================================\n",
      "Title: Cách thợ lặn đưa các thiếu niên Thái Lan qua khe hẹp của hang\n",
      "Author: Ý kiến bạn đọc\n",
      "Link: https://vnexpress.net/infographics/the-gioi/cach-tho-lan-dua-cac-thieu-nien-thai-lan-qua-khe-hep-cua-hang-3775590.html\n",
      "\n",
      "===================================================3775616===========================================================\n",
      "Title: Thái Lan triển khai chiến dịch cuối giải cứu đội bóng nhí\n",
      "Author: None\n",
      "Link: https://vnexpress.net/tong-thuat/the-gioi/thai-lan-trien-khai-chien-dich-cuoi-giai-cuu-doi-bong-nhi-3775616.html\n",
      "\n",
      "===================================================3774804===========================================================\n",
      "Title: Những thợ lặn 'liều cả tính mạng' cứu các thiếu niên Thái Lan\n",
      "Author: Vũ Hoàng\n",
      "Link: https://vnexpress.net/tin-tuc/the-gioi/tu-lieu/nhung-tho-lan-lieu-ca-tinh-mang-cuu-cac-thieu-nien-thai-lan-3774804.html\n",
      "\n",
      "===================================================3775049===========================================================\n",
      "Title: Người chơi xổ số Thái Lan tìm vận may từ các thiếu niên mắc kẹt trong hang\n",
      "Author: Vũ Hoàng\n",
      "Link: https://vnexpress.net/tin-tuc/the-gioi/cuoc-song-do-day/nguoi-choi-xo-so-thai-lan-tim-van-may-tu-cac-thieu-nien-mac-ket-trong-hang-3775049.html\n",
      "\n",
      "===================================================3775417===========================================================\n",
      "Title: Lý do 8 thiếu niên Thái Lan bị cách ly sau khi thoát khỏi hang\n",
      "Author: Vũ Hoàng\n",
      "Link: https://vnexpress.net/tin-tuc/the-gioi/tu-lieu/ly-do-8-thieu-nien-thai-lan-bi-cach-ly-sau-khi-thoat-khoi-hang-3775417.html\n",
      "\n",
      "===================================================3775550===========================================================\n",
      "Title: Diễn biến 15 ngày giải cứu các thiếu niên Thái Lan mắc kẹt\n",
      "Author: Thành Nguyễn\n",
      "Link: https://vnexpress.net/photo/tu-lieu/dien-bien-15-ngay-giai-cuu-cac-thieu-nien-thai-lan-mac-ket-3775550.html\n",
      "\n",
      "===================================================3775451===========================================================\n",
      "Title: Ngày giải cứu thứ hai đội bóng nhí Thái Lan\n",
      "Author: Phương Vũ\n",
      "Link: https://vnexpress.net/tin-tuc/the-gioi/ngay-giai-cuu-thu-hai-doi-bong-nhi-thai-lan-3775451.html\n",
      "\n",
      "===================================================3775396===========================================================\n",
      "Title: Elon Musk vào hang Tham Luang khi mang tàu ngầm mini tới Thái Lan\n",
      "Author: Nguyễn Hoàng\n",
      "Link: https://vnexpress.net/tin-tuc/the-gioi/elon-musk-vao-hang-tham-luang-khi-mang-tau-ngam-mini-toi-thai-lan-3775396.html\n",
      "\n",
      "===================================================3775398===========================================================\n",
      "Title: Huấn luyện viên Thái Lan có thể ra khỏi hang sau đội bóng một ngày\n",
      "Author: Huyền Lê\n",
      "Link: https://vnexpress.net/tin-tuc/the-gioi/huan-luyen-vien-thai-lan-co-the-ra-khoi-hang-sau-doi-bong-mot-ngay-3775398.html\n",
      "\n",
      "===================================================3775387===========================================================\n",
      "Title: Thế giới ngày 10/7: 5 người còn kẹt trong hang Thái Lan có sức khoẻ tốt\n",
      "Author: 5 người kẹt trong hang Thái Lan sức khoẻ tốt\n",
      "Link: https://vnexpress.net/tuong-thuat/the-gioi/the-gioi-ngay-10-7-5-nguoi-con-ket-trong-hang-thai-lan-co-suc-khoe-tot-3775387.html\n",
      "\n",
      "===================================================3775368===========================================================\n",
      "Title: 4 bé trai kẹt trong hang Thái Lan đeo mặt nạ lặn tới bệnh viện dã chiến\n",
      "Author: None\n",
      "Link: https://vnexpress.net/tin-tuc/the-gioi/4-be-trai-ket-trong-hang-thai-lan-deo-mat-na-lan-toi-benh-vien-da-chien-3775368.html\n",
      "\n",
      "===================================================3775355===========================================================\n",
      "Title: 4 thiếu niên đầu tiên được cứu khỏi hang Thái Lan thèm ăn cơm thịt\n",
      "Author: Trọng Giáp\n",
      "Link: https://vnexpress.net/tin-tuc/the-gioi/4-thieu-nien-dau-tien-duoc-cuu-khoi-hang-thai-lan-them-an-com-thit-3775355.html\n",
      "\n",
      "===================================================3774897===========================================================\n",
      "Title: Sức mạnh tình người trong cuộc giải cứu các thiếu niên Thái Lan mắc kẹt\n",
      "Author: Ánh Ngọc\n",
      "Link: https://vnexpress.net/tin-tuc/the-gioi/phan-tich/suc-manh-tinh-nguoi-trong-cuoc-giai-cuu-cac-thieu-nien-thai-lan-mac-ket-3774897.html\n",
      "\n",
      "===================================================3775291===========================================================\n",
      "Title: 8 bé được cứu khỏi hang Thái Lan, ngày cứu hộ thứ hai kết thúc\n",
      "Author: None\n",
      "Link: https://vnexpress.net/tong-thuat/the-gioi/8-be-duoc-cuu-khoi-hang-thai-lan-ngay-cuu-ho-thu-hai-ket-thuc-3775291.html\n",
      "\n",
      "===================================================3775131===========================================================\n",
      "Title: Thái Lan đổ lỗi vụ chìm tàu du lịch cho chủ tour Trung Quốc\n",
      "Author: Phương Vũ\n",
      "Link: https://vnexpress.net/tin-tuc/the-gioi/thai-lan-do-loi-vu-chim-tau-du-lich-cho-chu-tour-trung-quoc-3775131.html\n",
      "\n",
      "===================================================3775142===========================================================\n",
      "Title: Ngách hang tử thần thợ lặn phải vượt qua để cứu thiếu niên Thái Lan mắc kẹt\n",
      "Author: Ý kiến bạn đọc\n",
      "Link: https://vnexpress.net/infographics/the-gioi/ngach-hang-tu-than-tho-lan-phai-vuot-qua-de-cuu-thieu-nien-thai-lan-mac-ket-3775142.html\n",
      "\n",
      "===================================================3774992===========================================================\n",
      "Title: Nhóm thiếu niên Thái Lan thứ hai đã vượt qua ngách hang nguy hiểm nhất\n",
      "Author: Huyền Lê\n",
      "Link: https://vnexpress.net/tin-tuc/the-gioi/nhom-thieu-nien-thai-lan-thu-hai-da-vuot-qua-ngach-hang-nguy-hiem-nhat-3774992.html\n",
      "\n",
      "===================================================3775017===========================================================\n",
      "Title: Cựu binh Mỹ nói việc giải cứu thiếu niên Thái Lan khó như leo đỉnh Everest\n",
      "Author: Nguyễn Hoàng\n",
      "Link: https://vnexpress.net/tin-tuc/the-gioi/cuu-binh-my-noi-viec-giai-cuu-thieu-nien-thai-lan-kho-nhu-leo-dinh-everest-3775017.html\n",
      "\n",
      "===================================================3774791===========================================================\n",
      "Title: 15 ngày giải cứu đội bóng nhí Thái Lan khỏi mê cung tối\n",
      "Author: Phương Vũ\n",
      "Link: https://vnexpress.net/tin-tuc/the-gioi/tu-lieu/15-ngay-giai-cuu-doi-bong-nhi-thai-lan-khoi-me-cung-toi-3774791.html\n",
      "\n",
      "===================================================3774963===========================================================\n",
      "Title: Những nguy hiểm rình rập thiếu niên Thái Lan chờ được giải cứu khỏi hang\n",
      "Author: Ánh Ngọc\n",
      "Link: https://vnexpress.net/tin-tuc/the-gioi/phan-tich/nhung-nguy-hiem-rinh-rap-thieu-nien-thai-lan-cho-duoc-giai-cuu-khoi-hang-3774963.html\n",
      "\n"
     ]
    },
    {
     "name": "stdout",
     "output_type": "stream",
     "text": [
      "===================================================3775068===========================================================\n",
      "Title: Hành trình gian nan thoát khỏi hang của đội bóng nhí Thái Lan mắc kẹt\n",
      "Author: Ý kiến bạn đọc\n",
      "Link: https://vnexpress.net/infographics/tu-lieu/hanh-trinh-gian-nan-thoat-khoi-hang-cua-doi-bong-nhi-thai-lan-mac-ket-3775068.html\n",
      "\n",
      "===================================================3775024===========================================================\n",
      "Title: Trường Thái Lan cầu nguyện cho các cậu bé mắc kẹt trong hang\n",
      "Author: Huyền Lê\n",
      "Link: https://vnexpress.net/tin-tuc/the-gioi/truong-thai-lan-cau-nguyen-cho-cac-cau-be-mac-ket-trong-hang-3775024.html\n",
      "\n",
      "===================================================3774874===========================================================\n",
      "Title: Bác sĩ tham gia quyết định phương án giải cứu nhóm thiếu niên Thái Lan\n",
      "Author: Ánh Ngọc\n",
      "Link: https://vnexpress.net/tin-tuc/the-gioi/tu-lieu/bac-si-tham-gia-quyet-dinh-phuong-an-giai-cuu-nhom-thieu-nien-thai-lan-3774874.html\n",
      "\n",
      "===================================================3774973===========================================================\n",
      "Title: Thợ lặn chật vật luồn lách trong hang thiếu niên Thái Lan mắc kẹt\n",
      "Author: Vũ Hoàng\n",
      "Link: https://vnexpress.net/tin-tuc/the-gioi/tho-lan-chat-vat-luon-lach-trong-hang-thieu-nien-thai-lan-mac-ket-3774973.html\n",
      "\n",
      "===================================================3774885===========================================================\n",
      "Title: Thái Lan họp bàn kế hoạch mới giải cứu 9 người còn mắc kẹt\n",
      "Author: Huyền Lê\n",
      "Link: https://vnexpress.net/tin-tuc/the-gioi/thai-lan-hop-ban-ke-hoach-moi-giai-cuu-9-nguoi-con-mac-ket-3774885.html\n",
      "\n",
      "===================================================3774822===========================================================\n",
      "Title: Nhóm thiếu niên Thái Lan được giải cứu khỏi hang phải cách ly cha mẹ\n",
      "Author: Huyền Lê - Ánh Ngọc\n",
      "Link: https://vnexpress.net/tin-tuc/the-gioi/nhom-thieu-nien-thai-lan-duoc-giai-cuu-khoi-hang-phai-cach-ly-cha-me-3774822.html\n",
      "\n",
      "===================================================3774814===========================================================\n",
      "Title: Báo Thái Lan đưa tin huấn luyện viên đã được cứu vì sức khỏe yếu\n",
      "Author: Huyền Lê\n",
      "Link: https://vnexpress.net/tin-tuc/the-gioi/bao-thai-lan-dua-tin-huan-luyen-vien-da-duoc-cuu-vi-suc-khoe-yeu-3774814.html\n",
      "\n",
      "===================================================3774809===========================================================\n",
      "Title: Elon Musk điều tàu ngầm mini đến Thái Lan để giải cứu đội bóng nhí\n",
      "Author: Phương Vũ\n",
      "Link: https://vnexpress.net/tin-tuc/the-gioi/elon-musk-dieu-tau-ngam-mini-den-thai-lan-de-giai-cuu-doi-bong-nhi-3774809.html\n",
      "\n",
      "===================================================3774765===========================================================\n",
      "Title: 4 em nhỏ Thái Lan thoát khỏi hang sẽ được kiểm tra sức khỏe thế nào?\n",
      "Author: Vũ Hoàng\n",
      "Link: https://vnexpress.net/tin-tuc/the-gioi/4-em-nho-thai-lan-thoat-khoi-hang-se-duoc-kiem-tra-suc-khoe-the-nao-3774765.html\n",
      "\n",
      "===================================================3774739===========================================================\n",
      "Title: 4 thiếu niên Thái Lan mắc kẹt đã rời khỏi hang và đều khỏe mạnh\n",
      "Author: Vũ Hoàng\n",
      "Link: https://vnexpress.net/tong-thuat/the-gioi/4-thieu-nien-thai-lan-mac-ket-da-roi-khoi-hang-va-deu-khoe-manh-3774739.html\n",
      "\n",
      "===================================================3774712===========================================================\n",
      "Title: Huấn luyện viên Thái Lan sẽ thuộc nhóm rời hang cuối cùng\n",
      "Author: Trọng Giáp\n",
      "Link: https://vnexpress.net/tin-tuc/the-gioi/huan-luyen-vien-thai-lan-se-thuoc-nhom-roi-hang-cuoi-cung-3774712.html\n",
      "\n",
      "===================================================3774689===========================================================\n",
      "Title: Cuộc giải cứu đội bóng nhí Thái Lan sẽ kéo dài 2 - 4 ngày\n",
      "Author: Trọng Giáp\n",
      "Link: https://vnexpress.net/tin-tuc/the-gioi/cuoc-giai-cuu-doi-bong-nhi-thai-lan-se-keo-dai-2-4-ngay-3774689.html\n",
      "\n",
      "===================================================3774678===========================================================\n",
      "Title: Huấn luyện viên Thái Lan bị kẹt trong hang từng mất cả gia đình\n",
      "Author: Trọng Giáp\n",
      "Link: https://vnexpress.net/tin-tuc/the-gioi/huan-luyen-vien-thai-lan-bi-ket-trong-hang-tung-mat-ca-gia-dinh-3774678.html\n",
      "\n",
      "===================================================3774588===========================================================\n",
      "Title: Thái Lan sơ tán hiện trường, bắt đầu giải cứu đội bóng nhí\n",
      "Author: None\n",
      "Link: https://vnexpress.net/tong-thuat/the-gioi/thai-lan-so-tan-hien-truong-bat-dau-giai-cuu-doi-bong-nhi-3774588.html\n",
      "\n",
      "===================================================3774567===========================================================\n",
      "Title: Mưa lớn tại khu vực đội bóng nhí Thái Lan mắc kẹt\n",
      "Author: Ánh Ngọc\n",
      "Link: https://vnexpress.net/tin-tuc/the-gioi/mua-lon-tai-khu-vuc-doi-bong-nhi-thai-lan-mac-ket-3774567.html\n",
      "\n",
      "===================================================3774259===========================================================\n",
      "Title: Mức oxy thấp có thể ảnh hưởng đội bóng nhí Thái Lan như thế nào?\n",
      "Author: Phương Vũ\n",
      "Link: https://vnexpress.net/tin-tuc/the-gioi/phan-tich/muc-oxy-thap-co-the-anh-huong-doi-bong-nhi-thai-lan-nhu-the-nao-3774259.html\n",
      "\n",
      "===================================================3774513===========================================================\n",
      "Title: Nhà xác bệnh viện Thái Lan quá tải sau vụ chìm tàu khiến 41 người chết\n",
      "Author: Huyền Lê\n",
      "Link: https://vnexpress.net/tin-tuc/the-gioi/nha-xac-benh-vien-thai-lan-qua-tai-sau-vu-chim-tau-khien-41-nguoi-chet-3774513.html\n",
      "\n",
      "===================================================3774501===========================================================\n",
      "Title: Bố mẹ cầu thủ nhí Thái Lan mắc kẹt không trách huấn luyện viên\n",
      "Author: Huyền Lê\n",
      "Link: https://vnexpress.net/tin-tuc/the-gioi/bo-me-cau-thu-nhi-thai-lan-mac-ket-khong-trach-huan-luyen-vien-3774501.html\n",
      "\n",
      "===================================================3774481===========================================================\n",
      "Title: Thái Lan có thể bắt đầu giải cứu đội bóng nhí từ ngày mai\n",
      "Author: Khánh Lynh\n",
      "Link: https://vnexpress.net/tin-tuc/the-gioi/thai-lan-co-the-bat-dau-giai-cuu-doi-bong-nhi-tu-ngay-mai-3774481.html\n",
      "\n",
      "===================================================3774464===========================================================\n",
      "Title: 41 người chết trong vụ chìm tàu ở Thái Lan, 15 hành khách vẫn mất tích\n",
      "Author: Huyền Lê\n",
      "Link: https://vnexpress.net/tin-tuc/the-gioi/41-nguoi-chet-trong-vu-chim-tau-o-thai-lan-15-hanh-khach-van-mat-tich-3774464.html\n",
      "\n",
      "===================================================3774454===========================================================\n",
      "Title: Sao bóng đá thế giới cổ vũ tinh thần các cầu thủ nhí Thái Lan mắc kẹt\n",
      "Author: Huyền Lê\n",
      "Link: https://vnexpress.net/tin-tuc/the-gioi/sao-bong-da-the-gioi-co-vu-tinh-than-cac-cau-thu-nhi-thai-lan-mac-ket-3774454.html\n",
      "\n",
      "===================================================3774410===========================================================\n",
      "Title: Thái Lan đang có điều kiện thuận lợi nhất để giải cứu đội bóng nhí\n",
      "Author: Khánh Lynh\n",
      "Link: https://vnexpress.net/tin-tuc/the-gioi/thai-lan-dang-co-dieu-kien-thuan-loi-nhat-de-giai-cuu-doi-bong-nhi-3774410.html\n",
      "\n",
      "===================================================3774418===========================================================\n",
      "Title: Đội bóng nhí Thái Lan gửi thư ra ngoài trấn an bố mẹ\n",
      "Author: Huyền Lê\n",
      "Link: https://vnexpress.net/tin-tuc/the-gioi/doi-bong-nhi-thai-lan-gui-thu-ra-ngoai-tran-an-bo-me-3774418.html\n",
      "\n",
      "===================================================3774285===========================================================\n",
      "Title: Thợ săn tổ yến tìm kiếm lối thoát khác cho đội bóng nhí Thái Lan\n",
      "Author: Ánh Ngọc\n",
      "Link: https://vnexpress.net/tin-tuc/the-gioi/tho-san-to-yen-tim-kiem-loi-thoat-khac-cho-doi-bong-nhi-thai-lan-3774285.html\n",
      "\n",
      "===================================================3774242===========================================================\n",
      "Title: Thế giới ngày 7/7: Đội bóng nhí Thái Lan chưa sẵn sàng lặn ra khỏi hang\n",
      "Author: Đội bóng nhí Thái Lan chưa sẵn sàng lặn ra khỏi hang\n",
      "Link: https://vnexpress.net/tuong-thuat/the-gioi/the-gioi-ngay-7-7-doi-bong-nhi-thai-lan-chua-san-sang-lan-ra-khoi-hang-3774242.html\n",
      "\n"
     ]
    },
    {
     "name": "stdout",
     "output_type": "stream",
     "text": [
      "===================================================3773673===========================================================\n",
      "Title: Từng gương mặt của đội bóng nhí Thái Lan mắc kẹt trong hang\n",
      "Author: Vũ Hoàng\n",
      "Link: https://vnexpress.net/tin-tuc/the-gioi/tu-lieu/tung-guong-mat-cua-doi-bong-nhi-thai-lan-mac-ket-trong-hang-3773673.html\n",
      "\n",
      "===================================================3774207===========================================================\n",
      "Title: Thợ lặn nói đánh thuốc mê là cách dễ nhất cứu đội bóng nhí Thái Lan\n",
      "Author: Khánh Lynh\n",
      "Link: https://vnexpress.net/tin-tuc/the-gioi/tho-lan-noi-danh-thuoc-me-la-cach-de-nhat-cuu-doi-bong-nhi-thai-lan-3774207.html\n",
      "\n",
      "===================================================3774183===========================================================\n",
      "Title: Thái Lan đưa thi hài đặc nhiệm tử nạn trong hang Tham Luang về quê\n",
      "Author: Khánh Lynh\n",
      "Link: https://vnexpress.net/tin-tuc/the-gioi/thai-lan-dua-thi-hai-dac-nhiem-tu-nan-trong-hang-tham-luang-ve-que-3774183.html\n",
      "\n",
      "===================================================3773944===========================================================\n",
      "Title: Nhiệt huyết của cựu đặc nhiệm tử nạn khi cứu đội bóng nhí Thái Lan\n",
      "Author: Phương Vũ\n",
      "Link: https://vnexpress.net/tin-tuc/the-gioi/tu-lieu/nhiet-huyet-cua-cuu-dac-nhiem-tu-nan-khi-cuu-doi-bong-nhi-thai-lan-3773944.html\n",
      "\n",
      "===================================================3774085===========================================================\n",
      "Title: Cậu bé giỏi tiếng Anh của đội bóng nhí Thái Lan được ví như 'ngọc quý'\n",
      "Author: Vũ Hoàng\n",
      "Link: https://vnexpress.net/tin-tuc/the-gioi/cuoc-song-do-day/cau-be-gioi-tieng-anh-cua-doi-bong-nhi-thai-lan-duoc-vi-nhu-ngoc-quy-3774085.html\n",
      "\n",
      "===================================================3774022===========================================================\n",
      "Title: 40 người thiệt mạng trong vụ chìm tàu ở Thái Lan\n",
      "Author: Vũ Hoàng\n",
      "Link: https://vnexpress.net/tin-tuc/the-gioi/40-nguoi-thiet-mang-trong-vu-chim-tau-o-thai-lan-3774022.html\n",
      "\n",
      "===================================================3773990===========================================================\n",
      "Title: Phát hiện đường hầm có thể dẫn tới nơi đội bóng nhí Thái Lan mắc kẹt\n",
      "Author: Ánh Ngọc\n",
      "Link: https://vnexpress.net/tin-tuc/the-gioi/phat-hien-duong-ham-co-the-dan-toi-noi-doi-bong-nhi-thai-lan-mac-ket-3773990.html\n",
      "\n",
      "===================================================3773696===========================================================\n",
      "Title: Kinh nghiệm thiền của huấn luyện viên giúp đội bóng nhí Thái Lan thế nào?\n",
      "Author: Phương Vũ\n",
      "Link: https://vnexpress.net/tin-tuc/the-gioi/tu-lieu/kinh-nghiem-thien-cua-huan-luyen-vien-giup-doi-bong-nhi-thai-lan-the-nao-3773696.html\n",
      "\n",
      "===================================================3773809===========================================================\n",
      "Title: Hàng chục khách Trung Quốc có thể mắc kẹt trong tàu chìm ở Thái Lan\n",
      "Author: Huyền Lê\n",
      "Link: https://vnexpress.net/tin-tuc/the-gioi/hang-chuc-khach-trung-quoc-co-the-mac-ket-trong-tau-chim-o-thai-lan-3773809.html\n",
      "\n",
      "===================================================3773754===========================================================\n",
      "Title: Đội bóng nhí Thái Lan mắc kẹt hỏi kết quả World Cup\n",
      "Author: Ánh Ngọc\n",
      "Link: https://vnexpress.net/tin-tuc/the-gioi/doi-bong-nhi-thai-lan-mac-ket-hoi-ket-qua-world-cup-3773754.html\n",
      "\n",
      "===================================================3773651===========================================================\n",
      "Title: Thế giới ngày 6/7: Đội bóng nhí Thái Lan chưa đủ sức khoẻ để thoát khỏi hang\n",
      "Author: Đội bóng nhí Thái Lan chưa đủ sức khoẻ thoát khỏi hang\n",
      "Link: https://vnexpress.net/tuong-thuat/the-gioi/the-gioi-ngay-6-7-doi-bong-nhi-thai-lan-chua-du-suc-khoe-de-thoat-khoi-hang-3773651.html\n",
      "\n",
      "===================================================3773644===========================================================\n",
      "Title: Máy bay Thái Lan rơi xuống biên giới giáp Myanmar, ba người chết\n",
      "Author: Huyền Lê\n",
      "Link: https://vnexpress.net/tin-tuc/the-gioi/may-bay-thai-lan-roi-xuong-bien-gioi-giap-myanmar-ba-nguoi-chet-3773644.html\n",
      "\n",
      "===================================================3773627===========================================================\n",
      "Title: Có thể tồn tại lối thoát bí mật cho đội bóng nhí Thái Lan\n",
      "Author: Huyền Lê\n",
      "Link: https://vnexpress.net/tin-tuc/the-gioi/co-the-ton-tai-loi-thoat-bi-mat-cho-doi-bong-nhi-thai-lan-3773627.html\n",
      "\n",
      "===================================================3773532===========================================================\n",
      "Title: Thách thức của ba phương án giải cứu đội bóng nhí Thái Lan mắc kẹt\n",
      "Author: Huyền Lê\n",
      "Link: https://vnexpress.net/tin-tuc/the-gioi/thach-thuc-cua-ba-phuong-an-giai-cuu-doi-bong-nhi-thai-lan-mac-ket-3773532.html\n",
      "\n",
      "===================================================3773621===========================================================\n",
      "Title: Thái Lan tìm đường ngắn hơn tới nơi đội bóng nhí bị mắc kẹt\n",
      "Author: Huyền Lê\n",
      "Link: https://vnexpress.net/tin-tuc/the-gioi/thai-lan-tim-duong-ngan-hon-toi-noi-doi-bong-nhi-bi-mac-ket-3773621.html\n",
      "\n",
      "===================================================3773564===========================================================\n",
      "Title: Đường thoát khỏi hang của đội bóng nhí Thái Lan\n",
      "Author: Vũ Hoàng\n",
      "Link: https://vnexpress.net/tin-tuc/the-gioi/duong-thoat-khoi-hang-cua-doi-bong-nhi-thai-lan-3773564.html\n",
      "\n",
      "===================================================3773572===========================================================\n",
      "Title: Cấu trúc phức tạp của hang động đội bóng nhí Thái Lan mắc kẹt\n",
      "Author: None\n",
      "Link: https://vnexpress.net/tin-tuc/the-gioi/cau-truc-phuc-tap-cua-hang-dong-doi-bong-nhi-thai-lan-mac-ket-3773572.html\n",
      "\n",
      "===================================================3773380===========================================================\n",
      "Title: Hành trình tìm kiếm đội bóng nhí Thái Lan kẹt trong hang ngập nước\n",
      "Author: None\n",
      "Link: https://video.vnexpress.net/tin-tuc/the-gioi/hanh-trinh-tim-kiem-doi-bong-nhi-thai-lan-ket-trong-hang-ngap-nuoc-3773380.html\n",
      "\n",
      "===================================================3773182===========================================================\n",
      "Title: Ba phương án giải cứu đội bóng nhí Thái Lan khỏi hang ngập nước\n",
      "Author: Thành Nguyễn\n",
      "Link: https://vnexpress.net/tin-tuc/the-gioi/phan-tich/ba-phuong-an-giai-cuu-doi-bong-nhi-thai-lan-khoi-hang-ngap-nuoc-3773182.html\n",
      "\n",
      "===================================================3773147===========================================================\n",
      "Title: Đội bóng nhí Thái Lan có thể lặn ra ngoài như thế nào?\n",
      "Author: Phương Vũ\n",
      "Link: https://vnexpress.net/tin-tuc/the-gioi/tu-lieu/doi-bong-nhi-thai-lan-co-the-lan-ra-ngoai-nhu-the-nao-3773147.html\n",
      "\n",
      "===================================================3773318===========================================================\n",
      "Title: Cuộc giải cứu đội bóng nhí Thái Lan trong mưa và bùn lầy\n",
      "Author: Ý kiến bạn đọc\n",
      "Link: https://vnexpress.net/photo/the-gioi/cuoc-giai-cuu-doi-bong-nhi-thai-lan-trong-mua-va-bun-lay-3773318.html\n",
      "\n",
      "===================================================3773159===========================================================\n",
      "Title: Những nguy hiểm khi đưa đội bóng nhí Thái Lan lặn khỏi hang\n",
      "Author: Vũ Hoàng\n",
      "Link: https://vnexpress.net/tin-tuc/the-gioi/phan-tich/nhung-nguy-hiem-khi-dua-doi-bong-nhi-thai-lan-lan-khoi-hang-3773159.html\n",
      "\n",
      "===================================================3773194===========================================================\n",
      "Title: Thái Lan cử 31 người nhái cứu hộ đội bóng nhí mắc kẹt trong hang\n",
      "Author: Ánh Ngọc\n",
      "Link: https://vnexpress.net/tin-tuc/the-gioi/quan-su/thai-lan-cu-31-nguoi-nhai-cuu-ho-doi-bong-nhi-mac-ket-trong-hang-3773194.html\n",
      "\n",
      "===================================================3773200===========================================================\n",
      "Title: Thái Lan bắt giữ 9.400 người cá độ bóng đá mùa World Cup\n",
      "Author: Huyền Lê\n",
      "Link: https://vnexpress.net/tin-tuc/the-gioi/thai-lan-bat-giu-9-400-nguoi-ca-do-bong-da-mua-world-cup-3773200.html\n",
      "\n",
      "===================================================3773158===========================================================\n",
      "Title: Thái Lan chặn hai con suối trút nước vào hang nơi đội bóng nhí mắc kẹt\n",
      "Author: Ánh Ngọc\n",
      "Link: https://vnexpress.net/tin-tuc/the-gioi/thai-lan-chan-hai-con-suoi-trut-nuoc-vao-hang-noi-doi-bong-nhi-mac-ket-3773158.html\n",
      "\n"
     ]
    },
    {
     "name": "stdout",
     "output_type": "stream",
     "text": [
      "===================================================3772859===========================================================\n",
      "Title: Lý do đội bóng nhí Thái Lan sống sót suốt 9 ngày trong hang tối\n",
      "Author: Vũ Hoàng\n",
      "Link: https://vnexpress.net/tin-tuc/the-gioi/phan-tich/ly-do-doi-bong-nhi-thai-lan-song-sot-suot-9-ngay-trong-hang-toi-3772859.html\n",
      "\n",
      "===================================================3773144===========================================================\n",
      "Title: Quốc vương Thái Lan hối thúc giải cứu đội bóng nhí\n",
      "Author: Huyền Lê\n",
      "Link: https://vnexpress.net/tin-tuc/the-gioi/quoc-vuong-thai-lan-hoi-thuc-giai-cuu-doi-bong-nhi-3773144.html\n",
      "\n",
      "===================================================3773105===========================================================\n",
      "Title: Hang Thái Lan có thể trở thành điểm đến hút khách vì đội bóng nhí mắc kẹt\n",
      "Author: Phương Vũ\n",
      "Link: https://vnexpress.net/tin-tuc/the-gioi/hang-thai-lan-co-the-tro-thanh-diem-den-hut-khach-vi-doi-bong-nhi-mac-ket-3773105.html\n",
      "\n",
      "===================================================3773061===========================================================\n",
      "Title: Hành trình tới nơi đội bóng nhí Thái Lan mắc kẹt trong hang\n",
      "Author: Ý kiến bạn đọc\n",
      "Link: https://vnexpress.net/infographics/the-gioi/hanh-trinh-toi-noi-doi-bong-nhi-thai-lan-mac-ket-trong-hang-3773061.html\n",
      "\n",
      "===================================================3773102===========================================================\n",
      "Title: Đội bóng nhí Thái Lan bắt đầu học lặn\n",
      "Author: Phương Vũ\n",
      "Link: https://vnexpress.net/tin-tuc/the-gioi/doi-bong-nhi-thai-lan-bat-dau-hoc-lan-3773102.html\n",
      "\n",
      "===================================================3772663===========================================================\n",
      "Title: Nỗi ám ảnh cầu thủ nhí Thái Lan có thể gặp khi kẹt trong hang lâu ngày\n",
      "Author: Phương Vũ\n",
      "Link: https://vnexpress.net/tin-tuc/the-gioi/phan-tich/noi-am-anh-cau-thu-nhi-thai-lan-co-the-gap-khi-ket-trong-hang-lau-ngay-3772663.html\n",
      "\n",
      "===================================================3773023===========================================================\n",
      "Title: Huấn luyện viên đội bóng nhí Thái Lan mắc kẹt có thể bị truy tố\n",
      "Author: Huyền Lê\n",
      "Link: https://vnexpress.net/tin-tuc/the-gioi/huan-luyen-vien-doi-bong-nhi-thai-lan-mac-ket-co-the-bi-truy-to-3773023.html\n",
      "\n",
      "===================================================3773047===========================================================\n",
      "Title: Lý do khiến đội bóng nhí Thái Lan vào hang sâu bất chấp nguy hiểm\n",
      "Author: Anh Ngọc\n",
      "Link: https://vnexpress.net/tin-tuc/the-gioi/ly-do-khien-doi-bong-nhi-thai-lan-vao-hang-sau-bat-chap-nguy-hiem-3773047.html\n",
      "\n",
      "===================================================3772885===========================================================\n",
      "Title: Gia đình cầu thủ nhí Thái Lan mắc kẹt trong hang chờ con về đón sinh nhật\n",
      "Author: Huyền Lê\n",
      "Link: https://vnexpress.net/tin-tuc/the-gioi/gia-dinh-cau-thu-nhi-thai-lan-mac-ket-trong-hang-cho-con-ve-don-sinh-nhat-3772885.html\n",
      "\n",
      "===================================================3772641===========================================================\n",
      "Title: Những thợ lặn làm nên phép màu trong cuộc tìm kiếm đội bóng nhí Thái Lan\n",
      "Author: Vũ Hoàng\n",
      "Link: https://vnexpress.net/tin-tuc/the-gioi/tu-lieu/nhung-tho-lan-lam-nen-phep-mau-trong-cuoc-tim-kiem-doi-bong-nhi-thai-lan-3772641.html\n",
      "\n",
      "===================================================3772836===========================================================\n",
      "Title: Bác sĩ quân y Thái Lan tình nguyện ở lại hang chăm sóc đội bóng mắc kẹt\n",
      "Author: Nguyễn Hoàng\n",
      "Link: https://vnexpress.net/tin-tuc/the-gioi/quan-su/bac-si-quan-y-thai-lan-tinh-nguyen-o-lai-hang-cham-soc-doi-bong-mac-ket-3772836.html\n",
      "\n",
      "===================================================3772785===========================================================\n",
      "Title: Mất bao lâu để đưa đội bóng nhí Thái Lan ra khỏi hang ngập nước?\n",
      "Author: Ánh Ngọc\n",
      "Link: https://vnexpress.net/tin-tuc/the-gioi/mat-bao-lau-de-dua-doi-bong-nhi-thai-lan-ra-khoi-hang-ngap-nuoc-3772785.html\n",
      "\n",
      "===================================================3772644===========================================================\n",
      "Title: Không khí 'như gia đình' tại nơi giải cứu đội bóng nhí Thái Lan\n",
      "Author: Vũ Hoàng\n",
      "Link: https://vnexpress.net/tin-tuc/the-gioi/tu-lieu/khong-khi-nhu-gia-dinh-tai-noi-giai-cuu-doi-bong-nhi-thai-lan-3772644.html\n",
      "\n",
      "===================================================3772728===========================================================\n",
      "Title: Đội bóng nhí Thái Lan uống nước từ thạch nhũ để sống sót trong hang\n",
      "Author: Ánh Ngọc\n",
      "Link: https://vnexpress.net/tin-tuc/the-gioi/doi-bong-nhi-thai-lan-uong-nuoc-tu-thach-nhu-de-song-sot-trong-hang-3772728.html\n",
      "\n",
      "===================================================3772688===========================================================\n",
      "Title: Đội bóng nhí Thái Lan cười lạc quan khi chờ được giải cứu\n",
      "Author: Huyền Lê\n",
      "Link: https://vnexpress.net/tin-tuc/the-gioi/doi-bong-nhi-thai-lan-cuoi-lac-quan-khi-cho-duoc-giai-cuu-3772688.html\n",
      "\n",
      "===================================================3772511===========================================================\n",
      "Title: Hiểm họa đe dọa tính mạng đội bóng nhí Thái Lan mắc kẹt\n",
      "Author: Ánh Ngọc\n",
      "Link: https://vnexpress.net/tin-tuc/the-gioi/hiem-hoa-de-doa-tinh-mang-doi-bong-nhi-thai-lan-mac-ket-3772511.html\n",
      "\n",
      "===================================================3772632===========================================================\n",
      "Title: Thế giới ngày 4/7: Thái Lan đẩy nhanh giải cứu đội bóng nhí bị mắc kẹt\n",
      "Author: Thái Lan muốn sớm đưa đội bóng nhí bị mắc kẹt ra khỏi hang\n",
      "Link: https://vnexpress.net/tuong-thuat/the-gioi/the-gioi-ngay-4-7-thai-lan-day-nhanh-giai-cuu-doi-bong-nhi-bi-mac-ket-3772632.html\n",
      "\n",
      "===================================================3772373===========================================================\n",
      "Title: Huyền thoại về hang đá nơi đội bóng nhí Thái Lan mắc kẹt\n",
      "Author: Truyền thuyết về nàng công chúa xấu số\n",
      "Link: https://vnexpress.net/tin-tuc/the-gioi/tu-lieu/huyen-thoai-ve-hang-da-noi-doi-bong-nhi-thai-lan-mac-ket-3772373.html\n",
      "\n",
      "===================================================3772290===========================================================\n",
      "Title: Đội bóng nhí Thái Lan có thể phải điều trị tâm lý sau khi được giải cứu\n",
      "Author: Huyền Lê\n",
      "Link: https://vnexpress.net/tin-tuc/the-gioi/doi-bong-nhi-thai-lan-co-the-phai-dieu-tri-tam-ly-sau-khi-duoc-giai-cuu-3772290.html\n",
      "\n",
      "===================================================3772146===========================================================\n",
      "Title: 9 ngày khoét hang, vượt lũ cứu đội bóng nhí Thái Lan mắc kẹt\n",
      "Author: Phương Vũ\n",
      "Link: https://vnexpress.net/tin-tuc/the-gioi/tu-lieu/9-ngay-khoet-hang-vuot-lu-cuu-doi-bong-nhi-thai-lan-mac-ket-3772146.html\n",
      "\n",
      "===================================================3771877===========================================================\n",
      "Title: Đội đặc nhiệm SEAL Thái Lan trong chiến dịch tìm kiếm đội bóng nhí mắc kẹt\n",
      "Author: Phương Vũ\n",
      "Link: https://vnexpress.net/tin-tuc/the-gioi/quan-su/doi-dac-nhiem-seal-thai-lan-trong-chien-dich-tim-kiem-doi-bong-nhi-mac-ket-3771877.html\n",
      "\n",
      "===================================================3772134===========================================================\n",
      "Title: Thợ lặn Anh đầu tiên tìm thấy đội bóng nhí Thái Lan mắc kẹt\n",
      "Author: Ánh Ngọc\n",
      "Link: https://vnexpress.net/tin-tuc/the-gioi/tho-lan-anh-dau-tien-tim-thay-doi-bong-nhi-thai-lan-mac-ket-3772134.html\n",
      "\n",
      "===================================================3772140===========================================================\n",
      "Title: Đội bóng nhí Thái Lan sẽ được học lặn để thoát khỏi hang động\n",
      "Author: Huyền Lê\n",
      "Link: https://vnexpress.net/tin-tuc/the-gioi/doi-bong-nhi-thai-lan-se-duoc-hoc-lan-de-thoat-khoi-hang-dong-3772140.html\n",
      "\n",
      "===================================================3772111===========================================================\n",
      "Title: Thế giới ngày 3/7: Khoảnh khắc tìm thấy đội bóng Thái Lan trong hang\n",
      "Author: Khoảnh khắc tìm thấy đội bóng Thái Lan mất tích sau 9 ngày\n",
      "Link: https://vnexpress.net/tuong-thuat/the-gioi/the-gioi-ngay-3-7-khoanh-khac-tim-thay-doi-bong-thai-lan-trong-hang-3772111.html\n",
      "\n",
      "===================================================3772089===========================================================\n",
      "Title: Đội bóng Thái Lan mất tích 9 ngày trong hang còn sống\n",
      "Author: Trọng Giáp\n",
      "Link: https://vnexpress.net/tin-tuc/the-gioi/doi-bong-thai-lan-mat-tich-9-ngay-trong-hang-con-song-3772089.html\n",
      "\n"
     ]
    },
    {
     "name": "stdout",
     "output_type": "stream",
     "text": [
      "===================================================3771940===========================================================\n",
      "Title: Đặc nhiệm Thái Lan mở đường vào khoang ngầm nơi đội bóng có thể mắc kẹt\n",
      "Author: Ánh Ngọc\n",
      "Link: https://vnexpress.net/tin-tuc/the-gioi/dac-nhiem-thai-lan-mo-duong-vao-khoang-ngam-noi-doi-bong-co-the-mac-ket-3771940.html\n",
      "\n",
      "===================================================3771354===========================================================\n",
      "Title: Thợ lặn sắp tiếp cận nơi nghi có đội bóng Thái Lan mắc kẹt\n",
      "Author: Vũ Anh\n",
      "Link: https://vnexpress.net/tin-tuc/the-gioi/tho-lan-sap-tiep-can-noi-nghi-co-doi-bong-thai-lan-mac-ket-3771354.html\n",
      "\n",
      "===================================================3771259===========================================================\n",
      "Title: Nước rút, cứu hộ Thái Lan tăng tốc tìm kiếm đội bóng mắc kẹt\n",
      "Author: Vũ Hoàng\n",
      "Link: https://vnexpress.net/tin-tuc/the-gioi/nuoc-rut-cuu-ho-thai-lan-tang-toc-tim-kiem-doi-bong-mac-ket-3771259.html\n",
      "\n",
      "===================================================3771035===========================================================\n",
      "Title: Nhân viên cứu hộ bị ngất khi tìm kiếm đội bóng Thái Lan kẹt trong hang\n",
      "Author: Ánh Ngọc\n",
      "Link: https://vnexpress.net/tin-tuc/the-gioi/nhan-vien-cuu-ho-bi-ngat-khi-tim-kiem-doi-bong-thai-lan-ket-trong-hang-3771035.html\n",
      "\n",
      "===================================================3770930===========================================================\n",
      "Title: Lý do đội cứu hộ chưa thể tìm thấy đội bóng mắc kẹt trong hang Thái Lan\n",
      "Author: Ánh Ngọc\n",
      "Link: https://vnexpress.net/tin-tuc/the-gioi/phan-tich/ly-do-doi-cuu-ho-chua-the-tim-thay-doi-bong-mac-ket-trong-hang-thai-lan-3770930.html\n",
      "\n",
      "===================================================3770982===========================================================\n",
      "Title: Thái Lan khoan núi, thả đồ cứu sinh vào hang nơi đội bóng mắc kẹt\n",
      "Author: Khánh Lynh\n",
      "Link: https://vnexpress.net/tin-tuc/the-gioi/thai-lan-khoan-nui-tha-do-cuu-sinh-vao-hang-noi-doi-bong-mac-ket-3770982.html\n",
      "\n",
      "===================================================3770767===========================================================\n",
      "Title: Quân đội Mỹ tham gia tìm kiếm đội bóng Thái Lan mắc kẹt trong hang động\n",
      "Author: Ánh Ngọc\n",
      "Link: https://vnexpress.net/tin-tuc/the-gioi/quan-doi-my-tham-gia-tim-kiem-doi-bong-thai-lan-mac-ket-trong-hang-dong-3770767.html\n",
      "\n",
      "===================================================3770796===========================================================\n",
      "Title: Diễn biến cuộc tìm kiếm đội bóng kẹt trong hang đá tại Thái Lan\n",
      "Author: Ý kiến bạn đọc\n",
      "Link: https://vnexpress.net/infographics/the-gioi/dien-bien-cuoc-tim-kiem-doi-bong-ket-trong-hang-da-tai-thai-lan-3770796.html\n",
      "\n",
      "===================================================3769048===========================================================\n",
      "Title: Thái Lan tìm kiếm đội bóng mất tích trong hang động ngập lụt\n",
      "Author: Huyền Lê\n",
      "Link: https://vnexpress.net/tin-tuc/the-gioi/thai-lan-tim-kiem-doi-bong-mat-tich-trong-hang-dong-ngap-lut-3769048.html\n",
      "\n",
      "===================================================3777617===========================================================\n",
      "Title: Thợ lặn giải cứu đội bóng nhí Thái từng mất dấu dây dẫn đường\n",
      "Author: Phương Vũ\n",
      "Link: https://vnexpress.net/tin-tuc/the-gioi/tho-lan-giai-cuu-doi-bong-nhi-thai-tung-mat-dau-day-dan-duong-3777617.html\n",
      "\n",
      "===================================================3777596===========================================================\n",
      "Title: Thợ lặn Anh kể lại khoảnh khắc phát hiện đội bóng nhí Thái trong hang\n",
      "Author: Phương Vũ\n",
      "Link: https://vnexpress.net/tin-tuc/the-gioi/tho-lan-anh-ke-lai-khoanh-khac-phat-hien-doi-bong-nhi-thai-trong-hang-3777596.html\n",
      "\n",
      "===================================================3777271===========================================================\n",
      "Title: Thông điệp đặc nhiệm SEAL Thái gửi tới đội bóng Lợn Hoang\n",
      "Author: Nguyễn Hoàng\n",
      "Link: https://vnexpress.net/tin-tuc/the-gioi/quan-su/thong-diep-dac-nhiem-seal-thai-gui-toi-doi-bong-lon-hoang-3777271.html\n",
      "\n",
      "===================================================3776592===========================================================\n",
      "Title: Hải quân Thái tiết lộ hành trình dò hang tối giải cứu đội bóng nhí\n",
      "Author: Vũ Hoàng\n",
      "Link: https://vnexpress.net/tin-tuc/the-gioi/tu-lieu/hai-quan-thai-tiet-lo-hanh-trinh-do-hang-toi-giai-cuu-doi-bong-nhi-3776592.html\n",
      "\n",
      "===================================================3776609===========================================================\n",
      "Title: Khoảnh khắc các thợ lặn cuối cùng rời hang sau cuộc giải cứu đội bóng nhí\n",
      "Author: Anh Ngọc\n",
      "Link: https://vnexpress.net/tin-tuc/the-gioi/khoanh-khac-cac-tho-lan-cuoi-cung-roi-hang-sau-cuoc-giai-cuu-doi-bong-nhi-3776609.html\n",
      "\n",
      "===================================================3776565===========================================================\n",
      "Title: Hang Tham Luang sẽ trở thành bảo tàng về hoạt động giải cứu đội bóng nhí\n",
      "Author: Nguyễn Hoàng\n",
      "Link: https://vnexpress.net/tin-tuc/the-gioi/hang-tham-luang-se-tro-thanh-bao-tang-ve-hoat-dong-giai-cuu-doi-bong-nhi-3776565.html\n",
      "\n",
      "===================================================3776194===========================================================\n",
      "Title: Bác sĩ Australia mất cha khi vừa kết thúc chiến dịch giải cứu đội bóng nhí\n",
      "Author: Anh Ngọc\n",
      "Link: https://vnexpress.net/tin-tuc/the-gioi/bac-si-australia-mat-cha-khi-vua-ket-thuc-chien-dich-giai-cuu-doi-bong-nhi-3776194.html\n",
      "\n",
      "===================================================3776044===========================================================\n",
      "Title: Thợ lặn thiệt mạng khi giải cứu đội bóng nhí được tưởng nhớ như anh hùng\n",
      "Author: Anh Ngọc\n",
      "Link: https://vnexpress.net/tin-tuc/the-gioi/cuoc-song-do-day/tho-lan-thiet-mang-khi-giai-cuu-doi-bong-nhi-duoc-tuong-nho-nhu-anh-hung-3776044.html\n",
      "\n",
      "===================================================3776037===========================================================\n",
      "Title: Elon Musk nghi ngờ chuyên môn của chỉ huy chiến dịch cứu hộ đội bóng nhí\n",
      "Author: Anh Ngọc\n",
      "Link: https://vnexpress.net/tin-tuc/the-gioi/elon-musk-nghi-ngo-chuyen-mon-cua-chi-huy-chien-dich-cuu-ho-doi-bong-nhi-3776037.html\n",
      "\n",
      "===================================================3775957===========================================================\n",
      "Title: Người Thái hân hoan vì chiến dịch giải cứu đội bóng nhí thành công\n",
      "Author: Vũ Hoàng\n",
      "Link: https://vnexpress.net/tin-tuc/the-gioi/nguoi-thai-han-hoan-vi-chien-dich-giai-cuu-doi-bong-nhi-thanh-cong-3775957.html\n",
      "\n",
      "===================================================3775586===========================================================\n",
      "Title: Tàu ngầm mini của Elon Musk không được dùng để giải cứu đội bóng nhí Thái\n",
      "Author: Phương Vũ\n",
      "Link: https://vnexpress.net/tin-tuc/the-gioi/tau-ngam-mini-cua-elon-musk-khong-duoc-dung-de-giai-cuu-doi-bong-nhi-thai-3775586.html\n",
      "\n",
      "===================================================3773834===========================================================\n",
      "Title: Người Thái hiến kế giải cứu đội bóng nhí mắc kẹt\n",
      "Author: Ánh Ngọc\n",
      "Link: https://vnexpress.net/tin-tuc/the-gioi/nguoi-thai-hien-ke-giai-cuu-doi-bong-nhi-mac-ket-3773834.html\n",
      "\n",
      "===================================================3774315===========================================================\n",
      "Title: Những câu hỏi lớn sau 14 ngày đội bóng nhí Thái mắc kẹt trong hang\n",
      "Author: None\n",
      "Link: https://vnexpress.net/tin-tuc/the-gioi/phan-tich/nhung-cau-hoi-lon-sau-14-ngay-doi-bong-nhi-thai-mac-ket-trong-hang-3774315.html\n",
      "\n",
      "===================================================3774337===========================================================\n",
      "Title: Huấn luyện viên đội bóng nhí Thái gửi lời xin lỗi phụ huynh các cậu bé\n",
      "Author: Ánh Ngọc\n",
      "Link: https://vnexpress.net/tin-tuc/the-gioi/huan-luyen-vien-doi-bong-nhi-thai-gui-loi-xin-loi-phu-huynh-cac-cau-be-3774337.html\n",
      "\n",
      "===================================================3774144===========================================================\n",
      "Title: Cậu bé 9 tuổi gốc Thái viết thư xin thủ tướng Hà Lan cứu đội bóng nhí\n",
      "Author: Phạm Khánh\n",
      "Link: https://vnexpress.net/tin-tuc/the-gioi/cuoc-song-do-day/cau-be-9-tuoi-goc-thai-viet-thu-xin-thu-tuong-ha-lan-cuu-doi-bong-nhi-3774144.html\n",
      "\n",
      "===================================================3773672===========================================================\n",
      "Title: Tình nguyện viên bất cẩn bơm nước ngược vào hang đội bóng nhí Thái mắc kẹt\n",
      "Author: Ánh Ngọc\n",
      "Link: https://vnexpress.net/tin-tuc/the-gioi/tinh-nguyen-vien-bat-can-bom-nuoc-nguoc-vao-hang-doi-bong-nhi-thai-mac-ket-3773672.html\n",
      "\n"
     ]
    },
    {
     "name": "stdout",
     "output_type": "stream",
     "text": [
      "===================================================3772965===========================================================\n",
      "Title: Đam mê phiêu lưu của đội bóng đá nhí Thái kẹt trong hang\n",
      "Author: Phương Vũ\n",
      "Link: https://vnexpress.net/tin-tuc/the-gioi/tu-lieu/dam-me-phieu-luu-cua-doi-bong-da-nhi-thai-ket-trong-hang-3772965.html\n",
      "\n",
      "===================================================3773145===========================================================\n",
      "Title: Người Thái tranh cãi về huấn luyện viên đội bóng nhí mắc kẹt trong hang\n",
      "Author: Huyền Lê\n",
      "Link: https://vnexpress.net/tin-tuc/the-gioi/nguoi-thai-tranh-cai-ve-huan-luyen-vien-doi-bong-nhi-mac-ket-trong-hang-3773145.html\n",
      "\n",
      "===================================================3772179===========================================================\n",
      "Title: Người Thái vỡ òa khi chứng kiến phép màu với đội bóng nhí mắc kẹt\n",
      "Author: Vũ Hoàng\n",
      "Link: https://vnexpress.net/tin-tuc/the-gioi/cuoc-song-do-day/nguoi-thai-vo-oa-khi-chung-kien-phep-mau-voi-doi-bong-nhi-mac-ket-3772179.html\n",
      "\n",
      "===================================================3772131===========================================================\n",
      "Title: Những thách thức khi cứu đội bóng nhí Thái ra khỏi hang ngập nước\n",
      "Author: Vũ Hoàng\n",
      "Link: https://vnexpress.net/tin-tuc/the-gioi/tu-lieu/nhung-thach-thuc-khi-cuu-doi-bong-nhi-thai-ra-khoi-hang-ngap-nuoc-3772131.html\n",
      "\n",
      "===================================================3771572===========================================================\n",
      "Title: Những điều đội bóng Thái có thể làm để sống sót trong hang động\n",
      "Author: Phương Vũ\n",
      "Link: https://vnexpress.net/tin-tuc/the-gioi/tu-lieu/nhung-dieu-doi-bong-thai-co-the-lam-de-song-sot-trong-hang-dong-3771572.html\n",
      "\n",
      "===================================================3771059===========================================================\n",
      "Title: Một tuần gian nan tìm kiếm đội bóng Thái mắc kẹt trong hang\n",
      "Author: Phương Vũ\n",
      "Link: https://vnexpress.net/tin-tuc/the-gioi/tu-lieu/mot-tuan-gian-nan-tim-kiem-doi-bong-thai-mac-ket-trong-hang-3771059.html\n",
      "\n",
      "===================================================3771176===========================================================\n",
      "Title: Lực lượng cứu hộ luyện tập sơ tán đội bóng Thái mắc kẹt trong hang\n",
      "Author: Vũ Hoàng\n",
      "Link: https://vnexpress.net/tin-tuc/the-gioi/luc-luong-cuu-ho-luyen-tap-so-tan-doi-bong-thai-mac-ket-trong-hang-3771176.html\n",
      "\n",
      "===================================================3771058===========================================================\n",
      "Title: Người Thái cầu phép màu với đội bóng mắc kẹt trong hang\n",
      "Author: Ánh Ngọc\n",
      "Link: https://vnexpress.net/tin-tuc/the-gioi/nguoi-thai-cau-phep-mau-voi-doi-bong-mac-ket-trong-hang-3771058.html\n",
      "\n",
      "===================================================3777539===========================================================\n",
      "Title: Đội bóng Lợn Hoang luyện tập trở lại sau khi 12 người bạn được giải cứu\n",
      "Author: None\n",
      "Link: https://vnexpress.net/tin-tuc/the-gioi/doi-bong-lon-hoang-luyen-tap-tro-lai-sau-khi-12-nguoi-ban-duoc-giai-cuu-3777539.html\n",
      "\n",
      "===================================================3776564===========================================================\n",
      "Title: Thế giới ngày 12/7: Đội bóng nhí Thái không tự lặn mà nằm trên cáng trong quá trình giải cứu\n",
      "Author: Đội bóng nhí Thái không tự lặn mà nằm trên cáng trong quá trình giải cứu\n",
      "Link: https://vnexpress.net/tuong-thuat/the-gioi/the-gioi-ngay-12-7-doi-bong-nhi-thai-khong-tu-lan-ma-nam-tren-cang-trong-qua-trinh-giai-cuu-3776564.html\n",
      "\n",
      "===================================================3774795===========================================================\n",
      "Title: Đội bóng nhí Thái mong giáo viên không giao nhiều bài tập\n",
      "Author: Phương Vũ\n",
      "Link: https://vnexpress.net/tin-tuc/the-gioi/cuoc-song-do-day/doi-bong-nhi-thai-mong-giao-vien-khong-giao-nhieu-bai-tap-3774795.html\n",
      "\n",
      "===================================================3775576===========================================================\n",
      "Title: Hai cậu bé được giải cứu khỏi hang Thái Lan bị viêm phổi\n",
      "Author: Anh Ngọc\n",
      "Link: https://vnexpress.net/tin-tuc/the-gioi/hai-ca-u-be-duo-c-gia-i-cu-u-kho-i-hang-tha-i-lan-bi-viem-pho-i-3775576.html\n",
      "\n",
      "===================================================3775422===========================================================\n",
      "Title: Thái Lan cầu 'thần mưa' phù hộ cho cuộc giải cứu đội bóng nhí trong hang\n",
      "Author: Anh Ngọc\n",
      "Link: https://vnexpress.net/tin-tuc/the-gioi/tha-i-lan-ca-u-tha-n-mua-phu-ho-cho-cuo-c-gia-i-cu-u-do-i-bo-ng-nhi-trong-hang-3775422.html\n",
      "\n",
      "===================================================3775404===========================================================\n",
      "Title: Thợ lặn giải cứu thiếu niên mắc kẹt trong hang Tham Luang thế nào?\n",
      "Author: Ý kiến bạn đọc\n",
      "Link: https://vnexpress.net/infographics/the-gioi/tho-lan-giai-cuu-thieu-nien-mac-ket-trong-hang-tham-luang-the-nao-3775404.html\n",
      "\n",
      "===================================================3775061===========================================================\n",
      "Title: Em út của đội bóng nhí Thái Lan ước được ăn gà rán sau khi ra khỏi hang\n",
      "Author: Anh Ngọc\n",
      "Link: https://vnexpress.net/tin-tuc/the-gioi/cuoc-song-do-day/em-u-t-cu-a-do-i-bo-ng-nhi-tha-i-lan-uo-c-duo-c-an-ga-ra-n-sau-khi-ra-kho-i-hang-3775061.html\n",
      "\n",
      "===================================================3774762===========================================================\n",
      "Title: Danh tính cậu bé Thái đầu tiên được đưa khỏi hang\n",
      "Author: Vũ Hoàng\n",
      "Link: https://vnexpress.net/tin-tuc/the-gioi/danh-tinh-cau-be-thai-dau-tien-duoc-dua-khoi-hang-3774762.html\n",
      "\n",
      "===================================================3774299===========================================================\n",
      "Title: Không gian nhỏ hẹp và ngập nước bên trong hang Tham Luang\n",
      "Author: Anh Ngọc\n",
      "Link: https://vnexpress.net/tin-tuc/the-gioi/khong-gian-nho-hep-va-ngap-nuoc-ben-trong-hang-tham-luang-3774299.html\n",
      "\n",
      "===================================================3773883===========================================================\n",
      "Title: Lượng oxy trong hang Tham Luang sắp cạn kiệt\n",
      "Author: Anh Ngọc\n",
      "Link: https://vnexpress.net/tin-tuc/the-gioi/luo-ng-oxy-trong-hang-tham-luang-sa-p-ca-n-kie-t-3773883.html\n",
      "\n",
      "===================================================3773779===========================================================\n",
      "Title: Cựu đặc nhiệm Thái Lan thiệt mạng khi cứu hộ đội bóng nhí trong hang\n",
      "Author: Anh Ngọc\n",
      "Link: https://vnexpress.net/tin-tuc/the-gioi/cu-u-da-c-nhie-m-tha-i-lan-thie-t-ma-ng-khi-cu-u-ho-do-i-bo-ng-nhi-trong-hang-3773779.html\n",
      "\n",
      "===================================================3773507===========================================================\n",
      "Title: Nhà sư Thái Lan được tin là hiện thân của truyền thuyết về hang Tham Luang\n",
      "Author: Anh Ngọc\n",
      "Link: https://vnexpress.net/tin-tuc/the-gioi/cuoc-song-do-day/nha-su-tha-i-lan-duo-c-tin-la-hie-n-than-cu-a-truye-n-thuye-t-ve-hang-tham-luang-3773507.html\n",
      "\n",
      "===================================================3773186===========================================================\n",
      "Title: Đội bóng nhí Thái Lan sẽ ở phòng cách ly vô trùng sau khi thoát khỏi hang\n",
      "Author: Anh Ngọc\n",
      "Link: https://vnexpress.net/tin-tuc/the-gioi/do-i-bo-ng-nhi-tha-i-lan-se-o-pho-ng-ca-ch-ly-vo-tru-ng-sau-khi-thoa-t-kho-i-hang-3773186.html\n",
      "\n",
      "===================================================3772759===========================================================\n",
      "Title: Cô gái Brazil kể về 5 năm sống trong hang động\n",
      "Author: None\n",
      "Link: https://vnexpress.net/tin-tuc/the-gioi/cuoc-song-do-day/co-ga-i-brazil-ke-ve-5-nam-so-ng-trong-hang-do-ng-3772759.html\n",
      "\n",
      "===================================================3772677===========================================================\n",
      "Title: Thái Lan sẽ không bất chấp nguy hiểm để đưa đội bóng nhí ra khỏi hang\n",
      "Author: Anh Ngọc\n",
      "Link: https://vnexpress.net/tin-tuc/the-gioi/tha-i-lan-se-khong-ba-t-cha-p-nguy-hie-m-de-dua-do-i-bo-ng-nhi-ra-kho-i-hang-3772677.html\n",
      "\n",
      "===================================================3772396===========================================================\n",
      "Title: Thái Lan nối điện thoại vào hang để đội bóng nhí nói chuyện với gia đình\n",
      "Author: Anh Ngọc\n",
      "Link: https://vnexpress.net/tin-tuc/the-gioi/tha-i-lan-no-i-die-n-thoa-i-va-o-hang-de-do-i-bo-ng-nhi-no-i-chuye-n-vo-i-gia-di-nh-3772396.html\n",
      "\n"
     ]
    },
    {
     "name": "stdout",
     "output_type": "stream",
     "text": [
      "===================================================3777277===========================================================\n",
      "Title: Đặc nhiệm Thái chia sẻ về nỗi sợ khi giải cứu các thiếu niên mắc kẹt\n",
      "Author: None\n",
      "Link: https://video.vnexpress.net/tin-tuc/the-gioi/dac-nhiem-thai-chia-se-ve-noi-so-khi-giai-cuu-cac-thieu-nien-mac-ket-3777277.html\n",
      "\n",
      "===================================================3772452===========================================================\n",
      "Title: Những chiến dịch nghẹt thở giải cứu nạn nhân mắc kẹt trên thế giới\n",
      "Author: Phương Vũ\n",
      "Link: https://vnexpress.net/tin-tuc/the-gioi/tu-lieu/nhung-chien-dich-nghet-tho-giai-cuu-nan-nhan-mac-ket-tren-the-gioi-3772452.html\n",
      "\n",
      "===================================================3775815===========================================================\n",
      "Title: Bác sĩ cấm các thiếu niên được giải cứu đến Nga xem World Cup\n",
      "Author: Nguyễn Hoàng\n",
      "Link: https://vnexpress.net/tin-tuc/the-gioi/bac-si-cam-cac-thieu-nien-duoc-giai-cuu-den-nga-xem-world-cup-3775815.html\n",
      "\n"
     ]
    }
   ],
   "source": [
    "art_df = {'tiltle': [], #From filtered_result object\n",
    "         'link':[], #in Articles object \n",
    "         'id': [], #from filtered_result object\n",
    "         'author': [], #attr of Article Object \n",
    "         'datetime':[],\n",
    "         'text': [],\n",
    "         'synopsis':[],\n",
    "         'img_alt':[],\n",
    "         'img_link': [],\n",
    "         'video_alt': [],\n",
    "         'video_link': []}\n",
    "\n",
    "articles_data = Articles(filtered_result)\n",
    "    \n",
    "articles_data_dict = articles_data.generate_articles_content_dict() "
   ]
  },
  {
   "cell_type": "code",
   "execution_count": 63,
   "metadata": {},
   "outputs": [
    {
     "data": {
      "text/plain": [
       "dict_keys(['title', 'link', 'id', 'author', 'datetime', 'text', 'synopsis', 'img_alt', 'img_link', 'video_link'])"
      ]
     },
     "execution_count": 63,
     "metadata": {},
     "output_type": "execute_result"
    }
   ],
   "source": [
    "articles_data_dict.keys()"
   ]
  },
  {
   "cell_type": "code",
   "execution_count": 64,
   "metadata": {},
   "outputs": [],
   "source": [
    "# Create a Pandas dataframe from the data.\n",
    "df = pd.DataFrame(data=articles_data_dict)\n",
    "\n",
    "# Create a Pandas Excel writer using XlsxWriter as the engine.\n",
    "writer = pd.ExcelWriter('artcile_vnexpress.xlsx', engine='xlsxwriter')\n",
    "\n",
    "# Convert the dataframe to an XlsxWriter Excel object.\n",
    "df.to_excel(writer, sheet_name='Sheet1')\n",
    "\n",
    "# Close the Pandas Excel writer and output the Excel file.\n",
    "writer.save()"
   ]
  },
  {
   "cell_type": "code",
   "execution_count": 43,
   "metadata": {},
   "outputs": [
    {
     "data": {
      "text/plain": [
       "'https://vnexpress.net/tin-tuc/the-gioi/phan-tich/18-ngay-thuc-hien-nhiem-vu-bat-kha-thi-giai-cuu-cac-thieu-nien-thai-lan-3776032.html'"
      ]
     },
     "execution_count": 43,
     "metadata": {},
     "output_type": "execute_result"
    }
   ],
   "source": [
    "filtered_result.link[16]"
   ]
  },
  {
   "cell_type": "code",
   "execution_count": 30,
   "metadata": {},
   "outputs": [],
   "source": [
    "a = [1,2,4,543,7,8,34,1,65,7,93,12,21]"
   ]
  },
  {
   "cell_type": "code",
   "execution_count": 33,
   "metadata": {},
   "outputs": [
    {
     "data": {
      "text/plain": [
       "21"
      ]
     },
     "execution_count": 33,
     "metadata": {},
     "output_type": "execute_result"
    }
   ],
   "source": [
    "a[-1]"
   ]
  },
  {
   "cell_type": "code",
   "execution_count": 44,
   "metadata": {},
   "outputs": [],
   "source": [
    "test2 = get_article('https://vnexpress.net/tin-tuc/the-gioi/phan-tich/cuoc-chien-9-ngay-voi-doi-khat-trong-hang-cua-cac-thieu-nien-thai-lan-3777228.html')"
   ]
  },
  {
   "cell_type": "code",
   "execution_count": 46,
   "metadata": {},
   "outputs": [
    {
     "data": {
      "text/plain": [
       "'Nước chảy ra từ thạch nhũ trong hang và phương pháp thiền định đã giúp đội bóng Lợn Hoang sống sót trong 9 ngày đầu tiên mắc kẹt.'"
      ]
     },
     "execution_count": 46,
     "metadata": {},
     "output_type": "execute_result"
    }
   ],
   "source": [
    "test2.h2.get_text()"
   ]
  },
  {
   "cell_type": "markdown",
   "metadata": {},
   "source": [
    "# Explore the collected data\n",
    "\n",
    "Exploring the data from these articles"
   ]
  },
  {
   "cell_type": "code",
   "execution_count": 65,
   "metadata": {},
   "outputs": [],
   "source": [
    "data = pd.DataFrame(data = articles_data_dict)"
   ]
  },
  {
   "cell_type": "markdown",
   "metadata": {},
   "source": [
    "## Testing the water\n",
    "\n",
    "Run some checks for what the data is having\n",
    "\n",
    "### Content has no text base (presumably multi-media articles)\n",
    "\n"
   ]
  },
  {
   "cell_type": "code",
   "execution_count": 81,
   "metadata": {},
   "outputs": [
    {
     "data": {
      "text/plain": [
       "14     3776420\n",
       "15     3776310\n",
       "24     3775821\n",
       "25     3775836\n",
       "29     3775590\n",
       "34     3775550\n",
       "44     3775142\n",
       "49     3775068\n",
       "89     3773564\n",
       "90     3773572\n",
       "94     3773318\n",
       "102    3773061\n",
       "131    3770796\n",
       "162    3775404\n",
       "Name: id, dtype: object"
      ]
     },
     "execution_count": 81,
     "metadata": {},
     "output_type": "execute_result"
    }
   ],
   "source": [
    "data.id[data.text == '']"
   ]
  },
  {
   "cell_type": "markdown",
   "metadata": {},
   "source": [
    "*Number of articles with no text base:*"
   ]
  },
  {
   "cell_type": "code",
   "execution_count": 82,
   "metadata": {},
   "outputs": [
    {
     "data": {
      "text/plain": [
       "14"
      ]
     },
     "execution_count": 82,
     "metadata": {},
     "output_type": "execute_result"
    }
   ],
   "source": [
    "len(data.id[data.text == ''])"
   ]
  },
  {
   "cell_type": "markdown",
   "metadata": {},
   "source": [
    "### Count the number of words per article\n",
    "\n",
    "It should be noted that the content of the articles are stored as a string of combined everything that is in tag p.Normal. This means that len(article_text.text[n]) for any given n jsut returns the number of characters in that string. We have to break down string into words by __str__.split() before going for __str__.len()  "
   ]
  },
  {
   "cell_type": "code",
   "execution_count": 84,
   "metadata": {},
   "outputs": [],
   "source": [
    "article_text = data[['id', 'text']] # Create a new dataframe to avoid tempering the main one"
   ]
  },
  {
   "cell_type": "code",
   "execution_count": 124,
   "metadata": {},
   "outputs": [
    {
     "data": {
      "text/plain": [
       "False"
      ]
     },
     "execution_count": 124,
     "metadata": {},
     "output_type": "execute_result"
    }
   ],
   "source": [
    "len(article_text.text.str.split()[1]) == article_text.text.str.len()[1] #This is comparing num of words vs num of characters"
   ]
  },
  {
   "cell_type": "code",
   "execution_count": 126,
   "metadata": {},
   "outputs": [
    {
     "data": {
      "text/plain": [
       "True"
      ]
     },
     "execution_count": 126,
     "metadata": {},
     "output_type": "execute_result"
    }
   ],
   "source": [
    "article_text.text.str.split().str.len()[1] == len(article_text.text.str.split()[1]) #2 ways to do this"
   ]
  },
  {
   "cell_type": "code",
   "execution_count": 127,
   "metadata": {},
   "outputs": [
    {
     "name": "stderr",
     "output_type": "stream",
     "text": [
      "E:\\ProgramData\\Anaconda3\\lib\\site-packages\\ipykernel_launcher.py:1: SettingWithCopyWarning: \n",
      "A value is trying to be set on a copy of a slice from a DataFrame.\n",
      "Try using .loc[row_indexer,col_indexer] = value instead\n",
      "\n",
      "See the caveats in the documentation: http://pandas.pydata.org/pandas-docs/stable/indexing.html#indexing-view-versus-copy\n",
      "  \"\"\"Entry point for launching an IPython kernel.\n"
     ]
    }
   ],
   "source": [
    "article_text['num_words'] = article_text.text.str.split().str.len()"
   ]
  },
  {
   "cell_type": "code",
   "execution_count": 130,
   "metadata": {},
   "outputs": [
    {
     "data": {
      "text/plain": [
       "True"
      ]
     },
     "execution_count": 130,
     "metadata": {},
     "output_type": "execute_result"
    }
   ],
   "source": [
    "isinstance(article_text['num_words'][0], float) "
   ]
  },
  {
   "cell_type": "code",
   "execution_count": 133,
   "metadata": {},
   "outputs": [
    {
     "data": {
      "text/plain": [
       "1972.0"
      ]
     },
     "execution_count": 133,
     "metadata": {},
     "output_type": "execute_result"
    }
   ],
   "source": [
    "article_text['num_words'].max()"
   ]
  },
  {
   "cell_type": "code",
   "execution_count": 135,
   "metadata": {},
   "outputs": [
    {
     "data": {
      "text/plain": [
       "0.0"
      ]
     },
     "execution_count": 135,
     "metadata": {},
     "output_type": "execute_result"
    }
   ],
   "source": [
    "article_text.num_words.min()"
   ]
  },
  {
   "cell_type": "code",
   "execution_count": 147,
   "metadata": {},
   "outputs": [
    {
     "ename": "TypeError",
     "evalue": "'numpy.ndarray' object is not callable",
     "output_type": "error",
     "traceback": [
      "\u001b[1;31m---------------------------------------------------------------------------\u001b[0m",
      "\u001b[1;31mTypeError\u001b[0m                                 Traceback (most recent call last)",
      "\u001b[1;32m<ipython-input-147-a45aa9a4429b>\u001b[0m in \u001b[0;36m<module>\u001b[1;34m()\u001b[0m\n\u001b[1;32m----> 1\u001b[1;33m \u001b[0marticle_text\u001b[0m\u001b[1;33m.\u001b[0m\u001b[0mnum_words\u001b[0m\u001b[1;33m.\u001b[0m\u001b[0mvalues\u001b[0m\u001b[1;33m(\u001b[0m\u001b[1;33m)\u001b[0m\u001b[1;33m\u001b[0m\u001b[0m\n\u001b[0m",
      "\u001b[1;31mTypeError\u001b[0m: 'numpy.ndarray' object is not callable"
     ]
    }
   ],
   "source": [
    "article_text.num_words"
   ]
  },
  {
   "cell_type": "code",
   "execution_count": 144,
   "metadata": {},
   "outputs": [],
   "source": [
    "import plotly\n",
    "plotly.tools.set_credentials_file(username='xxSneezixx', api_key='6LsfNysRgk3D8iIGqaUL')"
   ]
  },
  {
   "cell_type": "code",
   "execution_count": 149,
   "metadata": {},
   "outputs": [
    {
     "data": {
      "text/html": [
       "<iframe id=\"igraph\" scrolling=\"no\" style=\"border:none;\" seamless=\"seamless\" src=\"https://plot.ly/~xxSneezixx/55.embed\" height=\"525px\" width=\"100%\"></iframe>"
      ],
      "text/plain": [
       "<plotly.tools.PlotlyDisplay object>"
      ]
     },
     "execution_count": 149,
     "metadata": {},
     "output_type": "execute_result"
    }
   ],
   "source": [
    "import plotly.graph_objs as go\n",
    "import plotly.plotly as py\n",
    "\n",
    "import numpy as np\n",
    "\n",
    "trace1 = go.Scatter(\n",
    "    y = article_text.num_words,\n",
    "    mode='markers',\n",
    "    marker=dict(\n",
    "        size=16,\n",
    "        color = article_text.num_words, #set color equal to a variable\n",
    "        colorscale='Viridis',\n",
    "        showscale=True\n",
    "    )\n",
    ")\n",
    "data = [trace1]\n",
    "\n",
    "py.iplot(data, filename='number-of-words-per-article')"
   ]
  },
  {
   "cell_type": "code",
   "execution_count": null,
   "metadata": {},
   "outputs": [],
   "source": []
  }
 ],
 "metadata": {
  "kernelspec": {
   "display_name": "Python 3",
   "language": "python",
   "name": "python3"
  },
  "language_info": {
   "codemirror_mode": {
    "name": "ipython",
    "version": 3
   },
   "file_extension": ".py",
   "mimetype": "text/x-python",
   "name": "python",
   "nbconvert_exporter": "python",
   "pygments_lexer": "ipython3",
   "version": "3.6.5"
  }
 },
 "nbformat": 4,
 "nbformat_minor": 2
}
