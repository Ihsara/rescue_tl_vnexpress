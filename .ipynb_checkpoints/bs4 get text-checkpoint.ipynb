{
 "cells": [
  {
   "cell_type": "code",
   "execution_count": 1,
   "metadata": {},
   "outputs": [],
   "source": [
    "from bs4 import BeautifulSoup as bs \n",
    "import urllib \n",
    "import pandas as pd\n",
    "\n",
    "\n",
    "query_str = 'https://vnexpress.net/category/day/page/{}.html?cateid=1001002&fromdate=1529964000&todate=1531517760&allcate=1001002|1001002|'\n",
    "#query_str = \"https://vnexpress.net/chien-dich-giai-cuu/tag-810752-1.html\""
   ]
  },
  {
   "cell_type": "markdown",
   "metadata": {},
   "source": [
    "# Get some articles from 'World news' category from 26/6 to 14/7"
   ]
  },
  {
   "cell_type": "markdown",
   "metadata": {},
   "source": [
    "#### Return a bs object after extracting the articles from the webpage"
   ]
  },
  {
   "cell_type": "code",
   "execution_count": 2,
   "metadata": {},
   "outputs": [],
   "source": [
    "def get_articles(query):\n",
    "    return bs(urllib.request.urlopen(query), 'html.parser').find(\"section\", attrs={\"class\":\"sidebar_1\"}).find_all(\"article\",attrs={\"class\":\"list_news\"})"
   ]
  },
  {
   "cell_type": "markdown",
   "metadata": {},
   "source": [
    "#### Turn to a data object for processing"
   ]
  },
  {
   "cell_type": "code",
   "execution_count": 3,
   "metadata": {},
   "outputs": [],
   "source": [
    "def distribute_articles(articles, return_type='df'):      \n",
    "    article_dict = {'title': [],\n",
    "             'link': [],\n",
    "               'description': [],\n",
    "               'id' : []}\n",
    "    \n",
    "    for article in articles: \n",
    "        #article_dict['title'].append(article.a.get('title')) # if this does not work, use the one below\n",
    "        article_dict['title'].append(article.img.get('alt'))\n",
    "        article_dict['link'].append(article.a.get('href'))\n",
    "        article_dict['description'].append(article.h4.get_text())\n",
    "        article_dict['id'].append(article.a.get('href').split('-')[-1][:-5])\n",
    "    if return_type == 'df':  \n",
    "        return pd.DataFrame(data=article_dict)\n",
    "    \n",
    "    elif return_type == 'dict':\n",
    "        return article_dict "
   ]
  },
  {
   "cell_type": "markdown",
   "metadata": {},
   "source": [
    "#### This is where the real actions begin\n",
    "\n",
    "result will be the df containing basic info about the articles headlines in vnexpress from 26/6 to 12/7"
   ]
  },
  {
   "cell_type": "code",
   "execution_count": 4,
   "metadata": {},
   "outputs": [],
   "source": [
    "df_list = [] \n",
    "\n",
    "for page in range(1, 21): \n",
    "    page_url = query_str.format(str(page))\n",
    "    articles = get_articles(page_url)\n",
    "    df_list.append( distribute_articles(articles))\n",
    "    \n",
    "result = pd.concat(df_list).reset_index(drop=True)"
   ]
  },
  {
   "cell_type": "markdown",
   "metadata": {},
   "source": [
    "# Filter news with specified keywords"
   ]
  },
  {
   "cell_type": "code",
   "execution_count": 5,
   "metadata": {},
   "outputs": [],
   "source": [
    "kws = ['Thái Lan', 'đội bóng', 'Đội bóng', 'hang', 'mắc kẹt', 'thiếu niên']\n",
    "temp = []\n",
    "kw_filtered = [] \n",
    "\n",
    "for kw in kws: \n",
    "    for title in result.title: \n",
    "        if kw in title: \n",
    "            temp.append(title)\n",
    "    \n",
    "    kw_filtered.append(pd.concat([result[result.title == tmp] for tmp in temp])) \n",
    "    temp =[ ]#pd.DataFrame(columns = ['title', 'link','description','id']) \n",
    "\n",
    "filtered_result = pd.concat(kw_filtered).drop_duplicates().reset_index(drop = True)\n"
   ]
  },
  {
   "cell_type": "code",
   "execution_count": 6,
   "metadata": {},
   "outputs": [
    {
     "data": {
      "text/plain": [
       "'https://vnexpress.net/tin-tuc/the-gioi/phan-tich/cuoc-chien-9-ngay-voi-doi-khat-trong-hang-cua-cac-thieu-nien-thai-lan-3777228.html'"
      ]
     },
     "execution_count": 6,
     "metadata": {},
     "output_type": "execute_result"
    }
   ],
   "source": [
    "filtered_result.link[1]"
   ]
  },
  {
   "cell_type": "code",
   "execution_count": 21,
   "metadata": {},
   "outputs": [
    {
     "name": "stdout",
     "output_type": "stream",
     "text": [
      "0    Những thợ lặn thành anh em sau chiến dịch giải...\n",
      "Name: title, dtype: object\n",
      "1    Cuộc chiến 9 ngày với đói khát trong hang của ...\n",
      "Name: title, dtype: object\n",
      "2    Giải đáp những câu hỏi trong cuộc giải cứu đội...\n",
      "Name: title, dtype: object\n",
      "3    Hành trình đưa tin giải cứu đội bóng nhí Thái ...\n",
      "Name: title, dtype: object\n",
      "4    Thiếu niên Thái Lan nói không mang theo đồ ăn ...\n",
      "Name: title, dtype: object\n",
      "5    Thợ lặn Anh phát hiện đội bóng nhí Thái Lan kh...\n",
      "Name: title, dtype: object\n",
      "6    Thái Lan cân nhắc cấp quốc tịch cho 4 thành vi...\n",
      "Name: title, dtype: object\n",
      "7    Bác sĩ Australia giải cứu thiếu niên Thái Lan ...\n",
      "Name: title, dtype: object\n",
      "8    Cuộc đoàn tụ gia đình qua cửa kính của cậu bé ...\n",
      "Name: title, dtype: object\n",
      "9    Lý do các thiếu niên Thái Lan phải nằm cáng kh...\n",
      "Name: title, dtype: object\n",
      "10    Trung Quốc giận dữ vì bình luận của Phó thủ tư...\n",
      "Name: title, dtype: object\n",
      "11    Các thiếu niên Thái Lan lần đầu xuất hiện sau ...\n",
      "Name: title, dtype: object\n",
      "12    Đội bóng Lợn Hoang xin cấp quốc tịch Thái Lan ...\n",
      "Name: title, dtype: object\n",
      "13    Đội bóng nhí Thái Lan được theo dõi tâm lý tro...\n",
      "Name: title, dtype: object\n",
      "14    Ngày giải cứu cuối cùng đội bóng nhí Thái Lan\n",
      "Name: title, dtype: object\n",
      "15    Toàn cảnh chiến dịch giải cứu các thiếu niên T...\n",
      "Name: title, dtype: object\n",
      "16    18 ngày thực hiện 'nhiệm vụ bất khả thi' giải ...\n",
      "Name: title, dtype: object\n",
      "17    Tình cảm huấn luyện viên dành cho đội bóng nhí...\n",
      "Name: title, dtype: object\n",
      "18    Những thợ lặn góp sức cho chiến dịch giải cứu ...\n",
      "Name: title, dtype: object\n",
      "19    Đặc nhiệm SEAL Thái Lan suýt kẹt lại hang vì m...\n",
      "Name: title, dtype: object\n",
      "20    Cuộc sống nghèo khó, không quốc tịch của cậu b...\n",
      "Name: title, dtype: object\n",
      "21    Manchester United mời đội bóng nhí Thái Lan sa...\n",
      "Name: title, dtype: object\n",
      "22    Lãnh đạo thế giới chúc mừng Thái Lan giải cứu ...\n",
      "Name: title, dtype: object\n",
      "23    Việt Nam chúc mừng Thái Lan giải cứu thành côn...\n",
      "Name: title, dtype: object\n",
      "24    Thợ lặn tham gia giải cứu: Đội bóng nhí Thái L...\n",
      "Name: title, dtype: object\n",
      "25    Công ty Mỹ giúp vẽ bản đồ hang các thiếu niên ...\n",
      "Name: title, dtype: object\n",
      "26    Toàn bộ đội bóng nhí Thái Lan đã được cứu\n",
      "Name: title, dtype: object\n",
      "27    Đội bóng nhí Thái Lan dễ bất tỉnh khi được cứu...\n",
      "Name: title, dtype: object\n",
      "28    Mỹ điều 43 nhân viên quân sự tham gia cứu thiế...\n",
      "Name: title, dtype: object\n",
      "29    Cách thợ lặn đưa các thiếu niên Thái Lan qua k...\n",
      "Name: title, dtype: object\n",
      "30    Thái Lan triển khai chiến dịch cuối giải cứu đ...\n",
      "Name: title, dtype: object\n",
      "31    Những thợ lặn 'liều cả tính mạng' cứu các thiế...\n",
      "Name: title, dtype: object\n",
      "32    Người chơi xổ số Thái Lan tìm vận may từ các t...\n",
      "Name: title, dtype: object\n",
      "33    Lý do 8 thiếu niên Thái Lan bị cách ly sau khi...\n",
      "Name: title, dtype: object\n",
      "34    Diễn biến 15 ngày giải cứu các thiếu niên Thái...\n",
      "Name: title, dtype: object\n",
      "35    Ngày giải cứu thứ hai đội bóng nhí Thái Lan\n",
      "Name: title, dtype: object\n",
      "36    Elon Musk vào hang Tham Luang khi mang tàu ngầ...\n",
      "Name: title, dtype: object\n",
      "37    Huấn luyện viên Thái Lan có thể ra khỏi hang s...\n",
      "Name: title, dtype: object\n",
      "38    Thế giới ngày 10/7: 5 người còn kẹt trong hang...\n",
      "Name: title, dtype: object\n",
      "39    4 bé trai kẹt trong hang Thái Lan đeo mặt nạ l...\n",
      "Name: title, dtype: object\n",
      "40    4 thiếu niên đầu tiên được cứu khỏi hang Thái ...\n",
      "Name: title, dtype: object\n",
      "41    Sức mạnh tình người trong cuộc giải cứu các th...\n",
      "Name: title, dtype: object\n",
      "42    8 bé được cứu khỏi hang Thái Lan, ngày cứu hộ ...\n",
      "Name: title, dtype: object\n",
      "43    Thái Lan đổ lỗi vụ chìm tàu du lịch cho chủ to...\n",
      "Name: title, dtype: object\n",
      "44    Ngách hang tử thần thợ lặn phải vượt qua để cứ...\n",
      "Name: title, dtype: object\n",
      "45    Nhóm thiếu niên Thái Lan thứ hai đã vượt qua n...\n",
      "Name: title, dtype: object\n",
      "46    Cựu binh Mỹ nói việc giải cứu thiếu niên Thái ...\n",
      "Name: title, dtype: object\n",
      "47    15 ngày giải cứu đội bóng nhí Thái Lan khỏi mê...\n",
      "Name: title, dtype: object\n",
      "48    Những nguy hiểm rình rập thiếu niên Thái Lan c...\n",
      "Name: title, dtype: object\n",
      "49    Hành trình gian nan thoát khỏi hang của đội bó...\n",
      "Name: title, dtype: object\n",
      "50    Trường Thái Lan cầu nguyện cho các cậu bé mắc ...\n",
      "Name: title, dtype: object\n",
      "51    Bác sĩ tham gia quyết định phương án giải cứu ...\n",
      "Name: title, dtype: object\n",
      "52    Thợ lặn chật vật luồn lách trong hang thiếu ni...\n",
      "Name: title, dtype: object\n",
      "53    Thái Lan họp bàn kế hoạch mới giải cứu 9 người...\n",
      "Name: title, dtype: object\n",
      "54    Nhóm thiếu niên Thái Lan được giải cứu khỏi ha...\n",
      "Name: title, dtype: object\n",
      "55    Báo Thái Lan đưa tin huấn luyện viên đã được c...\n",
      "Name: title, dtype: object\n",
      "56    Elon Musk điều tàu ngầm mini đến Thái Lan để g...\n",
      "Name: title, dtype: object\n",
      "57    4 em nhỏ Thái Lan thoát khỏi hang sẽ được kiểm...\n",
      "Name: title, dtype: object\n",
      "58    4 thiếu niên Thái Lan mắc kẹt đã rời khỏi hang...\n",
      "Name: title, dtype: object\n",
      "59    Huấn luyện viên Thái Lan sẽ thuộc nhóm rời han...\n",
      "Name: title, dtype: object\n",
      "60    Cuộc giải cứu đội bóng nhí Thái Lan sẽ kéo dài...\n",
      "Name: title, dtype: object\n",
      "61    Huấn luyện viên Thái Lan bị kẹt trong hang từn...\n",
      "Name: title, dtype: object\n",
      "62    Thái Lan sơ tán hiện trường, bắt đầu giải cứu ...\n",
      "Name: title, dtype: object\n",
      "63    Mưa lớn tại khu vực đội bóng nhí Thái Lan mắc kẹt\n",
      "Name: title, dtype: object\n",
      "64    Mức oxy thấp có thể ảnh hưởng đội bóng nhí Thá...\n",
      "Name: title, dtype: object\n",
      "65    Nhà xác bệnh viện Thái Lan quá tải sau vụ chìm...\n",
      "Name: title, dtype: object\n",
      "66    Bố mẹ cầu thủ nhí Thái Lan mắc kẹt không trách...\n",
      "Name: title, dtype: object\n",
      "67    Thái Lan có thể bắt đầu giải cứu đội bóng nhí ...\n",
      "Name: title, dtype: object\n",
      "68    41 người chết trong vụ chìm tàu ở Thái Lan, 15...\n",
      "Name: title, dtype: object\n",
      "69    Sao bóng đá thế giới cổ vũ tinh thần các cầu t...\n",
      "Name: title, dtype: object\n",
      "70    Thái Lan đang có điều kiện thuận lợi nhất để g...\n",
      "Name: title, dtype: object\n",
      "71    Đội bóng nhí Thái Lan gửi thư ra ngoài trấn an...\n",
      "Name: title, dtype: object\n",
      "72    Thợ săn tổ yến tìm kiếm lối thoát khác cho đội...\n",
      "Name: title, dtype: object\n",
      "73    Thế giới ngày 7/7: Đội bóng nhí Thái Lan chưa ...\n",
      "Name: title, dtype: object\n",
      "74    Từng gương mặt của đội bóng nhí Thái Lan mắc k...\n",
      "Name: title, dtype: object\n",
      "75    Thợ lặn nói đánh thuốc mê là cách dễ nhất cứu ...\n",
      "Name: title, dtype: object\n",
      "76    Thái Lan đưa thi hài đặc nhiệm tử nạn trong ha...\n",
      "Name: title, dtype: object\n",
      "77    Nhiệt huyết của cựu đặc nhiệm tử nạn khi cứu đ...\n",
      "Name: title, dtype: object\n",
      "78    Cậu bé giỏi tiếng Anh của đội bóng nhí Thái La...\n",
      "Name: title, dtype: object\n",
      "79    40 người thiệt mạng trong vụ chìm tàu ở Thái Lan\n",
      "Name: title, dtype: object\n",
      "80    Phát hiện đường hầm có thể dẫn tới nơi đội bón...\n",
      "Name: title, dtype: object\n",
      "81    Kinh nghiệm thiền của huấn luyện viên giúp đội...\n",
      "Name: title, dtype: object\n",
      "82    Hàng chục khách Trung Quốc có thể mắc kẹt tron...\n",
      "Name: title, dtype: object\n",
      "83    Đội bóng nhí Thái Lan mắc kẹt hỏi kết quả Worl...\n",
      "Name: title, dtype: object\n",
      "84    Thế giới ngày 6/7: Đội bóng nhí Thái Lan chưa ...\n",
      "Name: title, dtype: object\n",
      "85    Máy bay Thái Lan rơi xuống biên giới giáp Myan...\n",
      "Name: title, dtype: object\n",
      "86    Có thể tồn tại lối thoát bí mật cho đội bóng n...\n",
      "Name: title, dtype: object\n",
      "87    Thách thức của ba phương án giải cứu đội bóng ...\n",
      "Name: title, dtype: object\n",
      "88    Thái Lan tìm đường ngắn hơn tới nơi đội bóng n...\n",
      "Name: title, dtype: object\n",
      "89    Đường thoát khỏi hang của đội bóng nhí Thái Lan\n",
      "Name: title, dtype: object\n",
      "90    Cấu trúc phức tạp của hang động đội bóng nhí T...\n",
      "Name: title, dtype: object\n",
      "91    Hành trình tìm kiếm đội bóng nhí Thái Lan kẹt ...\n",
      "Name: title, dtype: object\n",
      "92    Ba phương án giải cứu đội bóng nhí Thái Lan kh...\n",
      "Name: title, dtype: object\n",
      "93    Đội bóng nhí Thái Lan có thể lặn ra ngoài như ...\n",
      "Name: title, dtype: object\n",
      "94    Cuộc giải cứu đội bóng nhí Thái Lan trong mưa ...\n",
      "Name: title, dtype: object\n",
      "95    Những nguy hiểm khi đưa đội bóng nhí Thái Lan ...\n",
      "Name: title, dtype: object\n",
      "96    Thái Lan cử 31 người nhái cứu hộ đội bóng nhí ...\n",
      "Name: title, dtype: object\n",
      "97    Thái Lan bắt giữ 9.400 người cá độ bóng đá mùa...\n",
      "Name: title, dtype: object\n",
      "98    Thái Lan chặn hai con suối trút nước vào hang ...\n",
      "Name: title, dtype: object\n",
      "99    Lý do đội bóng nhí Thái Lan sống sót suốt 9 ng...\n",
      "Name: title, dtype: object\n",
      "100    Quốc vương Thái Lan hối thúc giải cứu đội bóng...\n",
      "Name: title, dtype: object\n",
      "101    Hang Thái Lan có thể trở thành điểm đến hút kh...\n",
      "Name: title, dtype: object\n",
      "102    Hành trình tới nơi đội bóng nhí Thái Lan mắc k...\n",
      "Name: title, dtype: object\n",
      "103    Đội bóng nhí Thái Lan bắt đầu học lặn\n",
      "Name: title, dtype: object\n",
      "104    Nỗi ám ảnh cầu thủ nhí Thái Lan có thể gặp khi...\n",
      "Name: title, dtype: object\n",
      "105    Huấn luyện viên đội bóng nhí Thái Lan mắc kẹt ...\n",
      "Name: title, dtype: object\n",
      "106    Lý do khiến đội bóng nhí Thái Lan vào hang sâ...\n",
      "Name: title, dtype: object\n",
      "107    Gia đình cầu thủ nhí Thái Lan mắc kẹt trong ha...\n",
      "Name: title, dtype: object\n",
      "108    Những thợ lặn làm nên phép màu trong cuộc tìm ...\n",
      "Name: title, dtype: object\n",
      "109    Bác sĩ quân y Thái Lan tình nguyện ở lại hang ...\n",
      "Name: title, dtype: object\n",
      "110    Mất bao lâu để đưa đội bóng nhí Thái Lan ra kh...\n",
      "Name: title, dtype: object\n",
      "111    Không khí 'như gia đình' tại nơi giải cứu đội ...\n",
      "Name: title, dtype: object\n",
      "112    Đội bóng nhí Thái Lan uống nước từ thạch nhũ đ...\n",
      "Name: title, dtype: object\n",
      "113    Đội bóng nhí Thái Lan cười lạc quan khi chờ đư...\n",
      "Name: title, dtype: object\n",
      "114    Hiểm họa đe dọa tính mạng đội bóng nhí Thái La...\n",
      "Name: title, dtype: object\n",
      "115    Thế giới ngày 4/7: Thái Lan đẩy nhanh giải cứu...\n",
      "Name: title, dtype: object\n",
      "116    Huyền thoại về hang đá nơi đội bóng nhí Thái L...\n",
      "Name: title, dtype: object\n",
      "117    Đội bóng nhí Thái Lan có thể phải điều trị tâm...\n",
      "Name: title, dtype: object\n",
      "118    9 ngày khoét hang, vượt lũ cứu đội bóng nhí Th...\n",
      "Name: title, dtype: object\n",
      "119    Đội đặc nhiệm SEAL Thái Lan trong chiến dịch t...\n",
      "Name: title, dtype: object\n",
      "120    Thợ lặn Anh đầu tiên tìm thấy đội bóng nhí Thá...\n",
      "Name: title, dtype: object\n",
      "121    Đội bóng nhí Thái Lan sẽ được học lặn để thoát...\n",
      "Name: title, dtype: object\n",
      "122    Thế giới ngày 3/7: Khoảnh khắc tìm thấy đội bó...\n",
      "Name: title, dtype: object\n",
      "123    Đội bóng Thái Lan mất tích 9 ngày trong hang c...\n",
      "Name: title, dtype: object\n",
      "124    Đặc nhiệm Thái Lan mở đường vào khoang ngầm nơ...\n",
      "Name: title, dtype: object\n",
      "125    Thợ lặn sắp tiếp cận nơi nghi có đội bóng Thái...\n",
      "Name: title, dtype: object\n",
      "126    Nước rút, cứu hộ Thái Lan tăng tốc tìm kiếm độ...\n",
      "Name: title, dtype: object\n",
      "127    Nhân viên cứu hộ bị ngất khi tìm kiếm đội bóng...\n",
      "Name: title, dtype: object\n",
      "128    Lý do đội cứu hộ chưa thể tìm thấy đội bóng mắ...\n",
      "Name: title, dtype: object\n",
      "129    Thái Lan khoan núi, thả đồ cứu sinh vào hang n...\n",
      "Name: title, dtype: object\n",
      "130    Quân đội Mỹ tham gia tìm kiếm đội bóng Thái La...\n",
      "Name: title, dtype: object\n",
      "131    Diễn biến cuộc tìm kiếm đội bóng kẹt trong han...\n",
      "Name: title, dtype: object\n",
      "132    Thái Lan tìm kiếm đội bóng mất tích trong hang...\n",
      "Name: title, dtype: object\n",
      "133    Thợ lặn giải cứu đội bóng nhí Thái từng mất dấ...\n",
      "Name: title, dtype: object\n",
      "134    Thợ lặn Anh kể lại khoảnh khắc phát hiện đội b...\n",
      "Name: title, dtype: object\n",
      "135    Thông điệp đặc nhiệm SEAL Thái gửi tới đội bón...\n",
      "Name: title, dtype: object\n",
      "136    Hải quân Thái tiết lộ hành trình dò hang tối g...\n",
      "Name: title, dtype: object\n",
      "137    Khoảnh khắc các thợ lặn cuối cùng rời hang sau...\n",
      "Name: title, dtype: object\n",
      "138    Hang Tham Luang sẽ trở thành bảo tàng về hoạt ...\n",
      "Name: title, dtype: object\n",
      "139    Bác sĩ Australia mất cha khi vừa kết thúc chiế...\n",
      "Name: title, dtype: object\n",
      "140    Thợ lặn thiệt mạng khi giải cứu đội bóng nhí đ...\n",
      "Name: title, dtype: object\n",
      "141    Elon Musk nghi ngờ chuyên môn của chỉ huy chiế...\n",
      "Name: title, dtype: object\n",
      "142    Người Thái hân hoan vì chiến dịch giải cứu đội...\n",
      "Name: title, dtype: object\n",
      "143    Tàu ngầm mini của Elon Musk không được dùng để...\n",
      "Name: title, dtype: object\n",
      "144    Người Thái hiến kế giải cứu đội bóng nhí mắc kẹt\n",
      "Name: title, dtype: object\n",
      "145    Những câu hỏi lớn sau 14 ngày đội bóng nhí Thá...\n",
      "Name: title, dtype: object\n",
      "146    Huấn luyện viên đội bóng nhí Thái gửi lời xin ...\n",
      "Name: title, dtype: object\n",
      "147    Cậu bé 9 tuổi gốc Thái viết thư xin thủ tướng ...\n",
      "Name: title, dtype: object\n",
      "148    Tình nguyện viên bất cẩn bơm nước ngược vào ha...\n",
      "Name: title, dtype: object\n",
      "149    Đam mê phiêu lưu của đội bóng đá nhí Thái kẹt ...\n",
      "Name: title, dtype: object\n",
      "150    Người Thái tranh cãi về huấn luyện viên đội bó...\n",
      "Name: title, dtype: object\n",
      "151    Người Thái vỡ òa khi chứng kiến phép màu với đ...\n",
      "Name: title, dtype: object\n",
      "152    Những thách thức khi cứu đội bóng nhí Thái ra ...\n",
      "Name: title, dtype: object\n",
      "153    Những điều đội bóng Thái có thể làm để sống só...\n",
      "Name: title, dtype: object\n",
      "154    Một tuần gian nan tìm kiếm đội bóng Thái mắc k...\n",
      "Name: title, dtype: object\n",
      "155    Lực lượng cứu hộ luyện tập sơ tán đội bóng Thá...\n",
      "Name: title, dtype: object\n",
      "156    Người Thái cầu phép màu với đội bóng mắc kẹt t...\n",
      "Name: title, dtype: object\n",
      "157    Đội bóng Lợn Hoang luyện tập trở lại sau khi 1...\n",
      "Name: title, dtype: object\n",
      "158    Thế giới ngày 12/7: Đội bóng nhí Thái không tự...\n",
      "Name: title, dtype: object\n",
      "159    Đội bóng nhí Thái mong giáo viên không giao nh...\n",
      "Name: title, dtype: object\n",
      "160    Hai cậu bé được giải cứu khỏi hang Thái...\n",
      "Name: title, dtype: object\n",
      "161    Thái Lan cầu 'thần mưa' phù hộ cho cuộc ...\n",
      "Name: title, dtype: object\n",
      "162    Thợ lặn giải cứu thiếu niên mắc kẹt trong hang...\n",
      "Name: title, dtype: object\n",
      "163    Em út của đội bóng nhí Thái Lan ước đươ...\n",
      "Name: title, dtype: object\n",
      "164    Danh tính cậu bé Thái đầu tiên được đưa khỏi hang\n",
      "Name: title, dtype: object\n",
      "165    Không gian nhỏ hẹp và ngập nước bên trong hang...\n",
      "Name: title, dtype: object\n",
      "166    Lượng oxy trong hang Tham Luang sắp cạn kiệt\n",
      "Name: title, dtype: object\n",
      "167    Cựu đặc nhiệm Thái Lan thiệt mạng khi cư...\n",
      "Name: title, dtype: object\n",
      "168    Nhà sư Thái Lan được tin là hiện thân củ...\n",
      "Name: title, dtype: object\n",
      "169    Đội bóng nhí Thái Lan sẽ ở phòng cách ...\n",
      "Name: title, dtype: object\n",
      "170    Cô gái Brazil kể về 5 năm sống trong hang ...\n",
      "Name: title, dtype: object\n",
      "171    Thái Lan sẽ không bất chấp nguy hiểm để ...\n",
      "Name: title, dtype: object\n",
      "172    Thái Lan nối điện thoại vào hang để đội...\n",
      "Name: title, dtype: object\n",
      "173    Đặc nhiệm Thái chia sẻ về nỗi sợ khi giải cứu ...\n",
      "Name: title, dtype: object\n",
      "174    Những chiến dịch nghẹt thở giải cứu nạn nhân m...\n",
      "Name: title, dtype: object\n",
      "175    Bác sĩ cấm các thiếu niên được giải cứu đến Ng...\n",
      "Name: title, dtype: object\n"
     ]
    }
   ],
   "source": [
    "for link in filtered_result.link: \n",
    "    print(filtered_result.title[filtered_result.link == link])"
   ]
  },
  {
   "cell_type": "code",
   "execution_count": 33,
   "metadata": {},
   "outputs": [
    {
     "data": {
      "text/plain": [
       "'Bác sĩ cấm các thiếu niên được giải cứu đến Nga xem World Cup'"
      ]
     },
     "execution_count": 33,
     "metadata": {},
     "output_type": "execute_result"
    }
   ],
   "source": [
    "filtered_result.loc[filtered_result.link == link].title.values[0]"
   ]
  },
  {
   "cell_type": "code",
   "execution_count": 35,
   "metadata": {},
   "outputs": [
    {
     "data": {
      "text/plain": [
       "3775815"
      ]
     },
     "execution_count": 35,
     "metadata": {},
     "output_type": "execute_result"
    }
   ],
   "source": [
    "int(filtered_result.id[filtered_result.link == link].values[0])"
   ]
  },
  {
   "cell_type": "markdown",
   "metadata": {},
   "source": [
    "## Retrieving data from articles and store them in excel \n",
    "\n",
    "Data will be retrived and store in excel with this run\n",
    "\n",
    "### Testing on one article"
   ]
  },
  {
   "cell_type": "code",
   "execution_count": 9,
   "metadata": {},
   "outputs": [],
   "source": [
    "def get_article(query):\n",
    "    return bs(urllib.request.urlopen(query), 'html.parser').find(\"section\", attrs={\"class\":\"sidebar_1\"})"
   ]
  },
  {
   "cell_type": "code",
   "execution_count": 10,
   "metadata": {},
   "outputs": [],
   "source": [
    "test1 = get_article(filtered_result.link[1])"
   ]
  },
  {
   "cell_type": "code",
   "execution_count": 11,
   "metadata": {},
   "outputs": [
    {
     "data": {
      "text/plain": [
       "'https://vnexpress.net/tin-tuc/the-gioi/phan-tich/cuoc-chien-9-ngay-voi-doi-khat-trong-hang-cua-cac-thieu-nien-thai-lan-3777228.html'"
      ]
     },
     "execution_count": 11,
     "metadata": {},
     "output_type": "execute_result"
    }
   ],
   "source": [
    "filtered_result.link[1]"
   ]
  },
  {
   "cell_type": "code",
   "execution_count": 37,
   "metadata": {},
   "outputs": [
    {
     "data": {
      "text/plain": [
       "'3777286'"
      ]
     },
     "execution_count": 37,
     "metadata": {},
     "output_type": "execute_result"
    }
   ],
   "source": [
    "filtered_result.id[filtered_result.link == filtered_result.link[4]].values[0]"
   ]
  },
  {
   "cell_type": "markdown",
   "metadata": {},
   "source": [
    "#### How to get the published date: "
   ]
  },
  {
   "cell_type": "code",
   "execution_count": 12,
   "metadata": {},
   "outputs": [
    {
     "data": {
      "text/plain": [
       "['Thứ', 'sáu,', '13/7/2018,', '12:58', '(GMT+7)']"
      ]
     },
     "execution_count": 12,
     "metadata": {},
     "output_type": "execute_result"
    }
   ],
   "source": [
    "test1.span.get_text().split()"
   ]
  },
  {
   "cell_type": "markdown",
   "metadata": {},
   "source": [
    "#### How to get the title of this article:"
   ]
  },
  {
   "cell_type": "code",
   "execution_count": 13,
   "metadata": {},
   "outputs": [
    {
     "data": {
      "text/plain": [
       "'Giải đáp những câu hỏi trong cuộc giải cứu đội bóng nhí Thái Lan'"
      ]
     },
     "execution_count": 13,
     "metadata": {},
     "output_type": "execute_result"
    }
   ],
   "source": [
    "filtered_result.title[2]"
   ]
  },
  {
   "cell_type": "markdown",
   "metadata": {},
   "source": [
    "#### How to get the short overview of this article:"
   ]
  },
  {
   "cell_type": "code",
   "execution_count": 14,
   "metadata": {},
   "outputs": [
    {
     "data": {
      "text/plain": [
       "'Nước chảy ra từ thạch nhũ trong hang và phương pháp thiền định đã giúp đội bóng Lợn Hoang sống sót trong 9 ngày đầu tiên mắc kẹt.'"
      ]
     },
     "execution_count": 14,
     "metadata": {},
     "output_type": "execute_result"
    }
   ],
   "source": [
    "test1.h2.get_text()"
   ]
  },
  {
   "cell_type": "markdown",
   "metadata": {},
   "source": [
    "#### Core of the article\n",
    "Note that at the end of it is the name of the author"
   ]
  },
  {
   "cell_type": "code",
   "execution_count": 15,
   "metadata": {},
   "outputs": [],
   "source": [
    "article_text = ''\n",
    "for text in test1.find_all('p', attrs={'class':'Normal'}):\n",
    "    article_text+= text.get_text()"
   ]
  },
  {
   "cell_type": "code",
   "execution_count": 16,
   "metadata": {},
   "outputs": [
    {
     "data": {
      "text/plain": [
       "'12 thiếu niên và huấn luyện viên đội bóng Lợn Hoang hôm 10/7 đã được giải cứu thành công khỏi hang Tham Luang ở tỉnh Chiang Rai, miền bắc Thái Lan sau 18 ngày mắc kẹt, theo BBC.Trước khi được hai thợ lặn người Anh phát hiện đêm 2/7, các cậu bé và huấn luyện viên Ekkapol Chantawong đã làm mọi cách có thể để sống sót trong hang sâu tối tăm, ngập nước suốt 9 ngày, trong đó Ekkapol đóng vai trò rất quan trọng.Truyền thông Thái Lan ban đầu cho rằng đội Lợn Hoang vào hang Tham Luang để tổ chức sinh nhật lần thứ 17 cho Peerapat Sompiangjai, biệt danh Night, nên đã mua đồ ăn nhẹ mang vào. Những gói bánh này được xem là nguồn thực phẩm duy nhất giúp đội bóng cầm cự trong 9 ngày đầu tiên.Tuy nhiên, Ikan Wiboonroongruang, 33 tuổi, mẹ của Chanintr, thành viên nhỏ tuổi nhất trong đội, kể trong cuộc gặp sau cửa kính cách ly ở bệnh viện, con trai nói với cô rằng nhóm chỉ định vào hang chơi một giờ và không mang theo đồ ăn.\"Sau ba đêm đầu tiên không có thức ăn, con trai tôi đói lả và khóc. Nó chỉ biết sống nhờ vào nguồn nước chảy ra từ thạch nhũ\", Ikan nói. \"Ban đêm rất lạnh và tối đen, lũ trẻ phải nằm rúc vào nhau để sưởi ấm. Huấn luyện viên bảo chúng phải thiền định để giảm cơn đói và bảo tồn năng lượng\", cô cho biết thêm.Ekkapol cầm đèn pin tìm nguồn nước tại nơi nhóm đang trú ẩn. Nước chảy ra từ thạch nhũ trong hang là nguồn sống duy nhất của cả đội.Chuẩn Đô đốc Arpakorn Yuukongkaew, người đứng đầu lực lượng đặc nhiệm Seal của Hải quân Thái Lan, cho biết sau khi được tìm thấy, nhóm được cung cấp \"thức ăn dễ tiêu hóa, giàu vitamin và khoáng chất dưới sự giám sát của bác sĩ\". Đáng chú ý, các bác sĩ điều trị cho nhóm được giải cứu nói rằng họ đều có sức khỏe tốt sau khi trải qua 9 ngày nhịn đói. \"Bọn trẻ đều khỏe mạnh và không bị căng thẳng. Trung bình mỗi cậu bé bị sút 2 kg\", Thongchai Lertwilairattanapong, thanh tra sở y tế Thái Lan cho biết. Hạ thân nhiệt có thể là nguy cơ lớn đe dọa tính mạng khi con người ở dưới lòng đất, đặc biệt trong những hang động bị ngập nước. Trong hang Tham Luang, nhiệt độ thường được giữ ổn định, không xuống quá thấp để có thể gây nguy hiểm đến lũ trẻ.Tuy nhiên, đội bóng thiếu niên vẫn thực hiện biện pháp đề phòng nguy cơ mất nhiệt. Đô đốc Arpakorn Yuukongkaew nói với BBC rằng theo ông hiểu, huấn luyện viên và các thiếu niên đã dùng đá khoét một lỗ sâu hơn 5 mét vào hang động để \"tạo ra một đường hầm giúp họ giữ ấm\". Sau khi tìm thấy nhóm, lực lượng cứu hộ đã mang chăn giữ nhiệt vào để giúp họ ổn định nhiệt độ cơ thể.Thời gian đầu, không khí không phải là mối lo ngại khi con người bị mắc kẹt trong hang. \"Hầu hết mọi người đều thở một cách bình thường trong hang bởi không khí có thể lưu chuyển tới nhiều ngóc ngách\", Anmar Mirza, điều phối viên của Ủy ban Cứu nạn Hang động quốc gia Mỹ, cho biết.Tuy nhiên, thời gian trôi đi, tại nơi đội bóng trú ẩn, mức oxy giảm còn 15%, trong khi mức oxy cho phép con người hô hấp bình thường là 21%. Cựu đặc nhiệm hải quân Thái Lan Saman Gunan đã thiệt mạng trong khi hỗ trợ mang bình dưỡng khí vào cho nhóm.Mối quan tâm lớn nhất sau chiến dịch giải cứu là sức khỏe tinh thần của nhóm thiếu niên và huấn luyện viên. Họ đã trải qua những ngày sống trong hang tối đen, không có bất kỳ nhận thức nào về thời gian hay nỗ lực tìm kiếm bên ngoài. Trong hoàn cảnh đó, Ekkapol đã giúp các cậu bé vượt qua nỗi sợ hãi, lo âu bằng kinh nghiệm thiền định của mình.Đô đốc Yuukongkaew cho biết Ekkapol đã bình tĩnh hướng dẫn lũ trẻ cách thiền định để vượt qua cơn đói, bảo tồn năng lượng và đảm bảo họ sử dụng \"càng ít không khí càng tốt\".Ngoài ra, đội bóng còn có một số lợi thế là tuổi trẻ và tinh thần đoàn kết của nhóm. \"Thanh thiếu niên thích giao tiếp với người xung quanh, việc có bạn bè và huấn luyện viên ở bên khiến các em cảm thấy yên tâm hơn\", David Spiegel, giáo sư Đại học Stanford, cho biết. Đội bóng nhí là một nhóm thân thiết đã nhiều lần phiêu lưu cùng nhau như tắm thác, đạp xe trên đường núi, đi bè trên sông và khám phá hang động.Đội bóng được giải cứu đang được điều trị tại bệnh viện Chiang Rai. Các đánh giá thể chất và tinh thần của họ đều có kết quả tích cực. Chính quyền, gia đình và trường học đều đang cố gắng tạo điều kiện tốt nhất để \"những chú Lợn Hoang\" sớm trở lại cuộc sống bình thường.Huyền Lê'"
      ]
     },
     "execution_count": 16,
     "metadata": {},
     "output_type": "execute_result"
    }
   ],
   "source": [
    "article_text.replace('\\t', '').replace(u'\\xa0', u' ').replace('\\n','')"
   ]
  },
  {
   "cell_type": "markdown",
   "metadata": {},
   "source": [
    "#### Author of this article can also be retrieved by query for 'strong' tag "
   ]
  },
  {
   "cell_type": "code",
   "execution_count": 17,
   "metadata": {},
   "outputs": [
    {
     "data": {
      "text/plain": [
       "'Huyền Lê'"
      ]
     },
     "execution_count": 17,
     "metadata": {},
     "output_type": "execute_result"
    }
   ],
   "source": [
    "test1.strong.get_text()"
   ]
  },
  {
   "cell_type": "markdown",
   "metadata": {},
   "source": [
    "#### Getting multi-media links in the article \n",
    "\n",
    "Save up for future usage\n",
    "\n",
    "##### Video"
   ]
  },
  {
   "cell_type": "code",
   "execution_count": 81,
   "metadata": {},
   "outputs": [
    {
     "data": {
      "text/plain": [
       "[<video active-mode=\"360\" ads=\"https://g.eclick.vn/video.xml?id=3457&amp;url=https://vnexpress.net/tin-tuc/the-gioi/phan-tich/cuoc-chien-9-ngay-voi-doi-khat-trong-hang-cua-cac-thieu-nien-thai-lan-3777228.html\" adsconfig=\"\" controls=\"\" data-240=\"https://v.vnecdn.net/vnexpress/video/web/mp4/240p/2018/07/11/cac-cau-thu-nhi-thai-lan-vay-tay-chao-tren-guong-benh-1531316902.mp4\" data-360=\"https://v.vnecdn.net/vnexpress/video/web/mp4/2018/07/11/cac-cau-thu-nhi-thai-lan-vay-tay-chao-tren-guong-benh-1531316902.mp4\" data-480=\"\" data-720=\"\" data-ex=\"st=0&amp;bs=0&amp;pt=0\" data-src=\"https://v.vnecdn.net/vnexpress/video/web/mp4/2018/07/11/cac-cau-thu-nhi-thai-lan-vay-tay-chao-tren-guong-benh-1531316902.mp4\" id=\"media-video-211027\" max-mode=\"360\" playsinline=\"\" preload=\"auto\" src=\"https://d.vnecdn.net/vnexpress/video/video/web/mp4/,240p,,/2018/07/11/cac-cau-thu-nhi-thai-lan-vay-tay-chao-tren-guong-benh-1531316902/vne/master.m3u8\" style=\"width: 100%; height: 100%;\" type=\"application/x-mpegURL\" webkit-playsinline=\"\"></video>,\n",
       " <video active-mode=\"360\" ads=\"https://g.eclick.vn/video.xml?id=3457&amp;url=https://vnexpress.net/tin-tuc/the-gioi/phan-tich/cuoc-chien-9-ngay-voi-doi-khat-trong-hang-cua-cac-thieu-nien-thai-lan-3777228.html\" adsconfig=\"\" controls=\"\" data-240=\"https://v.vnecdn.net/vnexpress/video/web/mp4/240p/2018/07/12/doi-bong-nhi-thai-khong-tu-lan-ma-nam-tren-cang-trong-qua-tr-1531352483.mp4\" data-360=\"https://v.vnecdn.net/vnexpress/video/web/mp4/2018/07/12/doi-bong-nhi-thai-khong-tu-lan-ma-nam-tren-cang-trong-qua-tr-1531352483.mp4\" data-480=\"\" data-720=\"\" data-ex=\"st=0&amp;bs=0&amp;pt=0\" data-src=\"https://v.vnecdn.net/vnexpress/video/web/mp4/2018/07/12/doi-bong-nhi-thai-khong-tu-lan-ma-nam-tren-cang-trong-qua-tr-1531352483.mp4\" id=\"media-video-211045\" max-mode=\"360\" playsinline=\"\" preload=\"auto\" src=\"https://d.vnecdn.net/vnexpress/video/video/web/mp4/,240p,,/2018/07/12/doi-bong-nhi-thai-khong-tu-lan-ma-nam-tren-cang-trong-qua-tr-1531352483/vne/master.m3u8\" style=\"width: 100%; height: 100%;\" type=\"application/x-mpegURL\" webkit-playsinline=\"\"></video>]"
      ]
     },
     "execution_count": 81,
     "metadata": {},
     "output_type": "execute_result"
    }
   ],
   "source": [
    "test1.find_all('video')"
   ]
  },
  {
   "cell_type": "code",
   "execution_count": 77,
   "metadata": {},
   "outputs": [
    {
     "data": {
      "text/plain": [
       "{'id': 'media-video-211027',\n",
       " 'preload': 'auto',\n",
       " 'playsinline': '',\n",
       " 'webkit-playsinline': '',\n",
       " 'data-src': 'https://v.vnecdn.net/vnexpress/video/web/mp4/2018/07/11/cac-cau-thu-nhi-thai-lan-vay-tay-chao-tren-guong-benh-1531316902.mp4',\n",
       " 'src': 'https://d.vnecdn.net/vnexpress/video/video/web/mp4/,240p,,/2018/07/11/cac-cau-thu-nhi-thai-lan-vay-tay-chao-tren-guong-benh-1531316902/vne/master.m3u8',\n",
       " 'type': 'application/x-mpegURL',\n",
       " 'controls': '',\n",
       " 'style': 'width: 100%; height: 100%;',\n",
       " 'data-240': 'https://v.vnecdn.net/vnexpress/video/web/mp4/240p/2018/07/11/cac-cau-thu-nhi-thai-lan-vay-tay-chao-tren-guong-benh-1531316902.mp4',\n",
       " 'data-360': 'https://v.vnecdn.net/vnexpress/video/web/mp4/2018/07/11/cac-cau-thu-nhi-thai-lan-vay-tay-chao-tren-guong-benh-1531316902.mp4',\n",
       " 'data-480': '',\n",
       " 'data-720': '',\n",
       " 'max-mode': '360',\n",
       " 'active-mode': '360',\n",
       " 'ads': 'https://g.eclick.vn/video.xml?id=3457&url=https://vnexpress.net/tin-tuc/the-gioi/phan-tich/cuoc-chien-9-ngay-voi-doi-khat-trong-hang-cua-cac-thieu-nien-thai-lan-3777228.html',\n",
       " 'adsconfig': '',\n",
       " 'data-ex': 'st=0&bs=0&pt=0'}"
      ]
     },
     "execution_count": 77,
     "metadata": {},
     "output_type": "execute_result"
    }
   ],
   "source": [
    "test1.video.attrs"
   ]
  },
  {
   "cell_type": "markdown",
   "metadata": {},
   "source": [
    "##### Main src to take for video"
   ]
  },
  {
   "cell_type": "code",
   "execution_count": 78,
   "metadata": {},
   "outputs": [
    {
     "data": {
      "text/plain": [
       "'https://v.vnecdn.net/vnexpress/video/web/mp4/2018/07/11/cac-cau-thu-nhi-thai-lan-vay-tay-chao-tren-guong-benh-1531316902.mp4'"
      ]
     },
     "execution_count": 78,
     "metadata": {},
     "output_type": "execute_result"
    }
   ],
   "source": [
    "test1.video['data-src']"
   ]
  },
  {
   "cell_type": "markdown",
   "metadata": {},
   "source": [
    "##### Images"
   ]
  },
  {
   "cell_type": "code",
   "execution_count": 80,
   "metadata": {},
   "outputs": [
    {
     "data": {
      "text/plain": [
       "[<img alt=\"Đội bóng Lợn Hoang trong một chuyến dã ngoại trước khi gặp nạn trong hang Tham Luang. Ảnh: Twitter.\" data-natural-width=\"500\" src=\"https://vcdn-vnexpress.vnecdn.net/2018/07/13/anh-1-3184-1531458767.jpg\"/>,\n",
       " <img alt=\"Các thiếu niên trú ngụ trên một mỏm đá trong hang khi được thợ lặn Anh phát hiện đêm 2/7. Ảnh: Hải quân Thái Lan.\" data-natural-width=\"500\" src=\"https://vcdn-vnexpress.vnecdn.net/2018/07/13/anh-2-9044-1531458767.jpg\"/>,\n",
       " <img alt=\"Các cầu thủ nhí Thái Lan vẫy tay chào trên gường bệnh \" src=\"https://iv.vnecdn.net/vnexpress/images/web/2018/07/11/cac-cau-thu-nhi-thai-lan-vay-tay-chao-tren-guong-benh-1531316902_500x300.jpg\"/>,\n",
       " <img alt=\"Đội bóng nhí Thái không tự lặn mà nằm trên cáng trong quá trình giải cứu\" src=\"https://iv.vnecdn.net/vnexpress/images/web/2018/07/12/doi-bong-nhi-thai-khong-tu-lan-ma-nam-tren-cang-trong-qua-tr-1531352483_500x300.jpg\"/>]"
      ]
     },
     "execution_count": 80,
     "metadata": {},
     "output_type": "execute_result"
    }
   ],
   "source": [
    "test1.find_all('img')"
   ]
  },
  {
   "cell_type": "code",
   "execution_count": 83,
   "metadata": {},
   "outputs": [
    {
     "name": "stdout",
     "output_type": "stream",
     "text": [
      "Image name: Đội bóng Lợn Hoang trong một chuyến dã ngoại trước khi gặp nạn trong hang Tham Luang. Ảnh: Twitter., src: https://vcdn-vnexpress.vnecdn.net/2018/07/13/anh-1-3184-1531458767.jpg\n",
      "Image name: Các thiếu niên trú ngụ trên một mỏm đá trong hang khi được thợ lặn Anh phát hiện đêm 2/7. Ảnh: Hải quân Thái Lan., src: https://vcdn-vnexpress.vnecdn.net/2018/07/13/anh-2-9044-1531458767.jpg\n",
      "Image name: Các cầu thủ nhí Thái Lan vẫy tay chào trên gường bệnh , src: https://iv.vnecdn.net/vnexpress/images/web/2018/07/11/cac-cau-thu-nhi-thai-lan-vay-tay-chao-tren-guong-benh-1531316902_500x300.jpg\n",
      "Image name: Đội bóng nhí Thái không tự lặn mà nằm trên cáng trong quá trình giải cứu, src: https://iv.vnecdn.net/vnexpress/images/web/2018/07/12/doi-bong-nhi-thai-khong-tu-lan-ma-nam-tren-cang-trong-qua-tr-1531352483_500x300.jpg\n"
     ]
    }
   ],
   "source": [
    "for image in test1.find_all('img'): \n",
    "    print(\"Image name: {}, src: {}\".format(image['alt'], image['src']))"
   ]
  },
  {
   "cell_type": "markdown",
   "metadata": {},
   "source": [
    "### Write these in an Excel file\n",
    "\n",
    "#### Generate the list of the respective attributes: \n",
    "- Author \n",
    "- DateTime String \n",
    "- Text\n",
    "- Short synopsis \n",
    "- Images-alt \n",
    "- Images-link \n",
    "- Video_link"
   ]
  },
  {
   "cell_type": "code",
   "execution_count": 55,
   "metadata": {},
   "outputs": [],
   "source": [
    "def get_article(query):\n",
    "    return bs(urllib.request.urlopen(query), 'html.parser').find(\"section\", attrs={\"class\":\"sidebar_1\"})\n",
    "\n",
    "class Article(object)  : \n",
    "    def __init__(self, article_soup):\n",
    "        self.article = article_soup\n",
    "        self.author = self.get_author()\n",
    "        self.datetime = self.get_datetime() \n",
    "        self.text = self.get_text()\n",
    "        self.synopsis = self.get_synopsis()\n",
    "        self.imgs = self.get_imgs() #This is a tuple of (alt, src)\n",
    "        self.videos = self.get_videos()\n",
    "    \n",
    "    def get_author(self): \n",
    "        try: \n",
    "            return self.article.strong.get_text()\n",
    "        except AttributeError: return None\n",
    "\n",
    "    def get_datetime(self): \n",
    "        try: \n",
    "            return self.article.span.get_text() \n",
    "        except AttributeError: return None\n",
    "\n",
    "    def get_text(self):     \n",
    "        try : \n",
    "            article_text = ''\n",
    "            for text in self.article.find_all('p', attrs={'class':'Normal'}):\n",
    "                article_text+= text.get_text()    \n",
    "            return article_text.replace('\\t', '').replace(u'\\xa0', u' ').replace('\\n','')        \n",
    "        except AttributeError: return None\n",
    "\n",
    "    def get_synopsis(self): \n",
    "        try: \n",
    "            return self.article.h2.get_text()\n",
    "        except AttributeError: return None \n",
    "    \n",
    "    def get_imgs(self):\n",
    "        try: \n",
    "            return {'alt': [img['alt'] for img in self.article.find_all('img')], 'src': [img['src'] for img in self.article.find_all('img')]}\n",
    "        except AttributeError: return {'alt': None, 'src': None}\n",
    "        except KeyError: return {'alt': None, 'src': None}\n",
    "    \n",
    "    def get_videos(self): \n",
    "        try: \n",
    "            return [video['data-src'] for video in self.article.find_all('video')]\n",
    "        except AttributeError: return None\n",
    "        except KeyError: return None\n",
    "    \n",
    "\n",
    "class Articles(object): \n",
    "    def __init__(self, articles_list, output_msg = False):\n",
    "        self.articles_list = articles_list\n",
    "        self.show_output_msg = output_msg\n",
    "        \n",
    "        self.titles = []\n",
    "        self.links = []\n",
    "        self.ids = []\n",
    "        self.authors = []\n",
    "        self.datetime = []\n",
    "        self.text = []\n",
    "        self.synopses = []\n",
    "        self.img_alts = []\n",
    "        self.img_links = []\n",
    "        #current_article\n",
    "        self.video_links = []\n",
    "        \n",
    "    def generate_articles_content(self): \n",
    "        \n",
    "        for link in self.articles_list.link: \n",
    "            current_article = Article(get_article(link))            \n",
    "            \n",
    "            self.titles.append(self.articles_list.title[self.articles_list.link == link].values[0])\n",
    "            self.links.append(link)\n",
    "            self.ids.append(self.articles_list.id[self.articles_list.link == link].values[0])\n",
    "            self.authors.append(current_article.author)\n",
    "            self.datetime.append(current_article.datetime)\n",
    "            self.text.append(current_article.text)\n",
    "            self.synopses.append(current_article.synopsis)\n",
    "            self.img_alts.append(current_article.imgs['alt'])\n",
    "            self.img_links.append(current_article.imgs['src'])\n",
    "            self.video_links.append(current_article.videos)\n",
    "            \n",
    "            if self.show_output_msg:\n",
    "                self.output_msg_update_article_info(current_article, self.titles[-1], self.links[-1],self.ids[-1])\n",
    "            \n",
    "        return len(self.titles) == len(self.links) == len(self.ids) == len(self.authors) == len(self.datetime) == len(self.text) == len(self.synopses) == len(self.img_alts) == len(self.img_links) == len(self.video_links)\n",
    "            \n",
    "            \n",
    "    def generate_articles_content_dict(self):\n",
    "        \n",
    "        if self.generate_articles_content(): \n",
    "        \n",
    "            return {'title': self.titles, #From filtered_result object\n",
    "                     'link':self.links, #in Articles object \n",
    "                     'id': self.ids, #from filtered_result object\n",
    "                     'author': self.authors, #attr of Article Object \n",
    "                     'datetime': self.datetime,\n",
    "                     'text': self.text,\n",
    "                     'synopsis': self.synopses,\n",
    "                     'img_alt': self.img_alts,\n",
    "                     'img_link': self.img_links,\n",
    "                     #'video_alt': self.video_alts,\n",
    "                     'video_link': self.video_links}\n",
    "        \n",
    "        else: return {}\n",
    "        \n",
    "    def output_msg_update_article_info(self, this_article, this_title, this_link, this_id):\n",
    "        print(\"==================================================={}===========================================================\".format(this_id))\n",
    "        print(\"Title: {}\".format(this_title))\n",
    "        print(\"Author: {}\".format(this_article.author))\n",
    "        print(\"Link: {}\\n\".format(this_link))\n",
    "    "
   ]
  },
  {
   "cell_type": "markdown",
   "metadata": {},
   "source": [
    "#### Create a DataFrame for storing articles\n",
    "\n",
    "Each article has the following attributes: \n",
    "- Title (from list of link dataframe)\n",
    "- Link (from list of link dataframe)\n",
    "- ID (from list of link dataframe)\n",
    "- Author \n",
    "- DateTime String \n",
    "- Text\n",
    "- Short synopsis \n",
    "- Images-alt \n",
    "- Images-link \n",
    "- Video_link\n",
    "\n",
    "##### Rewrite everything again with this addition: "
   ]
  },
  {
   "cell_type": "code",
   "execution_count": 2,
   "metadata": {},
   "outputs": [],
   "source": [
    "from bs4 import BeautifulSoup as bs \n",
    "import urllib \n",
    "import pandas as pd\n",
    "\n",
    "\n",
    "query_str = 'https://vnexpress.net/category/day/page/{}.html?cateid=1001002&fromdate=1529964000&todate=1531517760&allcate=1001002|1001002|'\n",
    "#query_str = \"https://vnexpress.net/chien-dich-giai-cuu/tag-810752-1.html\"\n",
    "\n",
    "def get_articles(query):\n",
    "    return bs(urllib.request.urlopen(query), 'html.parser').find(\"section\", attrs={\"class\":\"sidebar_1\"}).find_all(\"article\",attrs={\"class\":\"list_news\"})\n",
    "\n",
    "def distribute_articles(articles, return_type='df'):      \n",
    "    article_dict = {'title': [],\n",
    "             'link': [],\n",
    "               'description': [],\n",
    "               'id' : []}\n",
    "    \n",
    "    for article in articles: \n",
    "        #article_dict['title'].append(article.a.get('title')) # if this does not work, use the one below\n",
    "        article_dict['title'].append(article.img.get('alt'))\n",
    "        article_dict['link'].append(article.a.get('href'))\n",
    "        article_dict['description'].append(article.h4.get_text())\n",
    "        article_dict['id'].append(article.a.get('href').split('-')[-1][:-5])\n",
    "    if return_type == 'df':  \n",
    "        return pd.DataFrame(data=article_dict)\n",
    "    \n",
    "    elif return_type == 'dict':\n",
    "        return article_dict \n",
    "    \n",
    "df_list = [] \n",
    "\n",
    "for page in range(1, 23): \n",
    "    page_url = query_str.format(str(page))\n",
    "    articles = get_articles(page_url)\n",
    "    df_list.append( distribute_articles(articles))\n",
    "    \n",
    "result = pd.concat(df_list).reset_index(drop=True)\n",
    "\n",
    "kws = ['Thái Lan', 'đội bóng', 'Đội bóng', 'hang', 'mắc kẹt', 'thiếu niên']\n",
    "temp = []\n",
    "kw_filtered = [] \n",
    "\n",
    "for kw in kws: \n",
    "    for title in result.title: \n",
    "        if kw in title:  \n",
    "            temp.append(title)\n",
    "    \n",
    "    kw_filtered.append(pd.concat([result[result.title == tmp] for tmp in temp])) \n",
    "    temp =[ ]#pd.DataFrame(columns = ['title', 'link','description','id']) \n",
    "\n",
    "filtered_result = pd.concat(kw_filtered).drop_duplicates().reset_index(drop = True)"
   ]
  },
  {
   "cell_type": "code",
   "execution_count": null,
   "metadata": {},
   "outputs": [
    {
     "name": "stdout",
     "output_type": "stream",
     "text": [
      "===================================================3777298===========================================================\n",
      "Title: Những thợ lặn thành anh em sau chiến dịch giải cứu các thiếu niên Thái Lan\n",
      "Author: Ánh Ngọc\n",
      "Link: https://vnexpress.net/tin-tuc/the-gioi/tu-lieu/nhung-tho-lan-thanh-anh-em-sau-chien-dich-giai-cuu-cac-thieu-nien-thai-lan-3777298.html\n",
      "\n"
     ]
    }
   ],
   "source": [
    "art_df = {'tiltle': [], #From filtered_result object\n",
    "         'link':[], #in Articles object \n",
    "         'id': [], #from filtered_result object\n",
    "         'author': [], #attr of Article Object \n",
    "         'datetime':[],\n",
    "         'text': [],\n",
    "         'synopsis':[],\n",
    "         'img_alt':[],\n",
    "         'img_link': [],\n",
    "         'video_alt': [],\n",
    "         'video_link': []}\n",
    "\n",
    "articles_data = Articles(filtered_result)\n",
    "    \n",
    "articles_data_dict = articles_data.generate_articles_content_dict() "
   ]
  },
  {
   "cell_type": "code",
   "execution_count": null,
   "metadata": {},
   "outputs": [],
   "source": [
    "articles_data_dict.keys()"
   ]
  },
  {
   "cell_type": "code",
   "execution_count": null,
   "metadata": {},
   "outputs": [],
   "source": [
    "# Create a Pandas dataframe from the data.\n",
    "df = pd.DataFrame(data=articles_data_dict)\n",
    "\n",
    "# Create a Pandas Excel writer using XlsxWriter as the engine.\n",
    "writer = pd.ExcelWriter('artcile_vnexpress.xlsx', engine='xlsxwriter')\n",
    "\n",
    "# Convert the dataframe to an XlsxWriter Excel object.\n",
    "df.to_excel(writer, sheet_name='Sheet1')\n",
    "\n",
    "# Close the Pandas Excel writer and output the Excel file.\n",
    "writer.save()"
   ]
  },
  {
   "cell_type": "code",
   "execution_count": 43,
   "metadata": {},
   "outputs": [
    {
     "data": {
      "text/plain": [
       "'https://vnexpress.net/tin-tuc/the-gioi/phan-tich/18-ngay-thuc-hien-nhiem-vu-bat-kha-thi-giai-cuu-cac-thieu-nien-thai-lan-3776032.html'"
      ]
     },
     "execution_count": 43,
     "metadata": {},
     "output_type": "execute_result"
    }
   ],
   "source": [
    "filtered_result.link[16]"
   ]
  },
  {
   "cell_type": "code",
   "execution_count": 30,
   "metadata": {},
   "outputs": [],
   "source": [
    "a = [1,2,4,543,7,8,34,1,65,7,93,12,21]"
   ]
  },
  {
   "cell_type": "code",
   "execution_count": 33,
   "metadata": {},
   "outputs": [
    {
     "data": {
      "text/plain": [
       "21"
      ]
     },
     "execution_count": 33,
     "metadata": {},
     "output_type": "execute_result"
    }
   ],
   "source": [
    "a[-1]"
   ]
  },
  {
   "cell_type": "code",
   "execution_count": 44,
   "metadata": {},
   "outputs": [],
   "source": [
    "test2 = get_article('https://vnexpress.net/tin-tuc/the-gioi/phan-tich/cuoc-chien-9-ngay-voi-doi-khat-trong-hang-cua-cac-thieu-nien-thai-lan-3777228.html')"
   ]
  },
  {
   "cell_type": "code",
   "execution_count": 46,
   "metadata": {},
   "outputs": [
    {
     "data": {
      "text/plain": [
       "'Nước chảy ra từ thạch nhũ trong hang và phương pháp thiền định đã giúp đội bóng Lợn Hoang sống sót trong 9 ngày đầu tiên mắc kẹt.'"
      ]
     },
     "execution_count": 46,
     "metadata": {},
     "output_type": "execute_result"
    }
   ],
   "source": [
    "test2.h2.get_text()"
   ]
  },
  {
   "cell_type": "code",
   "execution_count": null,
   "metadata": {},
   "outputs": [],
   "source": []
  }
 ],
 "metadata": {
  "kernelspec": {
   "display_name": "Python 3",
   "language": "python",
   "name": "python3"
  },
  "language_info": {
   "codemirror_mode": {
    "name": "ipython",
    "version": 3
   },
   "file_extension": ".py",
   "mimetype": "text/x-python",
   "name": "python",
   "nbconvert_exporter": "python",
   "pygments_lexer": "ipython3",
   "version": "3.6.5"
  }
 },
 "nbformat": 4,
 "nbformat_minor": 2
}
