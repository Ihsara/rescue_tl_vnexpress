{
 "cells": [
  {
   "cell_type": "code",
   "execution_count": 4,
   "metadata": {},
   "outputs": [],
   "source": [
    "from bs4 import BeautifulSoup as bs \n",
    "import urllib \n",
    "import pandas as pd\n",
    "\n",
    "\n",
    "query_str = 'https://vnexpress.net/category/day/page/{}.html?cateid=1001002&fromdate=1529964000&todate=1531431360&allcate=1001002||'\n",
    "#query_str = \"https://vnexpress.net/chien-dich-giai-cuu/tag-810752-1.html\""
   ]
  },
  {
   "cell_type": "markdown",
   "metadata": {},
   "source": [
    "# Get some articles from 'World news' category from 26/6 to 12/7"
   ]
  },
  {
   "cell_type": "markdown",
   "metadata": {},
   "source": [
    "#### Return a bs object after extracting the articles from the webpage"
   ]
  },
  {
   "cell_type": "code",
   "execution_count": 5,
   "metadata": {},
   "outputs": [],
   "source": [
    "def get_articles(query):\n",
    "    return bs(urllib.request.urlopen(query), 'html.parser').find(\"section\", attrs={\"class\":\"sidebar_1\"}).find_all(\"article\",attrs={\"class\":\"list_news\"})"
   ]
  },
  {
   "cell_type": "markdown",
   "metadata": {},
   "source": [
    "#### Turn to a data object for processing"
   ]
  },
  {
   "cell_type": "code",
   "execution_count": 6,
   "metadata": {},
   "outputs": [],
   "source": [
    "def distribute_articles(articles, return_type='df'):      \n",
    "    article_dict = {'title': [],\n",
    "             'link': [],\n",
    "               'description': [],\n",
    "               'id' : []}\n",
    "    \n",
    "    for article in articles: \n",
    "        #article_dict['title'].append(article.a.get('title')) # if this does not work, use the one below\n",
    "        article_dict['title'].append(article.img.get('alt'))\n",
    "        article_dict['link'].append(article.a.get('href'))\n",
    "        article_dict['description'].append(article.h4.get_text())\n",
    "        article_dict['id'].append(article.a.get('href').split('-')[-1][:-5])\n",
    "    if return_type == 'df':  \n",
    "        return pd.DataFrame(data=article_dict)\n",
    "    \n",
    "    elif return_type == 'dict':\n",
    "        return article_dict "
   ]
  },
  {
   "cell_type": "markdown",
   "metadata": {},
   "source": [
    "#### This is where the real actions begin\n",
    "\n",
    "result will be the df containing basic info about the articles headlines in vnexpress from 26/6 to 12/7"
   ]
  },
  {
   "cell_type": "code",
   "execution_count": 52,
   "metadata": {},
   "outputs": [],
   "source": [
    "df_list = [] \n",
    "\n",
    "for page in range(1, 21): \n",
    "    page_url = query_str.format(str(page))\n",
    "    articles = get_articles(page_url)\n",
    "    df_list.append( distribute_articles(articles))\n",
    "    \n",
    "result = pd.concat(df_list).reset_index(drop=True)"
   ]
  },
  {
   "cell_type": "markdown",
   "metadata": {},
   "source": [
    "# Filter news with specified keywords"
   ]
  },
  {
   "cell_type": "code",
   "execution_count": 50,
   "metadata": {},
   "outputs": [],
   "source": [
    "kws = ['Thái Lan', 'đội bóng', 'Đội bóng', 'hang', 'mắc kẹt', 'thiếu niên']\n",
    "temp = []\n",
    "kw_filtered = [] \n",
    "\n",
    "for kw in kws: \n",
    "    for title in result.title: \n",
    "        if kw in title: \n",
    "            temp.append(title)\n",
    "    \n",
    "    kw_filtered.append(pd.concat([result[result.title == tmp] for tmp in temp])) \n",
    "    temp =[ ]#pd.DataFrame(columns = ['title', 'link','description','id']) \n",
    "\n",
    "filtered_result = pd.concat(kw_filtered).drop_duplicates() \n"
   ]
  }
 ],
 "metadata": {
  "kernelspec": {
   "display_name": "Python 3",
   "language": "python",
   "name": "python3"
  },
  "language_info": {
   "codemirror_mode": {
    "name": "ipython",
    "version": 3
   },
   "file_extension": ".py",
   "mimetype": "text/x-python",
   "name": "python",
   "nbconvert_exporter": "python",
   "pygments_lexer": "ipython3",
   "version": "3.6.5"
  }
 },
 "nbformat": 4,
 "nbformat_minor": 2
}
